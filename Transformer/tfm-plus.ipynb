{
 "cells": [
  {
   "cell_type": "code",
   "execution_count": 1,
   "metadata": {
    "execution": {
     "iopub.execute_input": "2024-12-13T18:31:18.641733Z",
     "iopub.status.busy": "2024-12-13T18:31:18.641319Z",
     "iopub.status.idle": "2024-12-13T18:31:21.579818Z",
     "shell.execute_reply": "2024-12-13T18:31:21.578874Z",
     "shell.execute_reply.started": "2024-12-13T18:31:18.641697Z"
    },
    "trusted": true
   },
   "outputs": [],
   "source": [
    "import torch\n",
    "import torch.nn as nn\n",
    "import math"
   ]
  },
  {
   "cell_type": "code",
   "execution_count": 2,
   "metadata": {
    "execution": {
     "iopub.execute_input": "2024-12-13T18:31:21.582330Z",
     "iopub.status.busy": "2024-12-13T18:31:21.581599Z",
     "iopub.status.idle": "2024-12-13T18:31:21.644599Z",
     "shell.execute_reply": "2024-12-13T18:31:21.643583Z",
     "shell.execute_reply.started": "2024-12-13T18:31:21.582289Z"
    },
    "trusted": true
   },
   "outputs": [],
   "source": [
    "device = torch.device(\"cuda\" if torch.cuda.is_available() else \"cpu\")"
   ]
  },
  {
   "cell_type": "code",
   "execution_count": 3,
   "metadata": {
    "execution": {
     "iopub.execute_input": "2024-12-13T18:31:21.645875Z",
     "iopub.status.busy": "2024-12-13T18:31:21.645620Z",
     "iopub.status.idle": "2024-12-13T18:31:21.658027Z",
     "shell.execute_reply": "2024-12-13T18:31:21.657311Z",
     "shell.execute_reply.started": "2024-12-13T18:31:21.645851Z"
    },
    "trusted": true
   },
   "outputs": [],
   "source": [
    "class LayerNormalization(nn.Module):\n",
    "\n",
    "    def __init__(self, features: int, eps:float=10**-6) -> None:\n",
    "        super().__init__()\n",
    "        self.eps = eps\n",
    "        self.alpha = nn.Parameter(torch.ones(features)) # alpha is a learnable parameter\n",
    "        self.bias = nn.Parameter(torch.zeros(features)) # bias is a learnable parameter\n",
    "\n",
    "    def forward(self, x):\n",
    "        # x: (batch, seq_len, hidden_size)\n",
    "         # Keep the dimension for broadcasting\n",
    "        mean = x.mean(dim = -1, keepdim = True) # (batch, seq_len, 1)\n",
    "        # Keep the dimension for broadcasting\n",
    "        std = x.std(dim = -1, keepdim = True) # (batch, seq_len, 1)\n",
    "        # eps is to prevent dividing by zero or when std is very small\n",
    "        return self.alpha * (x - mean) / (std + self.eps) + self.bias"
   ]
  },
  {
   "cell_type": "code",
   "execution_count": 4,
   "metadata": {
    "execution": {
     "iopub.execute_input": "2024-12-13T18:31:21.660488Z",
     "iopub.status.busy": "2024-12-13T18:31:21.660146Z",
     "iopub.status.idle": "2024-12-13T18:31:21.669256Z",
     "shell.execute_reply": "2024-12-13T18:31:21.668625Z",
     "shell.execute_reply.started": "2024-12-13T18:31:21.660450Z"
    },
    "trusted": true
   },
   "outputs": [],
   "source": [
    "class FeedForwardBlock(nn.Module):\n",
    "\n",
    "    def __init__(self, d_model: int, d_ff: int, dropout: float) -> None:\n",
    "        super().__init__()\n",
    "        self.linear_1 = nn.Linear(d_model, d_ff) # w1 and b1\n",
    "        self.dropout = nn.Dropout(dropout)\n",
    "        self.linear_2 = nn.Linear(d_ff, d_model) # w2 and b2\n",
    "\n",
    "    def forward(self, x):\n",
    "        # (batch, seq_len, d_model) --> (batch, seq_len, d_ff) --> (batch, seq_len, d_model)\n",
    "        return self.linear_2(self.dropout(torch.relu(self.linear_1(x))))"
   ]
  },
  {
   "cell_type": "code",
   "execution_count": 5,
   "metadata": {
    "execution": {
     "iopub.execute_input": "2024-12-13T18:31:21.670462Z",
     "iopub.status.busy": "2024-12-13T18:31:21.670201Z",
     "iopub.status.idle": "2024-12-13T18:31:21.681473Z",
     "shell.execute_reply": "2024-12-13T18:31:21.680714Z",
     "shell.execute_reply.started": "2024-12-13T18:31:21.670427Z"
    },
    "trusted": true
   },
   "outputs": [],
   "source": [
    "class InputEmbeddings(nn.Module):\n",
    "\n",
    "    def __init__(self, d_model: int, vocab_size: int) -> None:\n",
    "        super().__init__()\n",
    "        self.d_model = d_model\n",
    "        self.vocab_size = vocab_size\n",
    "        self.embedding = nn.Embedding(vocab_size, d_model)\n",
    "\n",
    "    def forward(self, x):\n",
    "        # (batch, seq_len) --> (batch, seq_len, d_model)\n",
    "        # Multiply by sqrt(d_model) to scale the embeddings according to the paper\n",
    "        return self.embedding(x) * math.sqrt(self.d_model)"
   ]
  },
  {
   "cell_type": "code",
   "execution_count": 6,
   "metadata": {
    "execution": {
     "iopub.execute_input": "2024-12-13T18:31:21.682552Z",
     "iopub.status.busy": "2024-12-13T18:31:21.682262Z",
     "iopub.status.idle": "2024-12-13T18:31:21.692073Z",
     "shell.execute_reply": "2024-12-13T18:31:21.691446Z",
     "shell.execute_reply.started": "2024-12-13T18:31:21.682528Z"
    },
    "trusted": true
   },
   "outputs": [],
   "source": [
    "class PositionalEncoding(nn.Module):\n",
    "\n",
    "    def __init__(self, d_model: int, seq_len: int, dropout: float) -> None:\n",
    "        super().__init__()\n",
    "        self.d_model = d_model\n",
    "        self.seq_len = seq_len\n",
    "        self.dropout = nn.Dropout(dropout)\n",
    "        # Create a matrix of shape (seq_len, d_model)\n",
    "        pe = torch.zeros(seq_len, d_model)\n",
    "        # Create a vector of shape (seq_len)\n",
    "        position = torch.arange(0, seq_len, dtype=torch.float).unsqueeze(1) # (seq_len, 1)\n",
    "        # Create a vector of shape (d_model)\n",
    "        div_term = torch.exp(torch.arange(0, d_model, 2).float() * (-math.log(10000.0) / d_model)) # (d_model / 2)\n",
    "        # Apply sine to even indices\n",
    "        pe[:, 0::2] = torch.sin(position * div_term) # sin(position * (10000 ** (2i / d_model))\n",
    "        # Apply cosine to odd indices\n",
    "        pe[:, 1::2] = torch.cos(position * div_term) # cos(position * (10000 ** (2i / d_model))\n",
    "        # Add a batch dimension to the positional encoding\n",
    "        pe = pe.unsqueeze(0) # (1, seq_len, d_model)\n",
    "        # Register the positional encoding as a buffer\n",
    "        self.register_buffer('pe', pe)\n",
    "\n",
    "    def forward(self, x):\n",
    "        x = x + (self.pe[:, :x.shape[1], :]).requires_grad_(False) # (batch, seq_len, d_model)\n",
    "        return self.dropout(x)"
   ]
  },
  {
   "cell_type": "code",
   "execution_count": 7,
   "metadata": {
    "execution": {
     "iopub.execute_input": "2024-12-13T18:31:21.693109Z",
     "iopub.status.busy": "2024-12-13T18:31:21.692897Z",
     "iopub.status.idle": "2024-12-13T18:31:21.708231Z",
     "shell.execute_reply": "2024-12-13T18:31:21.707634Z",
     "shell.execute_reply.started": "2024-12-13T18:31:21.693087Z"
    },
    "trusted": true
   },
   "outputs": [],
   "source": [
    "class MultiHeadAttentionBlock(nn.Module):\n",
    "\n",
    "    def __init__(self, d_model: int, h: int, dropout: float) -> None:\n",
    "        super().__init__()\n",
    "        self.d_model = d_model # Embedding vector size\n",
    "        self.h = h # Number of heads\n",
    "        # Make sure d_model is divisible by h\n",
    "        assert d_model % h == 0, \"d_model is not divisible by h\"\n",
    "\n",
    "        self.d_k = d_model // h # Dimension of vector seen by each head\n",
    "        self.w_q = nn.Linear(d_model, d_model, bias=False) # Wq\n",
    "        self.w_k = nn.Linear(d_model, d_model, bias=False) # Wk\n",
    "        self.w_v = nn.Linear(d_model, d_model, bias=False) # Wv\n",
    "        self.w_o = nn.Linear(d_model, d_model, bias=False) # Wo\n",
    "        self.dropout = nn.Dropout(dropout)\n",
    "\n",
    "    @staticmethod\n",
    "    def attention(query, key, value, mask, dropout: nn.Dropout):\n",
    "        d_k = query.shape[-1]\n",
    "        # Just apply the formula from the paper\n",
    "        # (batch, h, seq_len, d_k) --> (batch, h, seq_len, seq_len)\n",
    "        attention_scores = (query @ key.transpose(-2, -1)) / math.sqrt(d_k)\n",
    "        if mask is not None:\n",
    "            # Write a very low value (indicating -inf) to the positions where mask == 0\n",
    "            attention_scores.masked_fill_(mask == 0, -1e9)\n",
    "        attention_scores = attention_scores.softmax(dim=-1) # (batch, h, seq_len, seq_len) # Apply softmax\n",
    "        if dropout is not None:\n",
    "            attention_scores = dropout(attention_scores)\n",
    "        # (batch, h, seq_len, seq_len) --> (batch, h, seq_len, d_k)\n",
    "        # return attention scores which can be used for visualization\n",
    "        return (attention_scores @ value), attention_scores\n",
    "\n",
    "    def forward(self, q, k, v, mask):\n",
    "        query = self.w_q(q) # (batch, seq_len, d_model) --> (batch, seq_len, d_model)\n",
    "        key = self.w_k(k) # (batch, seq_len, d_model) --> (batch, seq_len, d_model)\n",
    "        value = self.w_v(v) # (batch, seq_len, d_model) --> (batch, seq_len, d_model)\n",
    "\n",
    "        # (batch, seq_len, d_model) --> (batch, seq_len, h, d_k) --> (batch, h, seq_len, d_k)\n",
    "        query = query.view(query.shape[0], query.shape[1], self.h, self.d_k).transpose(1, 2)\n",
    "        key = key.view(key.shape[0], key.shape[1], self.h, self.d_k).transpose(1, 2)\n",
    "        value = value.view(value.shape[0], value.shape[1], self.h, self.d_k).transpose(1, 2)\n",
    "\n",
    "        # Calculate attention\n",
    "        x, self.attention_scores = MultiHeadAttentionBlock.attention(query, key, value, mask, self.dropout)\n",
    "        \n",
    "        # Combine all the heads together\n",
    "        # (batch, h, seq_len, d_k) --> (batch, seq_len, h, d_k) --> (batch, seq_len, d_model)\n",
    "        x = x.transpose(1, 2).contiguous().view(x.shape[0], -1, self.h * self.d_k)\n",
    "\n",
    "        # Multiply by Wo\n",
    "        # (batch, seq_len, d_model) --> (batch, seq_len, d_model)  \n",
    "        return self.w_o(x)\n"
   ]
  },
  {
   "cell_type": "code",
   "execution_count": 8,
   "metadata": {
    "execution": {
     "iopub.execute_input": "2024-12-13T18:31:21.709384Z",
     "iopub.status.busy": "2024-12-13T18:31:21.709142Z",
     "iopub.status.idle": "2024-12-13T18:31:21.722788Z",
     "shell.execute_reply": "2024-12-13T18:31:21.722103Z",
     "shell.execute_reply.started": "2024-12-13T18:31:21.709362Z"
    },
    "trusted": true
   },
   "outputs": [],
   "source": [
    "class ResidualConnection(nn.Module):\n",
    "    \n",
    "        def __init__(self, features: int, dropout: float) -> None:\n",
    "            super().__init__()\n",
    "            self.dropout = nn.Dropout(dropout)\n",
    "            self.norm = LayerNormalization(features)\n",
    "    \n",
    "        def forward(self, x, sublayer):\n",
    "            return x + self.dropout(sublayer(self.norm(x)))"
   ]
  },
  {
   "cell_type": "code",
   "execution_count": 9,
   "metadata": {
    "execution": {
     "iopub.execute_input": "2024-12-13T18:31:21.724207Z",
     "iopub.status.busy": "2024-12-13T18:31:21.723800Z",
     "iopub.status.idle": "2024-12-13T18:31:21.737568Z",
     "shell.execute_reply": "2024-12-13T18:31:21.736687Z",
     "shell.execute_reply.started": "2024-12-13T18:31:21.724173Z"
    },
    "trusted": true
   },
   "outputs": [],
   "source": [
    "class EncoderBlock(nn.Module):\n",
    "\n",
    "    def __init__(self, features: int, self_attention_block: MultiHeadAttentionBlock, feed_forward_block: FeedForwardBlock, dropout: float) -> None:\n",
    "        super().__init__()\n",
    "        self.self_attention_block = self_attention_block\n",
    "        self.feed_forward_block = feed_forward_block\n",
    "        self.residual_connections = nn.ModuleList([ResidualConnection(features, dropout) for _ in range(2)])\n",
    "\n",
    "    def forward(self, x, src_mask):\n",
    "        x = self.residual_connections[0](x, lambda x: self.self_attention_block(x, x, x, src_mask))\n",
    "        x = self.residual_connections[1](x, self.feed_forward_block)\n",
    "        return x"
   ]
  },
  {
   "cell_type": "code",
   "execution_count": 10,
   "metadata": {
    "execution": {
     "iopub.execute_input": "2024-12-13T18:31:21.740114Z",
     "iopub.status.busy": "2024-12-13T18:31:21.739876Z",
     "iopub.status.idle": "2024-12-13T18:31:21.748928Z",
     "shell.execute_reply": "2024-12-13T18:31:21.748058Z",
     "shell.execute_reply.started": "2024-12-13T18:31:21.740091Z"
    },
    "trusted": true
   },
   "outputs": [],
   "source": [
    "class Encoder(nn.Module):\n",
    "\n",
    "    def __init__(self, features: int, layers: nn.ModuleList) -> None:\n",
    "        super().__init__()\n",
    "        self.layers = layers\n",
    "        self.norm = LayerNormalization(features)\n",
    "\n",
    "    def forward(self, x, mask):\n",
    "        for layer in self.layers:\n",
    "            x = layer(x, mask)\n",
    "        return self.norm(x)"
   ]
  },
  {
   "cell_type": "code",
   "execution_count": 11,
   "metadata": {
    "execution": {
     "iopub.execute_input": "2024-12-13T18:31:21.750022Z",
     "iopub.status.busy": "2024-12-13T18:31:21.749813Z",
     "iopub.status.idle": "2024-12-13T18:31:21.759923Z",
     "shell.execute_reply": "2024-12-13T18:31:21.759055Z",
     "shell.execute_reply.started": "2024-12-13T18:31:21.750001Z"
    },
    "trusted": true
   },
   "outputs": [],
   "source": [
    "import torch\n",
    "import torch.nn as nn\n",
    "import math\n",
    "\n",
    "# Reuse the existing components: InputEmbeddings, PositionalEncoding, LayerNormalization, etc.\n",
    "# Modify only the components necessary for classification.\n",
    "\n",
    "class TransformerEncoderClassifier(nn.Module):\n",
    "    def __init__(self, \n",
    "                 src_vocab_size: int, \n",
    "                 src_seq_len: int, \n",
    "                 d_model: int, \n",
    "                 N: int, \n",
    "                 h: int, \n",
    "                 d_ff: int, \n",
    "                 num_classes: int, \n",
    "                 dropout: float = 0.1):\n",
    "        super().__init__()\n",
    "        # Input embedding and positional encoding\n",
    "        self.src_embed = InputEmbeddings(d_model, src_vocab_size)\n",
    "        self.src_pos = PositionalEncoding(d_model, src_seq_len, dropout)\n",
    "\n",
    "        # Transformer encoder\n",
    "        encoder_blocks = []\n",
    "        for _ in range(N):\n",
    "            self_attention_block = MultiHeadAttentionBlock(d_model, h, dropout)\n",
    "            feed_forward_block = FeedForwardBlock(d_model, d_ff, dropout)\n",
    "            encoder_block = EncoderBlock(d_model, self_attention_block, feed_forward_block, dropout)\n",
    "            encoder_blocks.append(encoder_block)\n",
    "        self.encoder = Encoder(d_model, nn.ModuleList(encoder_blocks))\n",
    "        \n",
    "        # Classification head\n",
    "        self.classifier = nn.Sequential(\n",
    "            nn.Linear(d_model, d_model // 2),\n",
    "            nn.ReLU(),\n",
    "            nn.Dropout(dropout),\n",
    "            nn.Linear(d_model // 2, num_classes)\n",
    "        )\n",
    "    \n",
    "    def forward(self, src, src_mask):\n",
    "        # Embed and encode the input\n",
    "        src = self.src_embed(src)  # (batch, seq_len, d_model)\n",
    "        src = self.src_pos(src)    # (batch, seq_len, d_model)\n",
    "        encoder_output = self.encoder(src, src_mask)  # (batch, seq_len, d_model)\n",
    "\n",
    "        # Aggregate features for classification\n",
    "        # Mean pooling over the sequence length\n",
    "        pooled_output = encoder_output.mean(dim=1)  # (batch, d_model)\n",
    "\n",
    "        # Classification\n",
    "        return self.classifier(pooled_output)\n",
    "\n",
    "# Utility to create masks\n",
    "def create_padding_mask(input_tensor, pad_token_idx):\n",
    "    return (input_tensor != pad_token_idx).unsqueeze(1).unsqueeze(2)  # (batch, 1, 1, seq_len)\n",
    "\n",
    "# Hyperparameters and training setup\n",
    "# src_vocab_size = 20000  # Adjust based on your dataset's vocabulary size\n",
    "# src_seq_len = 512       # Maximum sequence length for a paragraph\n",
    "# d_model = 256           # Embedding size\n",
    "# N = 6                   # Number of encoder layers\n",
    "# h = 8                   # Number of attention heads\n",
    "# d_ff = 1024             # Feedforward network size\n",
    "# num_classes = 14        # Number of topic classes\n",
    "# dropout = 0.1\n",
    "\n",
    "# # Instantiate the model\n",
    "# model = TransformerEncoderClassifier(\n",
    "#     src_vocab_size=src_vocab_size,\n",
    "#     src_seq_len=src_seq_len,\n",
    "#     d_model=d_model,\n",
    "#     N=N,\n",
    "#     h=h,\n",
    "#     d_ff=d_ff,\n",
    "#     num_classes=num_classes,\n",
    "#     dropout=dropout\n",
    "# )\n",
    "\n",
    "# # Loss and optimizer\n",
    "# criterion = nn.CrossEntropyLoss()\n",
    "# optimizer = torch.optim.Adam(model.parameters(), lr=0.001)\n",
    "\n",
    "# # Dummy training loop\n",
    "# def train_model(model, train_loader, num_epochs=10):\n",
    "#     model.train()\n",
    "#     for epoch in range(num_epochs):\n",
    "#         for batch in train_loader:\n",
    "#             paragraphs, labels = batch\n",
    "#             optimizer.zero_grad()\n",
    "            \n",
    "#             # Create masks (assuming 0 is the PAD token)\n",
    "#             src_mask = create_padding_mask(paragraphs, pad_token_idx=0)\n",
    "            \n",
    "#             # Forward pass\n",
    "#             outputs = model(paragraphs, src_mask)  # (batch, num_classes)\n",
    "            \n",
    "#             # Compute loss\n",
    "#             loss = criterion(outputs, labels)\n",
    "#             loss.backward()\n",
    "#             optimizer.step()\n",
    "        \n",
    "#         print(f\"Epoch {epoch+1}/{num_epochs}, Loss: {loss.item():.4f}\")\n",
    "\n"
   ]
  },
  {
   "cell_type": "code",
   "execution_count": 12,
   "metadata": {
    "execution": {
     "iopub.execute_input": "2024-12-13T18:31:21.761211Z",
     "iopub.status.busy": "2024-12-13T18:31:21.760893Z",
     "iopub.status.idle": "2024-12-13T18:31:22.131064Z",
     "shell.execute_reply": "2024-12-13T18:31:22.129845Z",
     "shell.execute_reply.started": "2024-12-13T18:31:21.761168Z"
    },
    "trusted": true
   },
   "outputs": [],
   "source": [
    "import numpy as np\n",
    "import pandas as pd\n",
    "import torch \n",
    "import torch.nn as nn"
   ]
  },
  {
   "cell_type": "code",
   "execution_count": 14,
   "metadata": {
    "execution": {
     "iopub.execute_input": "2024-12-13T18:31:22.139338Z",
     "iopub.status.busy": "2024-12-13T18:31:22.139025Z",
     "iopub.status.idle": "2024-12-13T18:31:22.518954Z",
     "shell.execute_reply": "2024-12-13T18:31:22.518148Z",
     "shell.execute_reply.started": "2024-12-13T18:31:22.139303Z"
    },
    "trusted": true
   },
   "outputs": [
    {
     "data": {
      "text/html": [
       "<div>\n",
       "<style scoped>\n",
       "    .dataframe tbody tr th:only-of-type {\n",
       "        vertical-align: middle;\n",
       "    }\n",
       "\n",
       "    .dataframe tbody tr th {\n",
       "        vertical-align: top;\n",
       "    }\n",
       "\n",
       "    .dataframe thead th {\n",
       "        text-align: right;\n",
       "    }\n",
       "</style>\n",
       "<table border=\"1\" class=\"dataframe\">\n",
       "  <thead>\n",
       "    <tr style=\"text-align: right;\">\n",
       "      <th></th>\n",
       "      <th>Unnamed: 0</th>\n",
       "      <th>Paragraph</th>\n",
       "      <th>Topic</th>\n",
       "    </tr>\n",
       "  </thead>\n",
       "  <tbody>\n",
       "    <tr>\n",
       "      <th>0</th>\n",
       "      <td>0</td>\n",
       "      <td>khoảng thiếu_niên ngụ xã thượng quận thị_xã ki...</td>\n",
       "      <td>0</td>\n",
       "    </tr>\n",
       "    <tr>\n",
       "      <th>1</th>\n",
       "      <td>1</td>\n",
       "      <td>hai xe đối_đầu tạo tiếng_động mạnh ba người đi...</td>\n",
       "      <td>0</td>\n",
       "    </tr>\n",
       "    <tr>\n",
       "      <th>2</th>\n",
       "      <td>2</td>\n",
       "      <td>camera hành_trình của ôtô đi trên đoạn đường đ...</td>\n",
       "      <td>0</td>\n",
       "    </tr>\n",
       "    <tr>\n",
       "      <th>3</th>\n",
       "      <td>3</td>\n",
       "      <td>camera hành_trình ghi lại vụ tai_nạn sáng</td>\n",
       "      <td>0</td>\n",
       "    </tr>\n",
       "    <tr>\n",
       "      <th>4</th>\n",
       "      <td>4</td>\n",
       "      <td>đoạn đường xảy ra tai_nạn không có dải_phân_cá...</td>\n",
       "      <td>0</td>\n",
       "    </tr>\n",
       "    <tr>\n",
       "      <th>...</th>\n",
       "      <td>...</td>\n",
       "      <td>...</td>\n",
       "      <td>...</td>\n",
       "    </tr>\n",
       "    <tr>\n",
       "      <th>29995</th>\n",
       "      <td>29995</td>\n",
       "      <td>tiếc thay đó cũng không phải lần cuối rắc_rối ...</td>\n",
       "      <td>14</td>\n",
       "    </tr>\n",
       "    <tr>\n",
       "      <th>29996</th>\n",
       "      <td>29996</td>\n",
       "      <td>ngày thắng kiện tôi lặng_lẽ về dọn đồ của mẹ r...</td>\n",
       "      <td>14</td>\n",
       "    </tr>\n",
       "    <tr>\n",
       "      <th>29997</th>\n",
       "      <td>29997</td>\n",
       "      <td>từ lúc hiểu ra_điều đó tôi đã hoàn_toàn buông_...</td>\n",
       "      <td>14</td>\n",
       "    </tr>\n",
       "    <tr>\n",
       "      <th>29998</th>\n",
       "      <td>29998</td>\n",
       "      <td>hiện_nay nhiều người có cái nhìn khá phiến_diệ...</td>\n",
       "      <td>14</td>\n",
       "    </tr>\n",
       "    <tr>\n",
       "      <th>29999</th>\n",
       "      <td>29999</td>\n",
       "      <td>đầu_tiên cần nhìn_nhận rằng suy_thoái kinh_tế ...</td>\n",
       "      <td>14</td>\n",
       "    </tr>\n",
       "  </tbody>\n",
       "</table>\n",
       "<p>30000 rows × 3 columns</p>\n",
       "</div>"
      ],
      "text/plain": [
       "       Unnamed: 0                                          Paragraph  Topic\n",
       "0               0  khoảng thiếu_niên ngụ xã thượng quận thị_xã ki...      0\n",
       "1               1  hai xe đối_đầu tạo tiếng_động mạnh ba người đi...      0\n",
       "2               2  camera hành_trình của ôtô đi trên đoạn đường đ...      0\n",
       "3               3          camera hành_trình ghi lại vụ tai_nạn sáng      0\n",
       "4               4  đoạn đường xảy ra tai_nạn không có dải_phân_cá...      0\n",
       "...           ...                                                ...    ...\n",
       "29995       29995  tiếc thay đó cũng không phải lần cuối rắc_rối ...     14\n",
       "29996       29996  ngày thắng kiện tôi lặng_lẽ về dọn đồ của mẹ r...     14\n",
       "29997       29997  từ lúc hiểu ra_điều đó tôi đã hoàn_toàn buông_...     14\n",
       "29998       29998  hiện_nay nhiều người có cái nhìn khá phiến_diệ...     14\n",
       "29999       29999  đầu_tiên cần nhìn_nhận rằng suy_thoái kinh_tế ...     14\n",
       "\n",
       "[30000 rows x 3 columns]"
      ]
     },
     "execution_count": 14,
     "metadata": {},
     "output_type": "execute_result"
    }
   ],
   "source": [
    "data = pd.read_csv('/kaggle/input/pre-data/preprocessed_data.csv')\n",
    "data "
   ]
  },
  {
   "cell_type": "code",
   "execution_count": 18,
   "metadata": {
    "execution": {
     "iopub.execute_input": "2024-12-13T18:31:22.549098Z",
     "iopub.status.busy": "2024-12-13T18:31:22.548844Z",
     "iopub.status.idle": "2024-12-13T18:31:22.561565Z",
     "shell.execute_reply": "2024-12-13T18:31:22.560641Z",
     "shell.execute_reply.started": "2024-12-13T18:31:22.549075Z"
    },
    "trusted": true
   },
   "outputs": [],
   "source": [
    "import torch.nn.functional as F\n",
    "from torch.utils.data import DataLoader, Dataset\n",
    "import numpy as np\n"
   ]
  },
  {
   "cell_type": "code",
   "execution_count": 19,
   "metadata": {
    "execution": {
     "iopub.execute_input": "2024-12-13T18:31:22.562978Z",
     "iopub.status.busy": "2024-12-13T18:31:22.562750Z",
     "iopub.status.idle": "2024-12-13T18:31:26.153270Z",
     "shell.execute_reply": "2024-12-13T18:31:26.152327Z",
     "shell.execute_reply.started": "2024-12-13T18:31:22.562955Z"
    },
    "trusted": true
   },
   "outputs": [
    {
     "data": {
      "application/vnd.jupyter.widget-view+json": {
       "model_id": "6d7f19ce0544475c95d13f2a7cda33c5",
       "version_major": 2,
       "version_minor": 0
      },
      "text/plain": [
       "config.json:   0%|          | 0.00/678 [00:00<?, ?B/s]"
      ]
     },
     "metadata": {},
     "output_type": "display_data"
    },
    {
     "data": {
      "application/vnd.jupyter.widget-view+json": {
       "model_id": "11a39600861b460e890dd1a96676edaf",
       "version_major": 2,
       "version_minor": 0
      },
      "text/plain": [
       "vocab.txt:   0%|          | 0.00/895k [00:00<?, ?B/s]"
      ]
     },
     "metadata": {},
     "output_type": "display_data"
    },
    {
     "data": {
      "application/vnd.jupyter.widget-view+json": {
       "model_id": "10333f07cc804f849481a672a81722e0",
       "version_major": 2,
       "version_minor": 0
      },
      "text/plain": [
       "bpe.codes:   0%|          | 0.00/1.14M [00:00<?, ?B/s]"
      ]
     },
     "metadata": {},
     "output_type": "display_data"
    },
    {
     "data": {
      "application/vnd.jupyter.widget-view+json": {
       "model_id": "89c383c358cd49789a403f354d63010f",
       "version_major": 2,
       "version_minor": 0
      },
      "text/plain": [
       "tokenizer.json:   0%|          | 0.00/3.13M [00:00<?, ?B/s]"
      ]
     },
     "metadata": {},
     "output_type": "display_data"
    }
   ],
   "source": [
    "from sklearn.model_selection import train_test_split\n",
    "from transformers import AutoTokenizer\n",
    "\n",
    "\n",
    "# Load the PhoBERT tokenizer\n",
    "tokenizer = AutoTokenizer.from_pretrained(\"vinai/phobert-base-v2\")\n",
    "\n",
    "\n",
    "\n",
    "# Hyperparameters and training setup\n",
    "max_len = 15\n",
    "src_vocab_size = tokenizer.vocab_size   # Adjust based on your dataset's vocabulary size\n",
    "src_seq_len = 512                       # Maximum sequence length for a paragraph\n",
    "d_model = 256                           # Embedding size\n",
    "N = 6                                   # Number of encoder layers\n",
    "h = 8                                   # Number of attention heads\n",
    "d_ff = 1024                             # Feedforward network size\n",
    "num_classes = 15                        # Number of topic classes\n",
    "dropout = 0.2                           # Dropout rate\n",
    "batch_size = 64                         # Number of samples per batch\n",
    "epochs = 40                             # Number of epochs\n",
    "learning_rate = 0.001                   # Learning rate\n"
   ]
  },
  {
   "cell_type": "code",
   "execution_count": 20,
   "metadata": {
    "execution": {
     "iopub.execute_input": "2024-12-13T18:31:26.154800Z",
     "iopub.status.busy": "2024-12-13T18:31:26.154340Z",
     "iopub.status.idle": "2024-12-13T18:31:36.718600Z",
     "shell.execute_reply": "2024-12-13T18:31:36.717657Z",
     "shell.execute_reply.started": "2024-12-13T18:31:26.154771Z"
    },
    "trusted": true
   },
   "outputs": [],
   "source": [
    "\n",
    "# Split the data into training, validation, and test sets\n",
    "X_train, X_temp, y_train, y_temp = train_test_split(\n",
    "        data['Paragraph'],\n",
    "        data['Topic'],\n",
    "        test_size=0.2,\n",
    "        random_state=42,\n",
    "        stratify=data['Topic']  \n",
    "    )\n",
    "\n",
    "\n",
    "X_val, X_test, y_val, y_test = train_test_split(\n",
    "    X_temp,\n",
    "    y_temp,\n",
    "    test_size=0.5,\n",
    "    random_state=42,\n",
    "    stratify=y_temp  \n",
    ")\n",
    "\n",
    "\n",
    "def tokenize_texts(texts, tokenizer, max_length=256):\n",
    "    return tokenizer(\n",
    "        texts.tolist(),\n",
    "        padding='max_length',\n",
    "        truncation=True,\n",
    "        max_length=max_length,\n",
    "        return_tensors=\"pt\"\n",
    "    )\n",
    "\n",
    "# Tokenize train, validation, and test sets\n",
    "X_train_token = tokenize_texts(X_train, tokenizer)\n",
    "X_val_token = tokenize_texts(X_val, tokenizer)\n",
    "X_test_token = tokenize_texts(X_test, tokenizer)\n",
    "\n",
    "# Create PyTorch datasets\n",
    "import torch\n",
    "from torch.utils.data import Dataset, DataLoader\n",
    "\n",
    "class CustomDataset(Dataset):\n",
    "    def __init__(self, encodings, labels):\n",
    "        self.encodings = encodings\n",
    "        self.labels = labels\n",
    "\n",
    "    def __len__(self):\n",
    "        return len(self.labels)\n",
    "\n",
    "    def __getitem__(self, idx):\n",
    "        item = {key: val[idx] for key, val in self.encodings.items()}\n",
    "        item['labels'] = torch.tensor(self.labels[idx], dtype=torch.long)\n",
    "        return item\n",
    "\n",
    "train_dataset = CustomDataset(X_train_token, y_train.values)\n",
    "val_dataset = CustomDataset(X_val_token, y_val.values)\n",
    "test_dataset = CustomDataset(X_test_token, y_test.values)\n",
    "\n",
    "# DataLoaders for train, validation, and test sets\n",
    "train_loader = DataLoader(train_dataset, batch_size=batch_size, shuffle=True)\n",
    "val_loader = DataLoader(val_dataset, batch_size=batch_size, shuffle=False)\n",
    "test_loader = DataLoader(test_dataset, batch_size=batch_size, shuffle=False)\n"
   ]
  },
  {
   "cell_type": "code",
   "execution_count": 21,
   "metadata": {
    "execution": {
     "iopub.execute_input": "2024-12-13T18:31:36.720028Z",
     "iopub.status.busy": "2024-12-13T18:31:36.719750Z",
     "iopub.status.idle": "2024-12-13T19:18:36.005122Z",
     "shell.execute_reply": "2024-12-13T19:18:36.004217Z",
     "shell.execute_reply.started": "2024-12-13T18:31:36.720002Z"
    },
    "trusted": true
   },
   "outputs": [
    {
     "name": "stdout",
     "output_type": "stream",
     "text": [
      "Epoch 1/40, Train Loss: 1.9723, Train Accuracy: 37.00%, Val Loss: 1.4416, Val Accuracy: 60.63%\n",
      "Epoch 2/40, Train Loss: 1.1691, Train Accuracy: 64.51%, Val Loss: 1.1845, Val Accuracy: 69.73%\n",
      "Epoch 3/40, Train Loss: 0.9277, Train Accuracy: 71.66%, Val Loss: 1.0565, Val Accuracy: 72.73%\n",
      "Epoch 4/40, Train Loss: 0.7461, Train Accuracy: 77.36%, Val Loss: 0.9655, Val Accuracy: 75.57%\n",
      "Epoch 5/40, Train Loss: 0.6292, Train Accuracy: 80.81%, Val Loss: 0.9871, Val Accuracy: 75.23%\n",
      "Epoch 6/40, Train Loss: 0.5336, Train Accuracy: 83.23%, Val Loss: 0.9629, Val Accuracy: 78.43%\n",
      "Epoch 7/40, Train Loss: 0.4599, Train Accuracy: 85.53%, Val Loss: 0.9373, Val Accuracy: 78.73%\n",
      "Epoch 8/40, Train Loss: 0.3813, Train Accuracy: 88.09%, Val Loss: 0.9947, Val Accuracy: 78.90%\n",
      "Epoch 9/40, Train Loss: 0.3320, Train Accuracy: 89.52%, Val Loss: 1.0078, Val Accuracy: 79.73%\n",
      "Epoch 10/40, Train Loss: 0.2948, Train Accuracy: 90.47%, Val Loss: 1.0269, Val Accuracy: 79.50%\n",
      "Epoch 11/40, Train Loss: 0.2611, Train Accuracy: 91.57%, Val Loss: 1.0475, Val Accuracy: 80.70%\n",
      "Epoch 12/40, Train Loss: 0.2299, Train Accuracy: 92.43%, Val Loss: 1.1473, Val Accuracy: 79.83%\n",
      "Epoch 13/40, Train Loss: 0.2122, Train Accuracy: 92.97%, Val Loss: 1.1330, Val Accuracy: 80.03%\n",
      "Epoch 14/40, Train Loss: 0.1832, Train Accuracy: 93.97%, Val Loss: 1.1784, Val Accuracy: 80.43%\n",
      "Epoch 15/40, Train Loss: 0.1727, Train Accuracy: 94.33%, Val Loss: 1.2297, Val Accuracy: 80.13%\n",
      "Epoch 16/40, Train Loss: 0.1640, Train Accuracy: 94.57%, Val Loss: 1.2248, Val Accuracy: 79.83%\n",
      "Epoch 17/40, Train Loss: 0.1497, Train Accuracy: 95.05%, Val Loss: 1.2466, Val Accuracy: 80.20%\n",
      "Epoch 18/40, Train Loss: 0.1359, Train Accuracy: 95.41%, Val Loss: 1.2309, Val Accuracy: 81.03%\n",
      "Epoch 19/40, Train Loss: 0.1253, Train Accuracy: 96.02%, Val Loss: 1.2485, Val Accuracy: 81.80%\n",
      "Epoch 20/40, Train Loss: 0.1225, Train Accuracy: 96.06%, Val Loss: 1.3643, Val Accuracy: 80.03%\n",
      "Epoch 21/40, Train Loss: 0.1083, Train Accuracy: 96.53%, Val Loss: 1.3238, Val Accuracy: 81.30%\n",
      "Epoch 22/40, Train Loss: 0.1110, Train Accuracy: 96.40%, Val Loss: 1.2907, Val Accuracy: 81.93%\n",
      "Epoch 23/40, Train Loss: 0.1111, Train Accuracy: 96.45%, Val Loss: 1.2915, Val Accuracy: 81.23%\n",
      "Epoch 24/40, Train Loss: 0.1005, Train Accuracy: 96.70%, Val Loss: 1.3053, Val Accuracy: 81.20%\n",
      "Epoch 25/40, Train Loss: 0.0916, Train Accuracy: 96.90%, Val Loss: 1.2699, Val Accuracy: 81.53%\n",
      "Epoch 26/40, Train Loss: 0.0890, Train Accuracy: 97.10%, Val Loss: 1.3915, Val Accuracy: 80.83%\n",
      "Epoch 27/40, Train Loss: 0.0853, Train Accuracy: 97.10%, Val Loss: 1.4058, Val Accuracy: 81.00%\n",
      "Epoch 28/40, Train Loss: 0.0799, Train Accuracy: 97.34%, Val Loss: 1.5014, Val Accuracy: 80.40%\n",
      "Epoch 29/40, Train Loss: 0.0772, Train Accuracy: 97.50%, Val Loss: 1.2703, Val Accuracy: 82.10%\n",
      "Epoch 30/40, Train Loss: 0.0726, Train Accuracy: 97.62%, Val Loss: 1.4189, Val Accuracy: 81.73%\n",
      "Epoch 31/40, Train Loss: 0.0712, Train Accuracy: 97.66%, Val Loss: 1.4234, Val Accuracy: 81.90%\n",
      "Epoch 32/40, Train Loss: 0.0716, Train Accuracy: 97.65%, Val Loss: 1.4092, Val Accuracy: 81.57%\n",
      "Epoch 33/40, Train Loss: 0.0669, Train Accuracy: 97.83%, Val Loss: 1.3565, Val Accuracy: 81.87%\n",
      "Epoch 34/40, Train Loss: 0.0580, Train Accuracy: 98.12%, Val Loss: 1.3694, Val Accuracy: 82.37%\n",
      "Epoch 35/40, Train Loss: 0.0630, Train Accuracy: 97.97%, Val Loss: 1.4091, Val Accuracy: 82.40%\n",
      "Epoch 36/40, Train Loss: 0.0596, Train Accuracy: 98.07%, Val Loss: 1.4095, Val Accuracy: 81.67%\n",
      "Epoch 37/40, Train Loss: 0.0603, Train Accuracy: 98.15%, Val Loss: 1.3240, Val Accuracy: 82.10%\n",
      "Epoch 38/40, Train Loss: 0.0575, Train Accuracy: 98.17%, Val Loss: 1.3837, Val Accuracy: 82.50%\n",
      "Epoch 39/40, Train Loss: 0.0556, Train Accuracy: 98.18%, Val Loss: 1.4763, Val Accuracy: 81.10%\n",
      "Epoch 40/40, Train Loss: 0.0526, Train Accuracy: 98.33%, Val Loss: 1.4747, Val Accuracy: 81.50%\n"
     ]
    }
   ],
   "source": [
    "# from sklearn.model_selection import train_test_split\n",
    "# from torch.utils.data import DataLoader, Subset\n",
    "import torch\n",
    "import torch.nn as nn\n",
    "\n",
    "if __name__ == \"__main__\":\n",
    "    # Model initialization\n",
    "    model = TransformerEncoderClassifier(\n",
    "        src_vocab_size=src_vocab_size,\n",
    "        src_seq_len=src_seq_len,\n",
    "        d_model=d_model,\n",
    "        N=N,\n",
    "        h=h,\n",
    "        d_ff=d_ff,\n",
    "        num_classes=num_classes,\n",
    "        dropout=dropout\n",
    "    )\n",
    "\n",
    "    # Loss and optimizer\n",
    "    criterion = nn.CrossEntropyLoss()\n",
    "    optimizer = torch.optim.Adam(model.parameters(), lr=learning_rate, weight_decay=1e-5)\n",
    "    device = torch.device(\"cuda\" if torch.cuda.is_available() else \"cpu\")\n",
    "    model = model.to(device)\n",
    "\n",
    "    # Histories for tracking\n",
    "    train_loss_history = []\n",
    "    val_loss_history = []\n",
    "    train_acc_history = []\n",
    "    val_acc_history = []\n",
    "\n",
    "    # Training loop\n",
    "    def train_model(model, train_loader, val_loader, num_epochs=10):\n",
    "        for epoch in range(num_epochs):\n",
    "            model.train()\n",
    "            running_loss = 0.0\n",
    "            correct = 0\n",
    "            total = 0\n",
    "\n",
    "            for batch in train_loader:\n",
    "                paragraphs, labels = batch['input_ids'].to(device), batch['labels'].to(device)\n",
    "                optimizer.zero_grad()\n",
    "\n",
    "                # Create masks (assuming 0 is the PAD token)\n",
    "                src_mask = create_padding_mask(paragraphs, pad_token_idx=0)\n",
    "\n",
    "                # Forward pass\n",
    "                outputs = model(paragraphs, src_mask)  # (batch, num_classes)\n",
    "\n",
    "                # Compute loss\n",
    "                loss = criterion(outputs, labels)\n",
    "                loss.backward()\n",
    "                optimizer.step()\n",
    "\n",
    "                running_loss += loss.item()\n",
    "                _, predicted = torch.max(outputs, 1)\n",
    "                total += labels.size(0)\n",
    "                correct += (predicted == labels).sum().item()\n",
    "\n",
    "            train_loss = running_loss / len(train_loader)\n",
    "            train_accuracy = 100 * correct / total\n",
    "            train_loss_history.append(train_loss)\n",
    "            train_acc_history.append(train_accuracy)\n",
    "\n",
    "            # Validation step\n",
    "            model.eval()\n",
    "            val_loss = 0.0\n",
    "            correct = 0\n",
    "            total = 0\n",
    "\n",
    "            with torch.no_grad():\n",
    "                for batch in val_loader:\n",
    "                    paragraphs, labels = batch['input_ids'].to(device), batch['labels'].to(device)\n",
    "                    src_mask = create_padding_mask(paragraphs, pad_token_idx=0)\n",
    "                    outputs = model(paragraphs, src_mask)\n",
    "                    loss = criterion(outputs, labels)\n",
    "\n",
    "                    val_loss += loss.item()\n",
    "                    _, predicted = torch.max(outputs, 1)\n",
    "                    total += labels.size(0)\n",
    "                    correct += (predicted == labels).sum().item()\n",
    "\n",
    "            val_loss = val_loss / len(val_loader)\n",
    "            val_accuracy = 100 * correct / total\n",
    "            val_loss_history.append(val_loss)\n",
    "            val_acc_history.append(val_accuracy)\n",
    "\n",
    "            print(f\"Epoch {epoch + 1}/{num_epochs}, \"\n",
    "                  f\"Train Loss: {train_loss:.4f}, Train Accuracy: {train_accuracy:.2f}%, \"\n",
    "                  f\"Val Loss: {val_loss:.4f}, Val Accuracy: {val_accuracy:.2f}%\")\n",
    "\n",
    "    # Train the model\n",
    "    train_model(model, train_loader, val_loader, num_epochs=epochs)\n"
   ]
  },
  {
   "cell_type": "code",
   "execution_count": 22,
   "metadata": {
    "execution": {
     "iopub.execute_input": "2024-12-13T19:18:36.006649Z",
     "iopub.status.busy": "2024-12-13T19:18:36.006189Z",
     "iopub.status.idle": "2024-12-13T19:18:36.183863Z",
     "shell.execute_reply": "2024-12-13T19:18:36.183145Z",
     "shell.execute_reply.started": "2024-12-13T19:18:36.006623Z"
    },
    "trusted": true
   },
   "outputs": [],
   "source": [
    "torch.save(model.state_dict(), \"transformer_model.pth\")"
   ]
  },
  {
   "cell_type": "code",
   "execution_count": 23,
   "metadata": {
    "execution": {
     "iopub.execute_input": "2024-12-13T19:18:36.185333Z",
     "iopub.status.busy": "2024-12-13T19:18:36.185074Z",
     "iopub.status.idle": "2024-12-13T19:18:36.413015Z",
     "shell.execute_reply": "2024-12-13T19:18:36.412205Z",
     "shell.execute_reply.started": "2024-12-13T19:18:36.185308Z"
    },
    "trusted": true
   },
   "outputs": [
    {
     "data": {
      "image/png": "[encoded data removed]",
      "text/plain": [
       "<Figure size 640x480 with 1 Axes>"
      ]
     },
     "metadata": {},
     "output_type": "display_data"
    }
   ],
   "source": [
    "import matplotlib.pyplot as plt\n",
    "\n",
    "# Vẽ biểu đồ loss\n",
    "plt.plot(train_loss_history, label='Train Loss')\n",
    "plt.plot(val_loss_history, label='Validation Loss')\n",
    "plt.xlabel('Epoch')\n",
    "plt.ylabel('Loss')\n",
    "plt.legend()\n",
    "plt.title('Biểu đồ Train và Validation Loss')\n",
    "plt.show()"
   ]
  },
  {
   "cell_type": "code",
   "execution_count": 24,
   "metadata": {
    "execution": {
     "iopub.execute_input": "2024-12-13T19:18:36.414620Z",
     "iopub.status.busy": "2024-12-13T19:18:36.414251Z",
     "iopub.status.idle": "2024-12-13T19:18:36.420964Z",
     "shell.execute_reply": "2024-12-13T19:18:36.420184Z",
     "shell.execute_reply.started": "2024-12-13T19:18:36.414583Z"
    },
    "trusted": true
   },
   "outputs": [],
   "source": [
    "def evaluate_model(model, test_loader, device):\n",
    "    \"\"\"\n",
    "    Đánh giá mô hình trên tập test\n",
    "    Args:\n",
    "        model (nn.Module): Mô hình MLP\n",
    "        test_loader (DataLoader): Dataloader cho tập test\n",
    "        device (str): GPU hoặc CPU\n",
    "    \"\"\"\n",
    "    model.to(device)\n",
    "    model.eval()\n",
    "    correct = 0\n",
    "    total = 0\n",
    "    \n",
    "    with torch.no_grad():\n",
    "        for batch in test_loader:\n",
    "            embeddings, labels = batch['input_ids'].to(device), batch['labels'].to(device)\n",
    "            outputs = model(embeddings, create_padding_mask(embeddings, pad_token_idx=0))\n",
    "            _, predicted = torch.max(outputs, 1)\n",
    "            correct += (predicted == labels).sum().item()\n",
    "            total += labels.size(0)\n",
    "    \n",
    "    test_accuracy = 100 * correct / total\n",
    "    print(f\"Accuracy on Test set: {test_accuracy:.2f}%\")\n",
    "    return test_accuracy"
   ]
  },
  {
   "cell_type": "code",
   "execution_count": 25,
   "metadata": {
    "execution": {
     "iopub.execute_input": "2024-12-13T19:18:36.422804Z",
     "iopub.status.busy": "2024-12-13T19:18:36.422489Z",
     "iopub.status.idle": "2024-12-13T19:18:38.913839Z",
     "shell.execute_reply": "2024-12-13T19:18:38.913070Z",
     "shell.execute_reply.started": "2024-12-13T19:18:36.422770Z"
    },
    "trusted": true
   },
   "outputs": [
    {
     "name": "stdout",
     "output_type": "stream",
     "text": [
      "Accuracy on Test set: 81.87%\n"
     ]
    }
   ],
   "source": [
    "test_accuracy = evaluate_model(model, test_loader, device)"
   ]
  },
  {
   "cell_type": "code",
   "execution_count": 26,
   "metadata": {
    "execution": {
     "iopub.execute_input": "2024-12-13T19:18:38.915565Z",
     "iopub.status.busy": "2024-12-13T19:18:38.915186Z",
     "iopub.status.idle": "2024-12-13T19:18:38.922366Z",
     "shell.execute_reply": "2024-12-13T19:18:38.921571Z",
     "shell.execute_reply.started": "2024-12-13T19:18:38.915527Z"
    },
    "trusted": true
   },
   "outputs": [],
   "source": [
    "def evaluate_and_add_predictions(model, test_loader, df_test, device):\n",
    "    \"\"\"\n",
    "    Đánh giá mô hình trên tập test và thêm cột \"predict\" vào DataFrame\n",
    "    Args:\n",
    "        model (nn.Module): Mô hình MLP\n",
    "        test_loader (DataLoader): DataLoader cho tập test\n",
    "        df_test (DataFrame): DataFrame chứa thông tin của tập test (cột Topic)\n",
    "        device (str): GPU hoặc CPU\n",
    "    Returns:\n",
    "        DataFrame: DataFrame có thêm cột \"predict\" (nhãn dự đoán)\n",
    "    \"\"\"\n",
    "    model.to(device)\n",
    "    model.eval()\n",
    "    all_preds = []\n",
    "    \n",
    "    with torch.no_grad():\n",
    "        for batch in test_loader:\n",
    "            embeddings = batch['input_ids'].to(device)\n",
    "            outputs = model(embeddings, create_padding_mask(embeddings, pad_token_idx=0))\n",
    "            _, predicted = torch.max(outputs, 1)  # Lấy nhãn dự đoán\n",
    "            all_preds.extend(predicted.cpu().numpy())  # Chuyển kết quả về CPU và lưu vào all_preds\n",
    "    \n",
    "    # Thêm cột predict vào DataFrame\n",
    "    df_test['predict'] = all_preds  # Thêm cột nhãn dự đoán\n",
    "    df_test['correct'] = (df_test['predict'] == df_test['Topic'])  # Thêm cột đánh dấu đúng/sai\n",
    "    print(f\"\\n Đã thêm cột 'predict' và 'correct' vào DataFrame.\")\n",
    "    \n",
    "    # Hiển thị các mẫu mà mô hình phân loại sai\n",
    "    df_errors = df_test[df_test['correct'] == False]  # Lọc các mẫu sai\n",
    "    print(f\" Số mẫu phân loại sai: {len(df_errors)} trên tổng số {len(df_test)} mẫu.\")\n",
    "    \n",
    "    print(\"\\n Ví dụ các mẫu phân loại sai:\")\n",
    "    print(df_errors[['Paragraph', 'Topic', 'predict']])  # Hiển thị 10 mẫu sai đầu tiên\n",
    "    \n",
    "    return df_test"
   ]
  },
  {
   "cell_type": "code",
   "execution_count": 27,
   "metadata": {
    "execution": {
     "iopub.execute_input": "2024-12-13T19:18:38.923688Z",
     "iopub.status.busy": "2024-12-13T19:18:38.923436Z",
     "iopub.status.idle": "2024-12-13T19:18:38.938430Z",
     "shell.execute_reply": "2024-12-13T19:18:38.937512Z",
     "shell.execute_reply.started": "2024-12-13T19:18:38.923665Z"
    },
    "trusted": true
   },
   "outputs": [],
   "source": [
    "df_test = pd.DataFrame({'Paragraph': X_test, 'Topic': y_test})"
   ]
  },
  {
   "cell_type": "code",
   "execution_count": 28,
   "metadata": {
    "execution": {
     "iopub.execute_input": "2024-12-13T19:18:38.941947Z",
     "iopub.status.busy": "2024-12-13T19:18:38.941656Z",
     "iopub.status.idle": "2024-12-13T19:18:41.441787Z",
     "shell.execute_reply": "2024-12-13T19:18:41.440919Z",
     "shell.execute_reply.started": "2024-12-13T19:18:38.941906Z"
    },
    "trusted": true
   },
   "outputs": [
    {
     "name": "stdout",
     "output_type": "stream",
     "text": [
      "\n",
      " Đã thêm cột 'predict' và 'correct' vào DataFrame.\n",
      " Số mẫu phân loại sai: 544 trên tổng số 3000 mẫu.\n",
      "\n",
      " Ví dụ các mẫu phân loại sai:\n",
      "                                               Paragraph  Topic  predict\n",
      "14516  evin cetin tác_giả của một cuốn sách về các bă...      7        5\n",
      "1638   ba bồn in tên logo của một công_ty sản_xuất co...      0        3\n",
      "6597   theo ông hải quy_định mới có_thể gây áp_lực ba...      3        2\n",
      "17057  một mô_hình đã gặp chút trục_trặc nhưng chúng_...      8       12\n",
      "29849      tôi nhàn tênh vì con học như_chơi suốt năm mỹ     14        5\n",
      "...                                                  ...    ...      ...\n",
      "5125   bên cạnh đó các nhà cung_cấp hoạt_động_kinh_do...      2       12\n",
      "24242  tuy_nhiên chính_phủ indonesia từ_chối cho rằng...     12        2\n",
      "5442   bà dẫn_chứng nước dừa đóng_hộp nước dừa tự_nhi...      2       14\n",
      "1808   do xây_dựng từ lâu dẫn tới xuống_cấp công_trìn...      0        3\n",
      "24740  luật có_thể không tự nó cải_thiện tiêu_chuẩn a...     12        2\n",
      "\n",
      "[544 rows x 3 columns]\n"
     ]
    }
   ],
   "source": [
    "df_test = evaluate_and_add_predictions(model, test_loader, df_test, device)"
   ]
  },
  {
   "cell_type": "code",
   "execution_count": 29,
   "metadata": {
    "execution": {
     "iopub.execute_input": "2024-12-13T19:18:41.443676Z",
     "iopub.status.busy": "2024-12-13T19:18:41.443004Z",
     "iopub.status.idle": "2024-12-13T19:18:41.453339Z",
     "shell.execute_reply": "2024-12-13T19:18:41.452416Z",
     "shell.execute_reply.started": "2024-12-13T19:18:41.443633Z"
    },
    "trusted": true
   },
   "outputs": [
    {
     "data": {
      "text/html": [
       "<div>\n",
       "<style scoped>\n",
       "    .dataframe tbody tr th:only-of-type {\n",
       "        vertical-align: middle;\n",
       "    }\n",
       "\n",
       "    .dataframe tbody tr th {\n",
       "        vertical-align: top;\n",
       "    }\n",
       "\n",
       "    .dataframe thead th {\n",
       "        text-align: right;\n",
       "    }\n",
       "</style>\n",
       "<table border=\"1\" class=\"dataframe\">\n",
       "  <thead>\n",
       "    <tr style=\"text-align: right;\">\n",
       "      <th></th>\n",
       "      <th>Paragraph</th>\n",
       "      <th>Topic</th>\n",
       "      <th>predict</th>\n",
       "      <th>correct</th>\n",
       "    </tr>\n",
       "  </thead>\n",
       "  <tbody>\n",
       "    <tr>\n",
       "      <th>8821</th>\n",
       "      <td>hố này trải rộng triệu km và cách ấn độ km về ...</td>\n",
       "      <td>4</td>\n",
       "      <td>4</td>\n",
       "      <td>True</td>\n",
       "    </tr>\n",
       "    <tr>\n",
       "      <th>12951</th>\n",
       "      <td>bàn thắng của mbappe khiến tôi nhẹ_nhõm ông ch...</td>\n",
       "      <td>6</td>\n",
       "      <td>6</td>\n",
       "      <td>True</td>\n",
       "    </tr>\n",
       "    <tr>\n",
       "      <th>10970</th>\n",
       "      <td>timothée chalamet sinh năm sinh tại new york t...</td>\n",
       "      <td>5</td>\n",
       "      <td>5</td>\n",
       "      <td>True</td>\n",
       "    </tr>\n",
       "    <tr>\n",
       "      <th>24727</th>\n",
       "      <td>theo dự_thảo về luật sửa_đổi an_toàn trực_tuyế...</td>\n",
       "      <td>12</td>\n",
       "      <td>12</td>\n",
       "      <td>True</td>\n",
       "    </tr>\n",
       "    <tr>\n",
       "      <th>24303</th>\n",
       "      <td>ông phan trần thành phó_giám_đốc ngành_hàng ap...</td>\n",
       "      <td>12</td>\n",
       "      <td>12</td>\n",
       "      <td>True</td>\n",
       "    </tr>\n",
       "    <tr>\n",
       "      <th>...</th>\n",
       "      <td>...</td>\n",
       "      <td>...</td>\n",
       "      <td>...</td>\n",
       "      <td>...</td>\n",
       "    </tr>\n",
       "    <tr>\n",
       "      <th>10865</th>\n",
       "      <td>ca_sĩ hoàng hải trái và vũ_thảo_my cùng diện s...</td>\n",
       "      <td>5</td>\n",
       "      <td>5</td>\n",
       "      <td>True</td>\n",
       "    </tr>\n",
       "    <tr>\n",
       "      <th>10358</th>\n",
       "      <td>ca_sĩ erik là một trong số sao theo_đuổi mốt n...</td>\n",
       "      <td>5</td>\n",
       "      <td>5</td>\n",
       "      <td>True</td>\n",
       "    </tr>\n",
       "    <tr>\n",
       "      <th>25581</th>\n",
       "      <td>theo fpt nhờ tính_năng ai conversation người d...</td>\n",
       "      <td>12</td>\n",
       "      <td>12</td>\n",
       "      <td>True</td>\n",
       "    </tr>\n",
       "    <tr>\n",
       "      <th>28471</th>\n",
       "      <td>điều tôi thấy là vấn_đề giao_thông ùn_tắc khôn...</td>\n",
       "      <td>14</td>\n",
       "      <td>14</td>\n",
       "      <td>True</td>\n",
       "    </tr>\n",
       "    <tr>\n",
       "      <th>17215</th>\n",
       "      <td>phỏng_vấn trực_tiếp hơn giáo_viên và cán_bộ qu...</td>\n",
       "      <td>8</td>\n",
       "      <td>8</td>\n",
       "      <td>True</td>\n",
       "    </tr>\n",
       "  </tbody>\n",
       "</table>\n",
       "<p>3000 rows × 4 columns</p>\n",
       "</div>"
      ],
      "text/plain": [
       "                                               Paragraph  Topic  predict  \\\n",
       "8821   hố này trải rộng triệu km và cách ấn độ km về ...      4        4   \n",
       "12951  bàn thắng của mbappe khiến tôi nhẹ_nhõm ông ch...      6        6   \n",
       "10970  timothée chalamet sinh năm sinh tại new york t...      5        5   \n",
       "24727  theo dự_thảo về luật sửa_đổi an_toàn trực_tuyế...     12       12   \n",
       "24303  ông phan trần thành phó_giám_đốc ngành_hàng ap...     12       12   \n",
       "...                                                  ...    ...      ...   \n",
       "10865  ca_sĩ hoàng hải trái và vũ_thảo_my cùng diện s...      5        5   \n",
       "10358  ca_sĩ erik là một trong số sao theo_đuổi mốt n...      5        5   \n",
       "25581  theo fpt nhờ tính_năng ai conversation người d...     12       12   \n",
       "28471  điều tôi thấy là vấn_đề giao_thông ùn_tắc khôn...     14       14   \n",
       "17215  phỏng_vấn trực_tiếp hơn giáo_viên và cán_bộ qu...      8        8   \n",
       "\n",
       "       correct  \n",
       "8821      True  \n",
       "12951     True  \n",
       "10970     True  \n",
       "24727     True  \n",
       "24303     True  \n",
       "...        ...  \n",
       "10865     True  \n",
       "10358     True  \n",
       "25581     True  \n",
       "28471     True  \n",
       "17215     True  \n",
       "\n",
       "[3000 rows x 4 columns]"
      ]
     },
     "execution_count": 29,
     "metadata": {},
     "output_type": "execute_result"
    }
   ],
   "source": [
    "df_test"
   ]
  }
 ],
 "metadata": {
  "kaggle": {
   "accelerator": "gpu",
   "dataSources": [
    {
     "datasetId": 6291126,
     "sourceId": 10183846,
     "sourceType": "datasetVersion"
    },
    {
     "datasetId": 6292955,
     "sourceId": 10186388,
     "sourceType": "datasetVersion"
    }
   ],
   "dockerImageVersionId": 30805,
   "isGpuEnabled": true,
   "isInternetEnabled": true,
   "language": "python",
   "sourceType": "notebook"
  },
  "kernelspec": {
   "display_name": "Python 3",
   "language": "python",
   "name": "python3"
  },
  "language_info": {
   "codemirror_mode": {
    "name": "ipython",
    "version": 3
   },
   "file_extension": ".py",
   "mimetype": "text/x-python",
   "name": "python",
   "nbconvert_exporter": "python",
   "pygments_lexer": "ipython3",
   "version": "3.11.5"
  }
 },
 "nbformat": 4,
 "nbformat_minor": 4
}
