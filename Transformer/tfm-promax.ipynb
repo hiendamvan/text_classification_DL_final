{
 "cells": [
  {
   "cell_type": "code",
   "execution_count": 33,
   "metadata": {
    "execution": {
     "iopub.execute_input": "2024-12-15T16:39:28.331938Z",
     "iopub.status.busy": "2024-12-15T16:39:28.331616Z",
     "iopub.status.idle": "2024-12-15T16:39:28.336300Z",
     "shell.execute_reply": "2024-12-15T16:39:28.335248Z",
     "shell.execute_reply.started": "2024-12-15T16:39:28.331909Z"
    },
    "trusted": true
   },
   "outputs": [],
   "source": [
    "import torch\n",
    "import torch.nn as nn\n",
    "import math"
   ]
  },
  {
   "cell_type": "code",
   "execution_count": 34,
   "metadata": {
    "execution": {
     "iopub.execute_input": "2024-12-15T16:39:28.338233Z",
     "iopub.status.busy": "2024-12-15T16:39:28.337960Z",
     "iopub.status.idle": "2024-12-15T16:39:28.346460Z",
     "shell.execute_reply": "2024-12-15T16:39:28.345677Z",
     "shell.execute_reply.started": "2024-12-15T16:39:28.338207Z"
    },
    "trusted": true
   },
   "outputs": [],
   "source": [
    "device = torch.device(\"cuda\" if torch.cuda.is_available() else \"cpu\")"
   ]
  },
  {
   "cell_type": "markdown",
   "metadata": {},
   "source": [
    "# LayerNormalization"
   ]
  },
  {
   "cell_type": "code",
   "execution_count": 35,
   "metadata": {
    "execution": {
     "iopub.execute_input": "2024-12-15T16:39:28.347632Z",
     "iopub.status.busy": "2024-12-15T16:39:28.347367Z",
     "iopub.status.idle": "2024-12-15T16:39:28.358151Z",
     "shell.execute_reply": "2024-12-15T16:39:28.357444Z",
     "shell.execute_reply.started": "2024-12-15T16:39:28.347608Z"
    },
    "trusted": true
   },
   "outputs": [],
   "source": [
    "class LayerNormalization(nn.Module):\n",
    "\n",
    "    def __init__(self, features: int, eps:float=10**-6) -> None:\n",
    "        super().__init__()\n",
    "        self.eps = eps\n",
    "        self.alpha = nn.Parameter(torch.ones(features)) # alpha is a learnable parameter\n",
    "        self.bias = nn.Parameter(torch.zeros(features)) # bias is a learnable parameter\n",
    "\n",
    "    def forward(self, x):\n",
    "        # x: (batch, seq_len, hidden_size)\n",
    "         # Keep the dimension for broadcasting\n",
    "        mean = x.mean(dim = -1, keepdim = True) # (batch, seq_len, 1)\n",
    "        # Keep the dimension for broadcasting\n",
    "        std = x.std(dim = -1, keepdim = True) # (batch, seq_len, 1)\n",
    "        # eps is to prevent dividing by zero or when std is very small\n",
    "        return self.alpha * (x - mean) / (std + self.eps) + self.bias"
   ]
  },
  {
   "cell_type": "code",
   "execution_count": 36,
   "metadata": {
    "execution": {
     "iopub.execute_input": "2024-12-15T16:39:28.359818Z",
     "iopub.status.busy": "2024-12-15T16:39:28.359575Z",
     "iopub.status.idle": "2024-12-15T16:39:28.369764Z",
     "shell.execute_reply": "2024-12-15T16:39:28.368829Z",
     "shell.execute_reply.started": "2024-12-15T16:39:28.359795Z"
    },
    "trusted": true
   },
   "outputs": [],
   "source": [
    "class FeedForwardBlock(nn.Module):\n",
    "\n",
    "    def __init__(self, d_model: int, d_ff: int, dropout: float) -> None:\n",
    "        super().__init__()\n",
    "        self.linear_1 = nn.Linear(d_model, d_ff) # w1 and b1\n",
    "        self.dropout = nn.Dropout(dropout)\n",
    "        self.linear_2 = nn.Linear(d_ff, d_model) # w2 and b2\n",
    "\n",
    "    def forward(self, x):\n",
    "        # (batch, seq_len, d_model) --> (batch, seq_len, d_ff) --> (batch, seq_len, d_model)\n",
    "        return self.linear_2(self.dropout(torch.relu(self.linear_1(x))))"
   ]
  },
  {
   "cell_type": "code",
   "execution_count": 37,
   "metadata": {
    "execution": {
     "iopub.execute_input": "2024-12-15T16:39:28.370843Z",
     "iopub.status.busy": "2024-12-15T16:39:28.370635Z",
     "iopub.status.idle": "2024-12-15T16:39:28.380085Z",
     "shell.execute_reply": "2024-12-15T16:39:28.379398Z",
     "shell.execute_reply.started": "2024-12-15T16:39:28.370821Z"
    },
    "trusted": true
   },
   "outputs": [],
   "source": [
    "class InputEmbeddings(nn.Module):\n",
    "\n",
    "    def __init__(self, d_model: int, vocab_size: int) -> None:\n",
    "        super().__init__()\n",
    "        self.d_model = d_model\n",
    "        self.vocab_size = vocab_size\n",
    "        self.embedding = nn.Embedding(vocab_size, d_model)\n",
    "\n",
    "    def forward(self, x):\n",
    "        # (batch, seq_len) --> (batch, seq_len, d_model)\n",
    "        # Multiply by sqrt(d_model) to scale the embeddings according to the paper\n",
    "        return self.embedding(x) * math.sqrt(self.d_model)"
   ]
  },
  {
   "cell_type": "code",
   "execution_count": 38,
   "metadata": {
    "execution": {
     "iopub.execute_input": "2024-12-15T16:39:28.381182Z",
     "iopub.status.busy": "2024-12-15T16:39:28.380956Z",
     "iopub.status.idle": "2024-12-15T16:39:28.395217Z",
     "shell.execute_reply": "2024-12-15T16:39:28.394534Z",
     "shell.execute_reply.started": "2024-12-15T16:39:28.381159Z"
    },
    "trusted": true
   },
   "outputs": [],
   "source": [
    "class PositionalEncoding(nn.Module):\n",
    "\n",
    "    def __init__(self, d_model: int, seq_len: int, dropout: float) -> None:\n",
    "        super().__init__()\n",
    "        self.d_model = d_model\n",
    "        self.seq_len = seq_len\n",
    "        self.dropout = nn.Dropout(dropout)\n",
    "        # Create a matrix of shape (seq_len, d_model)\n",
    "        pe = torch.zeros(seq_len, d_model)\n",
    "        # Create a vector of shape (seq_len)\n",
    "        position = torch.arange(0, seq_len, dtype=torch.float).unsqueeze(1) # (seq_len, 1)\n",
    "        # Create a vector of shape (d_model)\n",
    "        div_term = torch.exp(torch.arange(0, d_model, 2).float() * (-math.log(10000.0) / d_model)) # (d_model / 2)\n",
    "        # Apply sine to even indices\n",
    "        pe[:, 0::2] = torch.sin(position * div_term) # sin(position * (10000 ** (2i / d_model))\n",
    "        # Apply cosine to odd indices\n",
    "        pe[:, 1::2] = torch.cos(position * div_term) # cos(position * (10000 ** (2i / d_model))\n",
    "        # Add a batch dimension to the positional encoding\n",
    "        pe = pe.unsqueeze(0) # (1, seq_len, d_model)\n",
    "        # Register the positional encoding as a buffer\n",
    "        self.register_buffer('pe', pe)\n",
    "\n",
    "    def forward(self, x):\n",
    "        x = x + (self.pe[:, :x.shape[1], :]).requires_grad_(False) # (batch, seq_len, d_model)\n",
    "        return self.dropout(x)"
   ]
  },
  {
   "cell_type": "code",
   "execution_count": 39,
   "metadata": {
    "execution": {
     "iopub.execute_input": "2024-12-15T16:39:28.396710Z",
     "iopub.status.busy": "2024-12-15T16:39:28.396457Z",
     "iopub.status.idle": "2024-12-15T16:39:28.407021Z",
     "shell.execute_reply": "2024-12-15T16:39:28.406359Z",
     "shell.execute_reply.started": "2024-12-15T16:39:28.396686Z"
    },
    "trusted": true
   },
   "outputs": [],
   "source": [
    "class MultiHeadAttentionBlock(nn.Module):\n",
    "\n",
    "    def __init__(self, d_model: int, h: int, dropout: float) -> None:\n",
    "        super().__init__()\n",
    "        self.d_model = d_model # Embedding vector size\n",
    "        self.h = h # Number of heads\n",
    "        # Make sure d_model is divisible by h\n",
    "        assert d_model % h == 0, \"d_model is not divisible by h\"\n",
    "\n",
    "        self.d_k = d_model // h # Dimension of vector seen by each head\n",
    "        self.w_q = nn.Linear(d_model, d_model, bias=False) # Wq\n",
    "        self.w_k = nn.Linear(d_model, d_model, bias=False) # Wk\n",
    "        self.w_v = nn.Linear(d_model, d_model, bias=False) # Wv\n",
    "        self.w_o = nn.Linear(d_model, d_model, bias=False) # Wo\n",
    "        self.dropout = nn.Dropout(dropout)\n",
    "\n",
    "    @staticmethod\n",
    "    def attention(query, key, value, mask, dropout: nn.Dropout):\n",
    "        d_k = query.shape[-1]\n",
    "        # Just apply the formula from the paper\n",
    "        # (batch, h, seq_len, d_k) --> (batch, h, seq_len, seq_len)\n",
    "        attention_scores = (query @ key.transpose(-2, -1)) / math.sqrt(d_k)\n",
    "        if mask is not None:\n",
    "            # Write a very low value (indicating -inf) to the positions where mask == 0\n",
    "            attention_scores.masked_fill_(mask == 0, -1e9)\n",
    "        attention_scores = attention_scores.softmax(dim=-1) # (batch, h, seq_len, seq_len) # Apply softmax\n",
    "        if dropout is not None:\n",
    "            attention_scores = dropout(attention_scores)\n",
    "        # (batch, h, seq_len, seq_len) --> (batch, h, seq_len, d_k)\n",
    "        # return attention scores which can be used for visualization\n",
    "        return (attention_scores @ value), attention_scores\n",
    "\n",
    "    def forward(self, q, k, v, mask):\n",
    "        query = self.w_q(q) # (batch, seq_len, d_model) --> (batch, seq_len, d_model)\n",
    "        key = self.w_k(k) # (batch, seq_len, d_model) --> (batch, seq_len, d_model)\n",
    "        value = self.w_v(v) # (batch, seq_len, d_model) --> (batch, seq_len, d_model)\n",
    "\n",
    "        # (batch, seq_len, d_model) --> (batch, seq_len, h, d_k) --> (batch, h, seq_len, d_k)\n",
    "        query = query.view(query.shape[0], query.shape[1], self.h, self.d_k).transpose(1, 2)\n",
    "        key = key.view(key.shape[0], key.shape[1], self.h, self.d_k).transpose(1, 2)\n",
    "        value = value.view(value.shape[0], value.shape[1], self.h, self.d_k).transpose(1, 2)\n",
    "\n",
    "        # Calculate attention\n",
    "        x, self.attention_scores = MultiHeadAttentionBlock.attention(query, key, value, mask, self.dropout)\n",
    "        \n",
    "        # Combine all the heads together\n",
    "        # (batch, h, seq_len, d_k) --> (batch, seq_len, h, d_k) --> (batch, seq_len, d_model)\n",
    "        x = x.transpose(1, 2).contiguous().view(x.shape[0], -1, self.h * self.d_k)\n",
    "\n",
    "        # Multiply by Wo\n",
    "        # (batch, seq_len, d_model) --> (batch, seq_len, d_model)  \n",
    "        return self.w_o(x)\n"
   ]
  },
  {
   "cell_type": "code",
   "execution_count": 40,
   "metadata": {
    "execution": {
     "iopub.execute_input": "2024-12-15T16:39:28.408376Z",
     "iopub.status.busy": "2024-12-15T16:39:28.408035Z",
     "iopub.status.idle": "2024-12-15T16:39:28.423152Z",
     "shell.execute_reply": "2024-12-15T16:39:28.422461Z",
     "shell.execute_reply.started": "2024-12-15T16:39:28.408316Z"
    },
    "trusted": true
   },
   "outputs": [],
   "source": [
    "class ResidualConnection(nn.Module):\n",
    "    \n",
    "        def __init__(self, features: int, dropout: float) -> None:\n",
    "            super().__init__()\n",
    "            self.dropout = nn.Dropout(dropout)\n",
    "            self.norm = LayerNormalization(features)\n",
    "    \n",
    "        def forward(self, x, sublayer):\n",
    "            return x + self.dropout(sublayer(self.norm(x)))"
   ]
  },
  {
   "cell_type": "code",
   "execution_count": 41,
   "metadata": {
    "execution": {
     "iopub.execute_input": "2024-12-15T16:39:28.425785Z",
     "iopub.status.busy": "2024-12-15T16:39:28.425520Z",
     "iopub.status.idle": "2024-12-15T16:39:28.434225Z",
     "shell.execute_reply": "2024-12-15T16:39:28.433576Z",
     "shell.execute_reply.started": "2024-12-15T16:39:28.425749Z"
    },
    "trusted": true
   },
   "outputs": [],
   "source": [
    "class EncoderBlock(nn.Module):\n",
    "\n",
    "    def __init__(self, features: int, self_attention_block: MultiHeadAttentionBlock, feed_forward_block: FeedForwardBlock, dropout: float) -> None:\n",
    "        super().__init__()\n",
    "        self.self_attention_block = self_attention_block\n",
    "        self.feed_forward_block = feed_forward_block\n",
    "        self.residual_connections = nn.ModuleList([ResidualConnection(features, dropout) for _ in range(2)])\n",
    "\n",
    "    def forward(self, x, src_mask):\n",
    "        x = self.residual_connections[0](x, lambda x: self.self_attention_block(x, x, x, src_mask))\n",
    "        x = self.residual_connections[1](x, self.feed_forward_block)\n",
    "        return x"
   ]
  },
  {
   "cell_type": "code",
   "execution_count": 42,
   "metadata": {
    "execution": {
     "iopub.execute_input": "2024-12-15T16:39:28.435437Z",
     "iopub.status.busy": "2024-12-15T16:39:28.435113Z",
     "iopub.status.idle": "2024-12-15T16:39:28.444319Z",
     "shell.execute_reply": "2024-12-15T16:39:28.443681Z",
     "shell.execute_reply.started": "2024-12-15T16:39:28.435404Z"
    },
    "trusted": true
   },
   "outputs": [],
   "source": [
    "class Encoder(nn.Module):\n",
    "\n",
    "    def __init__(self, features: int, layers: nn.ModuleList) -> None:\n",
    "        super().__init__()\n",
    "        self.layers = layers\n",
    "        self.norm = LayerNormalization(features)\n",
    "\n",
    "    def forward(self, x, mask):\n",
    "        for layer in self.layers:\n",
    "            x = layer(x, mask)\n",
    "        return self.norm(x)"
   ]
  },
  {
   "cell_type": "code",
   "execution_count": 43,
   "metadata": {
    "execution": {
     "iopub.execute_input": "2024-12-15T16:39:28.445672Z",
     "iopub.status.busy": "2024-12-15T16:39:28.445332Z",
     "iopub.status.idle": "2024-12-15T16:39:28.458326Z",
     "shell.execute_reply": "2024-12-15T16:39:28.457722Z",
     "shell.execute_reply.started": "2024-12-15T16:39:28.445636Z"
    },
    "trusted": true
   },
   "outputs": [],
   "source": [
    "import torch\n",
    "import torch.nn as nn\n",
    "import math\n",
    "\n",
    "# Reuse the existing components: InputEmbeddings, PositionalEncoding, LayerNormalization, etc.\n",
    "# Modify only the components necessary for classification.\n",
    "\n",
    "class TransformerEncoderClassifier(nn.Module):\n",
    "    def __init__(self, \n",
    "                 src_vocab_size: int, \n",
    "                 src_seq_len: int, \n",
    "                 d_model: int, \n",
    "                 N: int, \n",
    "                 h: int, \n",
    "                 d_ff: int, \n",
    "                 num_classes: int, \n",
    "                 dropout: float = 0.1):\n",
    "        super().__init__()\n",
    "        # Input embedding and positional encoding\n",
    "        self.src_embed = InputEmbeddings(d_model, src_vocab_size)\n",
    "        self.src_pos = PositionalEncoding(d_model, src_seq_len, dropout)\n",
    "\n",
    "        # Transformer encoder\n",
    "        encoder_blocks = []\n",
    "        for _ in range(N):\n",
    "            self_attention_block = MultiHeadAttentionBlock(d_model, h, dropout)\n",
    "            feed_forward_block = FeedForwardBlock(d_model, d_ff, dropout)\n",
    "            encoder_block = EncoderBlock(d_model, self_attention_block, feed_forward_block, dropout)\n",
    "            encoder_blocks.append(encoder_block)\n",
    "        self.encoder = Encoder(d_model, nn.ModuleList(encoder_blocks))\n",
    "        \n",
    "        # Classification head\n",
    "        self.classifier = nn.Sequential(\n",
    "            nn.Linear(d_model, d_model // 2),\n",
    "            nn.ReLU(),\n",
    "            nn.Dropout(dropout),\n",
    "            nn.Linear(d_model // 2, num_classes)\n",
    "        )\n",
    "    \n",
    "    def forward(self, src, src_mask):\n",
    "        # Embed and encode the input\n",
    "        src = self.src_embed(src)  # (batch, seq_len, d_model)\n",
    "        src = self.src_pos(src)    # (batch, seq_len, d_model)\n",
    "        encoder_output = self.encoder(src, src_mask)  # (batch, seq_len, d_model)\n",
    "\n",
    "        # Aggregate features for classification\n",
    "        # Mean pooling over the sequence length\n",
    "        pooled_output = encoder_output.mean(dim=1)  # (batch, d_model)\n",
    "\n",
    "        # Classification\n",
    "        return self.classifier(pooled_output)\n",
    "\n",
    "# Utility to create masks\n",
    "def create_padding_mask(input_tensor, pad_token_idx):\n",
    "    return (input_tensor != pad_token_idx).unsqueeze(1).unsqueeze(2)  # (batch, 1, 1, seq_len)\n",
    "\n",
    "# Hyperparameters and training setup\n",
    "# src_vocab_size = 20000  # Adjust based on your dataset's vocabulary size\n",
    "# src_seq_len = 512       # Maximum sequence length for a paragraph\n",
    "# d_model = 256           # Embedding size\n",
    "# N = 6                   # Number of encoder layers\n",
    "# h = 8                   # Number of attention heads\n",
    "# d_ff = 1024             # Feedforward network size\n",
    "# num_classes = 14        # Number of topic classes\n",
    "# dropout = 0.1\n",
    "\n",
    "# # Instantiate the model\n",
    "# model = TransformerEncoderClassifier(\n",
    "#     src_vocab_size=src_vocab_size,\n",
    "#     src_seq_len=src_seq_len,\n",
    "#     d_model=d_model,\n",
    "#     N=N,\n",
    "#     h=h,\n",
    "#     d_ff=d_ff,\n",
    "#     num_classes=num_classes,\n",
    "#     dropout=dropout\n",
    "# )\n",
    "\n",
    "# # Loss and optimizer\n",
    "# criterion = nn.CrossEntropyLoss()\n",
    "# optimizer = torch.optim.Adam(model.parameters(), lr=0.001)\n",
    "\n",
    "# # Dummy training loop\n",
    "# def train_model(model, train_loader, num_epochs=10):\n",
    "#     model.train()\n",
    "#     for epoch in range(num_epochs):\n",
    "#         for batch in train_loader:\n",
    "#             paragraphs, labels = batch\n",
    "#             optimizer.zero_grad()\n",
    "            \n",
    "#             # Create masks (assuming 0 is the PAD token)\n",
    "#             src_mask = create_padding_mask(paragraphs, pad_token_idx=0)\n",
    "            \n",
    "#             # Forward pass\n",
    "#             outputs = model(paragraphs, src_mask)  # (batch, num_classes)\n",
    "            \n",
    "#             # Compute loss\n",
    "#             loss = criterion(outputs, labels)\n",
    "#             loss.backward()\n",
    "#             optimizer.step()\n",
    "        \n",
    "#         print(f\"Epoch {epoch+1}/{num_epochs}, Loss: {loss.item():.4f}\")\n",
    "\n"
   ]
  },
  {
   "cell_type": "code",
   "execution_count": 44,
   "metadata": {
    "execution": {
     "iopub.execute_input": "2024-12-15T16:39:28.459501Z",
     "iopub.status.busy": "2024-12-15T16:39:28.459252Z",
     "iopub.status.idle": "2024-12-15T16:39:28.471153Z",
     "shell.execute_reply": "2024-12-15T16:39:28.470378Z",
     "shell.execute_reply.started": "2024-12-15T16:39:28.459476Z"
    },
    "trusted": true
   },
   "outputs": [],
   "source": [
    "import numpy as np\n",
    "import pandas as pd\n",
    "import torch \n",
    "import torch.nn as nn"
   ]
  },
  {
   "cell_type": "code",
   "execution_count": 45,
   "metadata": {
    "execution": {
     "iopub.execute_input": "2024-12-15T16:39:28.472296Z",
     "iopub.status.busy": "2024-12-15T16:39:28.472066Z",
     "iopub.status.idle": "2024-12-15T16:39:28.726476Z",
     "shell.execute_reply": "2024-12-15T16:39:28.725572Z",
     "shell.execute_reply.started": "2024-12-15T16:39:28.472272Z"
    },
    "trusted": true
   },
   "outputs": [
    {
     "data": {
      "text/html": [
       "<div>\n",
       "<style scoped>\n",
       "    .dataframe tbody tr th:only-of-type {\n",
       "        vertical-align: middle;\n",
       "    }\n",
       "\n",
       "    .dataframe tbody tr th {\n",
       "        vertical-align: top;\n",
       "    }\n",
       "\n",
       "    .dataframe thead th {\n",
       "        text-align: right;\n",
       "    }\n",
       "</style>\n",
       "<table border=\"1\" class=\"dataframe\">\n",
       "  <thead>\n",
       "    <tr style=\"text-align: right;\">\n",
       "      <th></th>\n",
       "      <th>Unnamed: 0</th>\n",
       "      <th>Paragraph</th>\n",
       "      <th>Topic</th>\n",
       "    </tr>\n",
       "  </thead>\n",
       "  <tbody>\n",
       "    <tr>\n",
       "      <th>0</th>\n",
       "      <td>0</td>\n",
       "      <td>khoảng thiếu_niên ngụ xã thượng quận thị_xã ki...</td>\n",
       "      <td>0</td>\n",
       "    </tr>\n",
       "    <tr>\n",
       "      <th>1</th>\n",
       "      <td>1</td>\n",
       "      <td>hai xe đối_đầu tạo tiếng_động mạnh ba người đi...</td>\n",
       "      <td>0</td>\n",
       "    </tr>\n",
       "    <tr>\n",
       "      <th>2</th>\n",
       "      <td>2</td>\n",
       "      <td>camera hành_trình của ôtô đi trên đoạn đường đ...</td>\n",
       "      <td>0</td>\n",
       "    </tr>\n",
       "    <tr>\n",
       "      <th>3</th>\n",
       "      <td>3</td>\n",
       "      <td>camera hành_trình ghi lại vụ tai_nạn sáng</td>\n",
       "      <td>0</td>\n",
       "    </tr>\n",
       "    <tr>\n",
       "      <th>4</th>\n",
       "      <td>4</td>\n",
       "      <td>đoạn đường xảy ra tai_nạn không có dải_phân_cá...</td>\n",
       "      <td>0</td>\n",
       "    </tr>\n",
       "    <tr>\n",
       "      <th>...</th>\n",
       "      <td>...</td>\n",
       "      <td>...</td>\n",
       "      <td>...</td>\n",
       "    </tr>\n",
       "    <tr>\n",
       "      <th>29995</th>\n",
       "      <td>29995</td>\n",
       "      <td>tiếc thay đó cũng không phải lần cuối rắc_rối ...</td>\n",
       "      <td>14</td>\n",
       "    </tr>\n",
       "    <tr>\n",
       "      <th>29996</th>\n",
       "      <td>29996</td>\n",
       "      <td>ngày thắng kiện tôi lặng_lẽ về dọn đồ của mẹ r...</td>\n",
       "      <td>14</td>\n",
       "    </tr>\n",
       "    <tr>\n",
       "      <th>29997</th>\n",
       "      <td>29997</td>\n",
       "      <td>từ lúc hiểu ra_điều đó tôi đã hoàn_toàn buông_...</td>\n",
       "      <td>14</td>\n",
       "    </tr>\n",
       "    <tr>\n",
       "      <th>29998</th>\n",
       "      <td>29998</td>\n",
       "      <td>hiện_nay nhiều người có cái nhìn khá phiến_diệ...</td>\n",
       "      <td>14</td>\n",
       "    </tr>\n",
       "    <tr>\n",
       "      <th>29999</th>\n",
       "      <td>29999</td>\n",
       "      <td>đầu_tiên cần nhìn_nhận rằng suy_thoái kinh_tế ...</td>\n",
       "      <td>14</td>\n",
       "    </tr>\n",
       "  </tbody>\n",
       "</table>\n",
       "<p>30000 rows × 3 columns</p>\n",
       "</div>"
      ],
      "text/plain": [
       "       Unnamed: 0                                          Paragraph  Topic\n",
       "0               0  khoảng thiếu_niên ngụ xã thượng quận thị_xã ki...      0\n",
       "1               1  hai xe đối_đầu tạo tiếng_động mạnh ba người đi...      0\n",
       "2               2  camera hành_trình của ôtô đi trên đoạn đường đ...      0\n",
       "3               3          camera hành_trình ghi lại vụ tai_nạn sáng      0\n",
       "4               4  đoạn đường xảy ra tai_nạn không có dải_phân_cá...      0\n",
       "...           ...                                                ...    ...\n",
       "29995       29995  tiếc thay đó cũng không phải lần cuối rắc_rối ...     14\n",
       "29996       29996  ngày thắng kiện tôi lặng_lẽ về dọn đồ của mẹ r...     14\n",
       "29997       29997  từ lúc hiểu ra_điều đó tôi đã hoàn_toàn buông_...     14\n",
       "29998       29998  hiện_nay nhiều người có cái nhìn khá phiến_diệ...     14\n",
       "29999       29999  đầu_tiên cần nhìn_nhận rằng suy_thoái kinh_tế ...     14\n",
       "\n",
       "[30000 rows x 3 columns]"
      ]
     },
     "execution_count": 45,
     "metadata": {},
     "output_type": "execute_result"
    }
   ],
   "source": [
    "data = pd.read_csv('/kaggle/input/pre-data/preprocessed_data.csv')\n",
    "data "
   ]
  },
  {
   "cell_type": "code",
   "execution_count": 46,
   "metadata": {
    "execution": {
     "iopub.execute_input": "2024-12-15T16:39:28.727891Z",
     "iopub.status.busy": "2024-12-15T16:39:28.727580Z",
     "iopub.status.idle": "2024-12-15T16:39:28.731967Z",
     "shell.execute_reply": "2024-12-15T16:39:28.731128Z",
     "shell.execute_reply.started": "2024-12-15T16:39:28.727864Z"
    },
    "trusted": true
   },
   "outputs": [],
   "source": [
    "import torch.nn.functional as F\n",
    "from torch.utils.data import DataLoader, Dataset\n",
    "import numpy as np\n"
   ]
  },
  {
   "cell_type": "code",
   "execution_count": 47,
   "metadata": {
    "execution": {
     "iopub.execute_input": "2024-12-15T16:39:28.733437Z",
     "iopub.status.busy": "2024-12-15T16:39:28.733124Z",
     "iopub.status.idle": "2024-12-15T16:39:29.909743Z",
     "shell.execute_reply": "2024-12-15T16:39:29.908787Z",
     "shell.execute_reply.started": "2024-12-15T16:39:28.733408Z"
    },
    "trusted": true
   },
   "outputs": [],
   "source": [
    "from sklearn.model_selection import train_test_split\n",
    "from transformers import AutoTokenizer\n",
    "\n",
    "\n",
    "# Load the PhoBERT tokenizer\n",
    "tokenizer = AutoTokenizer.from_pretrained(\"vinai/phobert-base-v2\")\n",
    "\n",
    "# Hyperparameters and training setup\n",
    "max_len = 15\n",
    "src_vocab_size = tokenizer.vocab_size   # Adjust based on your dataset's vocabulary size\n",
    "src_seq_len = 512                       # Maximum sequence length for a paragraph\n",
    "d_model = 256                           # Embedding size\n",
    "N = 6                                   # Number of encoder layers\n",
    "h = 8                                   # Number of attention heads\n",
    "d_ff = 1024                             # Feedforward network size\n",
    "num_classes = 15                        # Number of topic classes\n",
    "dropout = 0.3                           # Dropout rate\n",
    "batch_size = 64                         # Number of samples per batch\n",
    "epochs = 40                             # Number of epochs\n",
    "learning_rate = 0.001                   # Learning rate\n"
   ]
  },
  {
   "cell_type": "code",
   "execution_count": 48,
   "metadata": {
    "execution": {
     "iopub.execute_input": "2024-12-15T16:39:29.911125Z",
     "iopub.status.busy": "2024-12-15T16:39:29.910846Z",
     "iopub.status.idle": "2024-12-15T16:39:40.832896Z",
     "shell.execute_reply": "2024-12-15T16:39:40.832171Z",
     "shell.execute_reply.started": "2024-12-15T16:39:29.911098Z"
    },
    "trusted": true
   },
   "outputs": [],
   "source": [
    "\n",
    "# Split the data into training, validation, and test sets\n",
    "X_train, X_temp, y_train, y_temp = train_test_split(\n",
    "        data['Paragraph'],\n",
    "        data['Topic'],\n",
    "        test_size=0.2,\n",
    "        random_state=42,\n",
    "        stratify=data['Topic']  \n",
    "    )\n",
    "\n",
    "\n",
    "X_val, X_test, y_val, y_test = train_test_split(\n",
    "    X_temp,\n",
    "    y_temp,\n",
    "    test_size=0.5,\n",
    "    random_state=42,\n",
    "    stratify=y_temp  \n",
    ")\n",
    "\n",
    "\n",
    "def tokenize_texts(texts, tokenizer, max_length=256):\n",
    "    return tokenizer(\n",
    "        texts.tolist(),\n",
    "        padding='max_length',\n",
    "        truncation=True,\n",
    "        max_length=max_length,\n",
    "        return_tensors=\"pt\"\n",
    "    )\n",
    "\n",
    "# Tokenize train, validation, and test sets\n",
    "X_train_token = tokenize_texts(X_train, tokenizer)\n",
    "X_val_token = tokenize_texts(X_val, tokenizer)\n",
    "X_test_token = tokenize_texts(X_test, tokenizer)\n",
    "\n",
    "# Create PyTorch datasets\n",
    "import torch\n",
    "from torch.utils.data import Dataset, DataLoader\n",
    "\n",
    "class CustomDataset(Dataset):\n",
    "    def __init__(self, encodings, labels):\n",
    "        self.encodings = encodings\n",
    "        self.labels = labels\n",
    "\n",
    "    def __len__(self):\n",
    "        return len(self.labels)\n",
    "\n",
    "    def __getitem__(self, idx):\n",
    "        item = {key: val[idx] for key, val in self.encodings.items()}\n",
    "        item['labels'] = torch.tensor(self.labels[idx], dtype=torch.long)\n",
    "        return item\n",
    "\n",
    "train_dataset = CustomDataset(X_train_token, y_train.values)\n",
    "val_dataset = CustomDataset(X_val_token, y_val.values)\n",
    "test_dataset = CustomDataset(X_test_token, y_test.values)\n",
    "\n",
    "# DataLoaders for train, validation, and test sets\n",
    "train_loader = DataLoader(train_dataset, batch_size=batch_size, shuffle=True)\n",
    "val_loader = DataLoader(val_dataset, batch_size=batch_size, shuffle=False)\n",
    "test_loader = DataLoader(test_dataset, batch_size=batch_size, shuffle=False)\n"
   ]
  },
  {
   "cell_type": "code",
   "execution_count": 49,
   "metadata": {
    "execution": {
     "iopub.execute_input": "2024-12-15T16:39:40.834056Z",
     "iopub.status.busy": "2024-12-15T16:39:40.833805Z",
     "iopub.status.idle": "2024-12-15T17:26:46.972680Z",
     "shell.execute_reply": "2024-12-15T17:26:46.971828Z",
     "shell.execute_reply.started": "2024-12-15T16:39:40.834030Z"
    },
    "trusted": true
   },
   "outputs": [
    {
     "name": "stdout",
     "output_type": "stream",
     "text": [
      "Epoch 1/40, Train Loss: 2.0200, Train Accuracy: 35.78%, Val Loss: 1.5417, Val Accuracy: 58.43%\n",
      "Epoch 2/40, Train Loss: 1.2844, Train Accuracy: 61.45%, Val Loss: 1.2808, Val Accuracy: 68.27%\n",
      "Epoch 3/40, Train Loss: 1.0274, Train Accuracy: 68.86%, Val Loss: 1.1715, Val Accuracy: 72.33%\n",
      "Epoch 4/40, Train Loss: 0.8740, Train Accuracy: 73.52%, Val Loss: 1.0895, Val Accuracy: 75.10%\n",
      "Epoch 5/40, Train Loss: 0.7522, Train Accuracy: 77.21%, Val Loss: 1.0905, Val Accuracy: 75.67%\n",
      "Epoch 6/40, Train Loss: 0.6642, Train Accuracy: 79.48%, Val Loss: 1.1471, Val Accuracy: 76.37%\n",
      "Epoch 7/40, Train Loss: 0.5836, Train Accuracy: 82.29%, Val Loss: 1.0675, Val Accuracy: 77.87%\n",
      "Epoch 8/40, Train Loss: 0.5153, Train Accuracy: 84.08%, Val Loss: 1.0481, Val Accuracy: 78.67%\n",
      "Epoch 9/40, Train Loss: 0.4619, Train Accuracy: 85.93%, Val Loss: 1.1279, Val Accuracy: 79.30%\n",
      "Epoch 10/40, Train Loss: 0.4154, Train Accuracy: 87.18%, Val Loss: 1.1723, Val Accuracy: 78.93%\n",
      "Epoch 11/40, Train Loss: 0.3728, Train Accuracy: 88.19%, Val Loss: 1.2504, Val Accuracy: 79.50%\n",
      "Epoch 12/40, Train Loss: 0.3310, Train Accuracy: 89.59%, Val Loss: 1.2778, Val Accuracy: 79.83%\n",
      "Epoch 13/40, Train Loss: 0.2982, Train Accuracy: 90.55%, Val Loss: 1.3788, Val Accuracy: 79.33%\n",
      "Epoch 14/40, Train Loss: 0.2773, Train Accuracy: 91.10%, Val Loss: 1.3811, Val Accuracy: 79.77%\n",
      "Epoch 15/40, Train Loss: 0.2565, Train Accuracy: 91.79%, Val Loss: 1.4603, Val Accuracy: 80.50%\n",
      "Epoch 16/40, Train Loss: 0.2313, Train Accuracy: 92.58%, Val Loss: 1.4810, Val Accuracy: 80.00%\n",
      "Epoch 17/40, Train Loss: 0.2100, Train Accuracy: 93.16%, Val Loss: 1.5725, Val Accuracy: 80.37%\n",
      "Epoch 18/40, Train Loss: 0.1997, Train Accuracy: 93.47%, Val Loss: 1.4400, Val Accuracy: 80.77%\n",
      "Epoch 19/40, Train Loss: 0.1922, Train Accuracy: 93.77%, Val Loss: 1.7032, Val Accuracy: 79.80%\n",
      "Epoch 20/40, Train Loss: 0.1671, Train Accuracy: 94.60%, Val Loss: 1.5637, Val Accuracy: 80.73%\n",
      "Epoch 21/40, Train Loss: 0.1575, Train Accuracy: 94.84%, Val Loss: 1.6747, Val Accuracy: 80.77%\n",
      "Epoch 22/40, Train Loss: 0.1469, Train Accuracy: 95.30%, Val Loss: 1.7077, Val Accuracy: 80.53%\n",
      "Epoch 23/40, Train Loss: 0.1398, Train Accuracy: 95.39%, Val Loss: 1.7066, Val Accuracy: 81.93%\n",
      "Epoch 24/40, Train Loss: 0.1249, Train Accuracy: 95.93%, Val Loss: 1.7935, Val Accuracy: 80.33%\n",
      "Epoch 25/40, Train Loss: 0.1292, Train Accuracy: 95.88%, Val Loss: 1.7693, Val Accuracy: 80.30%\n",
      "Epoch 26/40, Train Loss: 0.1239, Train Accuracy: 96.10%, Val Loss: 1.7226, Val Accuracy: 81.30%\n",
      "Epoch 27/40, Train Loss: 0.1086, Train Accuracy: 96.52%, Val Loss: 1.8007, Val Accuracy: 81.10%\n",
      "Epoch 28/40, Train Loss: 0.1076, Train Accuracy: 96.42%, Val Loss: 1.7965, Val Accuracy: 81.67%\n",
      "Epoch 29/40, Train Loss: 0.0959, Train Accuracy: 96.85%, Val Loss: 1.8730, Val Accuracy: 80.23%\n",
      "Epoch 30/40, Train Loss: 0.1019, Train Accuracy: 96.68%, Val Loss: 1.8052, Val Accuracy: 82.47%\n",
      "Epoch 31/40, Train Loss: 0.0878, Train Accuracy: 97.25%, Val Loss: 1.8646, Val Accuracy: 81.73%\n",
      "Epoch 32/40, Train Loss: 0.0870, Train Accuracy: 97.22%, Val Loss: 1.9993, Val Accuracy: 81.27%\n",
      "Epoch 33/40, Train Loss: 0.0829, Train Accuracy: 97.33%, Val Loss: 1.8365, Val Accuracy: 82.03%\n",
      "Epoch 34/40, Train Loss: 0.0855, Train Accuracy: 97.28%, Val Loss: 1.9287, Val Accuracy: 80.70%\n",
      "Epoch 35/40, Train Loss: 0.0784, Train Accuracy: 97.55%, Val Loss: 1.9082, Val Accuracy: 81.53%\n",
      "Epoch 36/40, Train Loss: 0.0706, Train Accuracy: 97.73%, Val Loss: 1.9788, Val Accuracy: 81.40%\n",
      "Epoch 37/40, Train Loss: 0.0663, Train Accuracy: 97.89%, Val Loss: 1.9711, Val Accuracy: 81.63%\n",
      "Epoch 38/40, Train Loss: 0.0621, Train Accuracy: 97.94%, Val Loss: 2.0298, Val Accuracy: 79.90%\n",
      "Epoch 39/40, Train Loss: 0.0582, Train Accuracy: 98.08%, Val Loss: 2.0681, Val Accuracy: 80.90%\n",
      "Epoch 40/40, Train Loss: 0.0640, Train Accuracy: 98.04%, Val Loss: 1.9930, Val Accuracy: 81.33%\n"
     ]
    }
   ],
   "source": [
    "# from sklearn.model_selection import train_test_split\n",
    "# from torch.utils.data import DataLoader, Subset\n",
    "import torch\n",
    "import torch.nn as nn\n",
    "\n",
    "if __name__ == \"__main__\":\n",
    "    # Model initialization\n",
    "    model = TransformerEncoderClassifier(\n",
    "        src_vocab_size=src_vocab_size,\n",
    "        src_seq_len=src_seq_len,\n",
    "        d_model=d_model,\n",
    "        N=N,\n",
    "        h=h,\n",
    "        d_ff=d_ff,\n",
    "        num_classes=num_classes,\n",
    "        dropout=dropout\n",
    "    )\n",
    "\n",
    "    # Loss and optimizer\n",
    "    criterion = nn.CrossEntropyLoss()\n",
    "    optimizer = torch.optim.Adam(model.parameters(), lr=learning_rate, weight_decay=1e-5)\n",
    "    device = torch.device(\"cuda\" if torch.cuda.is_available() else \"cpu\")\n",
    "    model = model.to(device)\n",
    "\n",
    "    # Histories for tracking\n",
    "    train_loss_history = []\n",
    "    val_loss_history = []\n",
    "    train_acc_history = []\n",
    "    val_acc_history = []\n",
    "\n",
    "    # Training loop\n",
    "    def train_model(model, train_loader, val_loader, num_epochs=10):\n",
    "        for epoch in range(num_epochs):\n",
    "            model.train()\n",
    "            running_loss = 0.0\n",
    "            correct = 0\n",
    "            total = 0\n",
    "\n",
    "            for batch in train_loader:\n",
    "                paragraphs, labels = batch['input_ids'].to(device), batch['labels'].to(device)\n",
    "                optimizer.zero_grad()\n",
    "\n",
    "                # Create masks (assuming 0 is the PAD token)\n",
    "                src_mask = create_padding_mask(paragraphs, pad_token_idx=0)\n",
    "\n",
    "                # Forward pass\n",
    "                outputs = model(paragraphs, src_mask)  # (batch, num_classes)\n",
    "\n",
    "                # Compute loss\n",
    "                loss = criterion(outputs, labels)\n",
    "                loss.backward()\n",
    "                optimizer.step()\n",
    "\n",
    "                running_loss += loss.item()\n",
    "                _, predicted = torch.max(outputs, 1)\n",
    "                total += labels.size(0)\n",
    "                correct += (predicted == labels).sum().item()\n",
    "\n",
    "            train_loss = running_loss / len(train_loader)\n",
    "            train_accuracy = 100 * correct / total\n",
    "            train_loss_history.append(train_loss)\n",
    "            train_acc_history.append(train_accuracy)\n",
    "\n",
    "            # Validation step\n",
    "            model.eval()\n",
    "            val_loss = 0.0\n",
    "            correct = 0\n",
    "            total = 0\n",
    "\n",
    "            with torch.no_grad():\n",
    "                for batch in val_loader:\n",
    "                    paragraphs, labels = batch['input_ids'].to(device), batch['labels'].to(device)\n",
    "                    src_mask = create_padding_mask(paragraphs, pad_token_idx=0)\n",
    "                    outputs = model(paragraphs, src_mask)\n",
    "                    loss = criterion(outputs, labels)\n",
    "\n",
    "                    val_loss += loss.item()\n",
    "                    _, predicted = torch.max(outputs, 1)\n",
    "                    total += labels.size(0)\n",
    "                    correct += (predicted == labels).sum().item()\n",
    "\n",
    "            val_loss = val_loss / len(val_loader)\n",
    "            val_accuracy = 100 * correct / total\n",
    "            val_loss_history.append(val_loss)\n",
    "            val_acc_history.append(val_accuracy)\n",
    "\n",
    "            print(f\"Epoch {epoch + 1}/{num_epochs}, \"\n",
    "                  f\"Train Loss: {train_loss:.4f}, Train Accuracy: {train_accuracy:.2f}%, \"\n",
    "                  f\"Val Loss: {val_loss:.4f}, Val Accuracy: {val_accuracy:.2f}%\")\n",
    "\n",
    "    # Train the model\n",
    "    train_model(model, train_loader, val_loader, num_epochs=epochs)"
   ]
  },
  {
   "cell_type": "code",
   "execution_count": 50,
   "metadata": {
    "execution": {
     "iopub.execute_input": "2024-12-15T17:26:46.974816Z",
     "iopub.status.busy": "2024-12-15T17:26:46.974143Z",
     "iopub.status.idle": "2024-12-15T17:26:47.238038Z",
     "shell.execute_reply": "2024-12-15T17:26:47.237098Z",
     "shell.execute_reply.started": "2024-12-15T17:26:46.974784Z"
    },
    "trusted": true
   },
   "outputs": [],
   "source": [
    "torch.save(model.state_dict(), \"transformer_model.pth\")"
   ]
  },
  {
   "cell_type": "code",
   "execution_count": 51,
   "metadata": {
    "execution": {
     "iopub.execute_input": "2024-12-15T17:26:47.239851Z",
     "iopub.status.busy": "2024-12-15T17:26:47.239446Z",
     "iopub.status.idle": "2024-12-15T17:26:47.457582Z",
     "shell.execute_reply": "2024-12-15T17:26:47.456813Z",
     "shell.execute_reply.started": "2024-12-15T17:26:47.239769Z"
    },
    "trusted": true
   },
   "outputs": [
    {
     "data": {
      "image/png": "[encoded data removed]",
      "text/plain": [
       "<Figure size 640x480 with 1 Axes>"
      ]
     },
     "metadata": {},
     "output_type": "display_data"
    }
   ],
   "source": [
    "import matplotlib.pyplot as plt\n",
    "\n",
    "# Vẽ biểu đồ loss\n",
    "plt.plot(train_loss_history, label='Train Loss')\n",
    "plt.plot(val_loss_history, label='Validation Loss')\n",
    "plt.xlabel('Epoch')\n",
    "plt.ylabel('Loss')\n",
    "plt.legend()\n",
    "plt.title('Biểu đồ Train và Validation Loss')\n",
    "plt.show()"
   ]
  },
  {
   "cell_type": "code",
   "execution_count": 52,
   "metadata": {
    "execution": {
     "iopub.execute_input": "2024-12-15T17:26:47.459320Z",
     "iopub.status.busy": "2024-12-15T17:26:47.458953Z",
     "iopub.status.idle": "2024-12-15T17:26:47.466185Z",
     "shell.execute_reply": "2024-12-15T17:26:47.465290Z",
     "shell.execute_reply.started": "2024-12-15T17:26:47.459271Z"
    },
    "trusted": true
   },
   "outputs": [],
   "source": [
    "def evaluate_model(model, test_loader, device):\n",
    "    \"\"\"\n",
    "    Đánh giá mô hình trên tập test\n",
    "    Args:\n",
    "        model (nn.Module): Mô hình MLP\n",
    "        test_loader (DataLoader): Dataloader cho tập test\n",
    "        device (str): GPU hoặc CPU\n",
    "    \"\"\"\n",
    "    model.to(device)\n",
    "    model.eval()\n",
    "    correct = 0\n",
    "    total = 0\n",
    "    \n",
    "    with torch.no_grad():\n",
    "        for batch in test_loader:\n",
    "            embeddings, labels = batch['input_ids'].to(device), batch['labels'].to(device)\n",
    "            outputs = model(embeddings, create_padding_mask(embeddings, pad_token_idx=0))\n",
    "            _, predicted = torch.max(outputs, 1)\n",
    "            correct += (predicted == labels).sum().item()\n",
    "            total += labels.size(0)\n",
    "    \n",
    "    test_accuracy = 100 * correct / total\n",
    "    print(f\"Accuracy on Test set: {test_accuracy:.2f}%\")\n",
    "    return test_accuracy"
   ]
  },
  {
   "cell_type": "code",
   "execution_count": 53,
   "metadata": {
    "execution": {
     "iopub.execute_input": "2024-12-15T17:26:47.467921Z",
     "iopub.status.busy": "2024-12-15T17:26:47.467691Z",
     "iopub.status.idle": "2024-12-15T17:26:49.974039Z",
     "shell.execute_reply": "2024-12-15T17:26:49.973046Z",
     "shell.execute_reply.started": "2024-12-15T17:26:47.467898Z"
    },
    "trusted": true
   },
   "outputs": [
    {
     "name": "stdout",
     "output_type": "stream",
     "text": [
      "Accuracy on Test set: 82.90%\n"
     ]
    }
   ],
   "source": [
    "test_accuracy = evaluate_model(model, test_loader, device)"
   ]
  },
  {
   "cell_type": "code",
   "execution_count": 54,
   "metadata": {
    "execution": {
     "iopub.execute_input": "2024-12-15T17:26:49.976322Z",
     "iopub.status.busy": "2024-12-15T17:26:49.975568Z",
     "iopub.status.idle": "2024-12-15T17:26:53.301560Z",
     "shell.execute_reply": "2024-12-15T17:26:53.300553Z",
     "shell.execute_reply.started": "2024-12-15T17:26:49.976278Z"
    },
    "trusted": true
   },
   "outputs": [
    {
     "data": {
      "image/png": "[encoded data removed]",
      "text/plain": [
       "<Figure size 1000x800 with 2 Axes>"
      ]
     },
     "metadata": {},
     "output_type": "display_data"
    },
    {
     "name": "stdout",
     "output_type": "stream",
     "text": [
      "Class 0: Precision=0.82, Recall=0.81, F1-Score=0.81\n",
      "Class 1: Precision=0.83, Recall=0.88, F1-Score=0.85\n",
      "Class 2: Precision=0.79, Recall=0.75, F1-Score=0.77\n",
      "Class 3: Precision=0.88, Recall=0.84, F1-Score=0.86\n",
      "Class 4: Precision=0.78, Recall=0.87, F1-Score=0.82\n",
      "Class 5: Precision=0.79, Recall=0.91, F1-Score=0.84\n",
      "Class 6: Precision=0.93, Recall=0.97, F1-Score=0.95\n",
      "Class 7: Precision=0.91, Recall=0.77, F1-Score=0.83\n",
      "Class 8: Precision=0.79, Recall=0.84, F1-Score=0.82\n",
      "Class 9: Precision=0.78, Recall=0.91, F1-Score=0.84\n",
      "Class 10: Precision=0.79, Recall=0.52, F1-Score=0.63\n",
      "Class 11: Precision=0.83, Recall=0.82, F1-Score=0.83\n",
      "Class 12: Precision=0.81, Recall=0.84, F1-Score=0.83\n",
      "Class 13: Precision=0.89, Recall=0.89, F1-Score=0.89\n",
      "Class 14: Precision=0.83, Recall=0.82, F1-Score=0.82\n"
     ]
    }
   ],
   "source": [
    "import matplotlib.pyplot as plt\n",
    "import numpy as np\n",
    "\n",
    "# test_loader = DataLoader(tê, batch_size=1, shuffle=True)\n",
    "y_true = [] \n",
    "y_pred = []\n",
    "\n",
    "cm = torch.zeros(num_classes, num_classes, dtype=torch.int32)\n",
    "\n",
    "for batch in test_loader:\n",
    "    paragraphs, labels = batch['input_ids'].to(device), batch['labels'].to(device)\n",
    "\n",
    "    outputs = model(paragraphs, create_padding_mask(paragraphs, pad_token_idx=0))\n",
    "    \n",
    "    predictions = torch.argmax(outputs, dim=1)\n",
    "    \n",
    "    y_true.extend(labels.cpu().numpy())\n",
    "    y_pred.extend(predictions.cpu().numpy())\n",
    "\n",
    "\n",
    "\n",
    "for t, p in zip(y_true, y_pred):\n",
    "    cm[t, p] += 1\n",
    "\n",
    "# Step 2: Plot confusion matrix\n",
    "plt.figure(figsize=(10, 8))\n",
    "plt.imshow(cm.numpy(), interpolation='nearest', cmap='Blues')\n",
    "plt.colorbar()\n",
    "\n",
    "# Add labels\n",
    "classes = [f\"Class {i}\" for i in range(num_classes)]\n",
    "plt.xticks(ticks=np.arange(num_classes), labels=classes, rotation=45)\n",
    "plt.yticks(ticks=np.arange(num_classes), labels=classes)\n",
    "plt.xlabel(\"Predicted Labels\")\n",
    "plt.ylabel(\"True Labels\")\n",
    "plt.title(\"Confusion Matrix\")\n",
    "\n",
    "# Annotate each cell with the count\n",
    "for i in range(num_classes):\n",
    "    for j in range(num_classes):\n",
    "        plt.text(j, i, cm[i, j].item(), ha=\"center\", va=\"center\", color=\"black\")\n",
    "\n",
    "plt.tight_layout()\n",
    "plt.show()\n",
    "\n",
    "# Step 3: Compute metrics for each class (Precision, Recall, F1-score)\n",
    "def compute_metrics(cm):\n",
    "    metrics = {}\n",
    "    for i in range(num_classes):\n",
    "        tp = cm[i, i].item()\n",
    "        fp = cm[:, i].sum().item() - tp\n",
    "        fn = cm[i, :].sum().item() - tp\n",
    "        precision = tp / (tp + fp) if (tp + fp) > 0 else 0.0\n",
    "        recall = tp / (tp + fn) if (tp + fn) > 0 else 0.0\n",
    "        f1 = 2 * precision * recall / (precision + recall) if (precision + recall) > 0 else 0.0\n",
    "        metrics[f\"Class {i}\"] = {\n",
    "            \"Precision\": precision,\n",
    "            \"Recall\": recall,\n",
    "            \"F1-Score\": f1\n",
    "        }\n",
    "    return metrics\n",
    "\n",
    "metrics = compute_metrics(cm)\n",
    "\n",
    "# Print metrics for each class\n",
    "for cls, m in metrics.items():\n",
    "    print(f\"{cls}: Precision={m['Precision']:.2f}, Recall={m['Recall']:.2f}, F1-Score={m['F1-Score']:.2f}\")"
   ]
  },
  {
   "cell_type": "code",
   "execution_count": 55,
   "metadata": {
    "execution": {
     "iopub.execute_input": "2024-12-15T17:26:53.303100Z",
     "iopub.status.busy": "2024-12-15T17:26:53.302797Z",
     "iopub.status.idle": "2024-12-15T17:26:53.310507Z",
     "shell.execute_reply": "2024-12-15T17:26:53.309554Z",
     "shell.execute_reply.started": "2024-12-15T17:26:53.303073Z"
    },
    "trusted": true
   },
   "outputs": [],
   "source": [
    "def evaluate_and_add_predictions(model, test_loader, df_test, device):\n",
    "    \"\"\"\n",
    "    Đánh giá mô hình trên tập test và thêm cột \"predict\" vào DataFrame\n",
    "    Args:\n",
    "        model (nn.Module): Mô hình MLP\n",
    "        test_loader (DataLoader): DataLoader cho tập test\n",
    "        df_test (DataFrame): DataFrame chứa thông tin của tập test (cột Topic)\n",
    "        device (str): GPU hoặc CPU\n",
    "    Returns:\n",
    "        DataFrame: DataFrame có thêm cột \"predict\" (nhãn dự đoán)\n",
    "    \"\"\"\n",
    "    model.to(device)\n",
    "    model.eval()\n",
    "    all_preds = []\n",
    "    \n",
    "    with torch.no_grad():\n",
    "        for batch in test_loader:\n",
    "            embeddings = batch['input_ids'].to(device)\n",
    "            outputs = model(embeddings, create_padding_mask(embeddings, pad_token_idx=0))\n",
    "            _, predicted = torch.max(outputs, 1)  # Lấy nhãn dự đoán\n",
    "            all_preds.extend(predicted.cpu().numpy())  # Chuyển kết quả về CPU và lưu vào all_preds\n",
    "    \n",
    "    # Thêm cột predict vào DataFrame\n",
    "    df_test['predict'] = all_preds  # Thêm cột nhãn dự đoán\n",
    "    df_test['correct'] = (df_test['predict'] == df_test['Topic'])  # Thêm cột đánh dấu đúng/sai\n",
    "    print(f\"\\n Đã thêm cột 'predict' và 'correct' vào DataFrame.\")\n",
    "    \n",
    "    # Hiển thị các mẫu mà mô hình phân loại sai\n",
    "    df_errors = df_test[df_test['correct'] == False]  # Lọc các mẫu sai\n",
    "    print(f\" Số mẫu phân loại sai: {len(df_errors)} trên tổng số {len(df_test)} mẫu.\")\n",
    "    \n",
    "    print(\"\\n Ví dụ các mẫu phân loại sai:\")\n",
    "    print(df_errors[['Paragraph', 'Topic', 'predict']])  # Hiển thị 10 mẫu sai đầu tiên\n",
    "    \n",
    "    return df_test"
   ]
  },
  {
   "cell_type": "code",
   "execution_count": 56,
   "metadata": {
    "execution": {
     "iopub.execute_input": "2024-12-15T17:26:53.314583Z",
     "iopub.status.busy": "2024-12-15T17:26:53.314293Z",
     "iopub.status.idle": "2024-12-15T17:26:53.328420Z",
     "shell.execute_reply": "2024-12-15T17:26:53.327552Z",
     "shell.execute_reply.started": "2024-12-15T17:26:53.314558Z"
    },
    "trusted": true
   },
   "outputs": [],
   "source": [
    "df_test = pd.DataFrame({'Paragraph': X_test, 'Topic': y_test})"
   ]
  },
  {
   "cell_type": "code",
   "execution_count": 57,
   "metadata": {
    "execution": {
     "iopub.execute_input": "2024-12-15T17:26:53.329701Z",
     "iopub.status.busy": "2024-12-15T17:26:53.329443Z",
     "iopub.status.idle": "2024-12-15T17:26:55.846899Z",
     "shell.execute_reply": "2024-12-15T17:26:55.845948Z",
     "shell.execute_reply.started": "2024-12-15T17:26:53.329676Z"
    },
    "trusted": true
   },
   "outputs": [
    {
     "name": "stdout",
     "output_type": "stream",
     "text": [
      "\n",
      " Đã thêm cột 'predict' và 'correct' vào DataFrame.\n",
      " Số mẫu phân loại sai: 513 trên tổng số 3000 mẫu.\n",
      "\n",
      " Ví dụ các mẫu phân loại sai:\n",
      "                                               Paragraph  Topic  predict\n",
      "1638   ba bồn in tên logo của một công_ty sản_xuất co...      0        4\n",
      "17057  một mô_hình đã gặp chút trục_trặc nhưng chúng_...      8        6\n",
      "29849      tôi nhàn tênh vì con học như_chơi suốt năm mỹ     14        5\n",
      "29625  bên cạnh đó tư_duy phòng cháy hơn chữa_cháy vẫ...     14        8\n",
      "5413   nội_dung trong cẩm_nang được thiết_kế đơn_giản...      2       14\n",
      "...                                                  ...    ...      ...\n",
      "5125   bên cạnh đó các nhà cung_cấp hoạt_động_kinh_do...      2       12\n",
      "5442   bà dẫn_chứng nước dừa đóng_hộp nước dừa tự_nhi...      2        9\n",
      "1808   do xây_dựng từ lâu dẫn tới xuống_cấp công_trìn...      0        3\n",
      "134    trước đó báo_cáo của tỉnh ninh thuận cho biết ...      0        2\n",
      "24740  luật có_thể không tự nó cải_thiện tiêu_chuẩn a...     12        4\n",
      "\n",
      "[513 rows x 3 columns]\n"
     ]
    }
   ],
   "source": [
    "df_test = evaluate_and_add_predictions(model, test_loader, df_test, device)"
   ]
  },
  {
   "cell_type": "code",
   "execution_count": 58,
   "metadata": {
    "execution": {
     "iopub.execute_input": "2024-12-15T17:26:55.848219Z",
     "iopub.status.busy": "2024-12-15T17:26:55.847923Z",
     "iopub.status.idle": "2024-12-15T17:26:55.858826Z",
     "shell.execute_reply": "2024-12-15T17:26:55.857914Z",
     "shell.execute_reply.started": "2024-12-15T17:26:55.848191Z"
    },
    "trusted": true
   },
   "outputs": [
    {
     "data": {
      "text/html": [
       "<div>\n",
       "<style scoped>\n",
       "    .dataframe tbody tr th:only-of-type {\n",
       "        vertical-align: middle;\n",
       "    }\n",
       "\n",
       "    .dataframe tbody tr th {\n",
       "        vertical-align: top;\n",
       "    }\n",
       "\n",
       "    .dataframe thead th {\n",
       "        text-align: right;\n",
       "    }\n",
       "</style>\n",
       "<table border=\"1\" class=\"dataframe\">\n",
       "  <thead>\n",
       "    <tr style=\"text-align: right;\">\n",
       "      <th></th>\n",
       "      <th>Paragraph</th>\n",
       "      <th>Topic</th>\n",
       "      <th>predict</th>\n",
       "      <th>correct</th>\n",
       "    </tr>\n",
       "  </thead>\n",
       "  <tbody>\n",
       "    <tr>\n",
       "      <th>8821</th>\n",
       "      <td>hố này trải rộng triệu km và cách ấn độ km về ...</td>\n",
       "      <td>4</td>\n",
       "      <td>4</td>\n",
       "      <td>True</td>\n",
       "    </tr>\n",
       "    <tr>\n",
       "      <th>12951</th>\n",
       "      <td>bàn thắng của mbappe khiến tôi nhẹ_nhõm ông ch...</td>\n",
       "      <td>6</td>\n",
       "      <td>6</td>\n",
       "      <td>True</td>\n",
       "    </tr>\n",
       "    <tr>\n",
       "      <th>10970</th>\n",
       "      <td>timothée chalamet sinh năm sinh tại new york t...</td>\n",
       "      <td>5</td>\n",
       "      <td>5</td>\n",
       "      <td>True</td>\n",
       "    </tr>\n",
       "    <tr>\n",
       "      <th>24727</th>\n",
       "      <td>theo dự_thảo về luật sửa_đổi an_toàn trực_tuyế...</td>\n",
       "      <td>12</td>\n",
       "      <td>12</td>\n",
       "      <td>True</td>\n",
       "    </tr>\n",
       "    <tr>\n",
       "      <th>24303</th>\n",
       "      <td>ông phan trần thành phó_giám_đốc ngành_hàng ap...</td>\n",
       "      <td>12</td>\n",
       "      <td>12</td>\n",
       "      <td>True</td>\n",
       "    </tr>\n",
       "    <tr>\n",
       "      <th>...</th>\n",
       "      <td>...</td>\n",
       "      <td>...</td>\n",
       "      <td>...</td>\n",
       "      <td>...</td>\n",
       "    </tr>\n",
       "    <tr>\n",
       "      <th>10865</th>\n",
       "      <td>ca_sĩ hoàng hải trái và vũ_thảo_my cùng diện s...</td>\n",
       "      <td>5</td>\n",
       "      <td>5</td>\n",
       "      <td>True</td>\n",
       "    </tr>\n",
       "    <tr>\n",
       "      <th>10358</th>\n",
       "      <td>ca_sĩ erik là một trong số sao theo_đuổi mốt n...</td>\n",
       "      <td>5</td>\n",
       "      <td>5</td>\n",
       "      <td>True</td>\n",
       "    </tr>\n",
       "    <tr>\n",
       "      <th>25581</th>\n",
       "      <td>theo fpt nhờ tính_năng ai conversation người d...</td>\n",
       "      <td>12</td>\n",
       "      <td>12</td>\n",
       "      <td>True</td>\n",
       "    </tr>\n",
       "    <tr>\n",
       "      <th>28471</th>\n",
       "      <td>điều tôi thấy là vấn_đề giao_thông ùn_tắc khôn...</td>\n",
       "      <td>14</td>\n",
       "      <td>14</td>\n",
       "      <td>True</td>\n",
       "    </tr>\n",
       "    <tr>\n",
       "      <th>17215</th>\n",
       "      <td>phỏng_vấn trực_tiếp hơn giáo_viên và cán_bộ qu...</td>\n",
       "      <td>8</td>\n",
       "      <td>8</td>\n",
       "      <td>True</td>\n",
       "    </tr>\n",
       "  </tbody>\n",
       "</table>\n",
       "<p>3000 rows × 4 columns</p>\n",
       "</div>"
      ],
      "text/plain": [
       "                                               Paragraph  Topic  predict  \\\n",
       "8821   hố này trải rộng triệu km và cách ấn độ km về ...      4        4   \n",
       "12951  bàn thắng của mbappe khiến tôi nhẹ_nhõm ông ch...      6        6   \n",
       "10970  timothée chalamet sinh năm sinh tại new york t...      5        5   \n",
       "24727  theo dự_thảo về luật sửa_đổi an_toàn trực_tuyế...     12       12   \n",
       "24303  ông phan trần thành phó_giám_đốc ngành_hàng ap...     12       12   \n",
       "...                                                  ...    ...      ...   \n",
       "10865  ca_sĩ hoàng hải trái và vũ_thảo_my cùng diện s...      5        5   \n",
       "10358  ca_sĩ erik là một trong số sao theo_đuổi mốt n...      5        5   \n",
       "25581  theo fpt nhờ tính_năng ai conversation người d...     12       12   \n",
       "28471  điều tôi thấy là vấn_đề giao_thông ùn_tắc khôn...     14       14   \n",
       "17215  phỏng_vấn trực_tiếp hơn giáo_viên và cán_bộ qu...      8        8   \n",
       "\n",
       "       correct  \n",
       "8821      True  \n",
       "12951     True  \n",
       "10970     True  \n",
       "24727     True  \n",
       "24303     True  \n",
       "...        ...  \n",
       "10865     True  \n",
       "10358     True  \n",
       "25581     True  \n",
       "28471     True  \n",
       "17215     True  \n",
       "\n",
       "[3000 rows x 4 columns]"
      ]
     },
     "execution_count": 58,
     "metadata": {},
     "output_type": "execute_result"
    }
   ],
   "source": [
    "df_test"
   ]
  },
  {
   "cell_type": "code",
   "execution_count": 59,
   "metadata": {
    "execution": {
     "iopub.execute_input": "2024-12-15T17:26:55.860160Z",
     "iopub.status.busy": "2024-12-15T17:26:55.859824Z",
     "iopub.status.idle": "2024-12-15T17:26:55.869280Z",
     "shell.execute_reply": "2024-12-15T17:26:55.868400Z",
     "shell.execute_reply.started": "2024-12-15T17:26:55.860132Z"
    },
    "trusted": true
   },
   "outputs": [],
   "source": [
    "df_errors = df_test[df_test['correct'] == False]"
   ]
  },
  {
   "cell_type": "code",
   "execution_count": 60,
   "metadata": {
    "execution": {
     "iopub.execute_input": "2024-12-15T17:26:55.870754Z",
     "iopub.status.busy": "2024-12-15T17:26:55.870506Z",
     "iopub.status.idle": "2024-12-15T17:26:55.880585Z",
     "shell.execute_reply": "2024-12-15T17:26:55.879682Z",
     "shell.execute_reply.started": "2024-12-15T17:26:55.870730Z"
    },
    "trusted": true
   },
   "outputs": [],
   "source": [
    "error_counts = df_errors['Topic'].value_counts()"
   ]
  },
  {
   "cell_type": "code",
   "execution_count": 61,
   "metadata": {
    "execution": {
     "iopub.execute_input": "2024-12-15T17:26:55.881933Z",
     "iopub.status.busy": "2024-12-15T17:26:55.881659Z",
     "iopub.status.idle": "2024-12-15T17:26:55.895999Z",
     "shell.execute_reply": "2024-12-15T17:26:55.895035Z",
     "shell.execute_reply.started": "2024-12-15T17:26:55.881890Z"
    },
    "trusted": true
   },
   "outputs": [
    {
     "name": "stdout",
     "output_type": "stream",
     "text": [
      "    Topic  Error Count\n",
      "0      10           96\n",
      "1       2           50\n",
      "2       7           46\n",
      "3       0           39\n",
      "4      14           36\n",
      "5      11           35\n",
      "6      12           32\n",
      "7       8           31\n",
      "8       3           31\n",
      "9       4           26\n",
      "10      1           25\n",
      "11     13           22\n",
      "12      9           19\n",
      "13      5           19\n",
      "14      6            6\n"
     ]
    }
   ],
   "source": [
    "error_df = error_counts.reset_index()\n",
    "error_df.columns = ['Topic', 'Error Count']\n",
    "print(error_df)"
   ]
  },
  {
   "cell_type": "code",
   "execution_count": 62,
   "metadata": {
    "execution": {
     "iopub.execute_input": "2024-12-15T17:26:55.897473Z",
     "iopub.status.busy": "2024-12-15T17:26:55.897125Z",
     "iopub.status.idle": "2024-12-15T17:26:55.906995Z",
     "shell.execute_reply": "2024-12-15T17:26:55.906191Z",
     "shell.execute_reply.started": "2024-12-15T17:26:55.897440Z"
    },
    "trusted": true
   },
   "outputs": [],
   "source": [
    "class_names = ['Thời sự', 'Thế giới', 'Kinh doanh', 'Bất động sản', \n",
    "               'Khoa học', 'Giải trí', 'Thể thao', 'Pháp luật', \n",
    "               'Giáo dục', 'Sức khỏe', 'Đời sống', 'Du lịch', \n",
    "               'Số hóa', 'Ôtô - Xe máy', 'Ý kiến']"
   ]
  },
  {
   "cell_type": "code",
   "execution_count": 63,
   "metadata": {
    "execution": {
     "iopub.execute_input": "2024-12-15T17:26:55.908204Z",
     "iopub.status.busy": "2024-12-15T17:26:55.907916Z",
     "iopub.status.idle": "2024-12-15T17:26:55.919891Z",
     "shell.execute_reply": "2024-12-15T17:26:55.919173Z",
     "shell.execute_reply.started": "2024-12-15T17:26:55.908162Z"
    },
    "trusted": true
   },
   "outputs": [],
   "source": [
    "error_df['Class'] = error_df['Topic'].apply(lambda x: class_names[x])"
   ]
  },
  {
   "cell_type": "code",
   "execution_count": 64,
   "metadata": {
    "execution": {
     "iopub.execute_input": "2024-12-15T17:26:55.921069Z",
     "iopub.status.busy": "2024-12-15T17:26:55.920827Z",
     "iopub.status.idle": "2024-12-15T17:26:55.934507Z",
     "shell.execute_reply": "2024-12-15T17:26:55.933602Z",
     "shell.execute_reply.started": "2024-12-15T17:26:55.921044Z"
    },
    "trusted": true
   },
   "outputs": [
    {
     "data": {
      "text/html": [
       "<div>\n",
       "<style scoped>\n",
       "    .dataframe tbody tr th:only-of-type {\n",
       "        vertical-align: middle;\n",
       "    }\n",
       "\n",
       "    .dataframe tbody tr th {\n",
       "        vertical-align: top;\n",
       "    }\n",
       "\n",
       "    .dataframe thead th {\n",
       "        text-align: right;\n",
       "    }\n",
       "</style>\n",
       "<table border=\"1\" class=\"dataframe\">\n",
       "  <thead>\n",
       "    <tr style=\"text-align: right;\">\n",
       "      <th></th>\n",
       "      <th>Topic</th>\n",
       "      <th>Error Count</th>\n",
       "      <th>Class</th>\n",
       "    </tr>\n",
       "  </thead>\n",
       "  <tbody>\n",
       "    <tr>\n",
       "      <th>0</th>\n",
       "      <td>10</td>\n",
       "      <td>96</td>\n",
       "      <td>Đời sống</td>\n",
       "    </tr>\n",
       "    <tr>\n",
       "      <th>1</th>\n",
       "      <td>2</td>\n",
       "      <td>50</td>\n",
       "      <td>Kinh doanh</td>\n",
       "    </tr>\n",
       "    <tr>\n",
       "      <th>2</th>\n",
       "      <td>7</td>\n",
       "      <td>46</td>\n",
       "      <td>Pháp luật</td>\n",
       "    </tr>\n",
       "    <tr>\n",
       "      <th>3</th>\n",
       "      <td>0</td>\n",
       "      <td>39</td>\n",
       "      <td>Thời sự</td>\n",
       "    </tr>\n",
       "    <tr>\n",
       "      <th>4</th>\n",
       "      <td>14</td>\n",
       "      <td>36</td>\n",
       "      <td>Ý kiến</td>\n",
       "    </tr>\n",
       "    <tr>\n",
       "      <th>5</th>\n",
       "      <td>11</td>\n",
       "      <td>35</td>\n",
       "      <td>Du lịch</td>\n",
       "    </tr>\n",
       "    <tr>\n",
       "      <th>6</th>\n",
       "      <td>12</td>\n",
       "      <td>32</td>\n",
       "      <td>Số hóa</td>\n",
       "    </tr>\n",
       "    <tr>\n",
       "      <th>7</th>\n",
       "      <td>8</td>\n",
       "      <td>31</td>\n",
       "      <td>Giáo dục</td>\n",
       "    </tr>\n",
       "    <tr>\n",
       "      <th>8</th>\n",
       "      <td>3</td>\n",
       "      <td>31</td>\n",
       "      <td>Bất động sản</td>\n",
       "    </tr>\n",
       "    <tr>\n",
       "      <th>9</th>\n",
       "      <td>4</td>\n",
       "      <td>26</td>\n",
       "      <td>Khoa học</td>\n",
       "    </tr>\n",
       "    <tr>\n",
       "      <th>10</th>\n",
       "      <td>1</td>\n",
       "      <td>25</td>\n",
       "      <td>Thế giới</td>\n",
       "    </tr>\n",
       "    <tr>\n",
       "      <th>11</th>\n",
       "      <td>13</td>\n",
       "      <td>22</td>\n",
       "      <td>Ôtô - Xe máy</td>\n",
       "    </tr>\n",
       "    <tr>\n",
       "      <th>12</th>\n",
       "      <td>9</td>\n",
       "      <td>19</td>\n",
       "      <td>Sức khỏe</td>\n",
       "    </tr>\n",
       "    <tr>\n",
       "      <th>13</th>\n",
       "      <td>5</td>\n",
       "      <td>19</td>\n",
       "      <td>Giải trí</td>\n",
       "    </tr>\n",
       "    <tr>\n",
       "      <th>14</th>\n",
       "      <td>6</td>\n",
       "      <td>6</td>\n",
       "      <td>Thể thao</td>\n",
       "    </tr>\n",
       "  </tbody>\n",
       "</table>\n",
       "</div>"
      ],
      "text/plain": [
       "    Topic  Error Count         Class\n",
       "0      10           96      Đời sống\n",
       "1       2           50    Kinh doanh\n",
       "2       7           46     Pháp luật\n",
       "3       0           39       Thời sự\n",
       "4      14           36        Ý kiến\n",
       "5      11           35       Du lịch\n",
       "6      12           32        Số hóa\n",
       "7       8           31      Giáo dục\n",
       "8       3           31  Bất động sản\n",
       "9       4           26      Khoa học\n",
       "10      1           25      Thế giới\n",
       "11     13           22  Ôtô - Xe máy\n",
       "12      9           19      Sức khỏe\n",
       "13      5           19      Giải trí\n",
       "14      6            6      Thể thao"
      ]
     },
     "execution_count": 64,
     "metadata": {},
     "output_type": "execute_result"
    }
   ],
   "source": [
    "error_df"
   ]
  }
 ],
 "metadata": {
  "kaggle": {
   "accelerator": "gpu",
   "dataSources": [
    {
     "datasetId": 6291126,
     "sourceId": 10183846,
     "sourceType": "datasetVersion"
    },
    {
     "datasetId": 6292955,
     "sourceId": 10186388,
     "sourceType": "datasetVersion"
    }
   ],
   "dockerImageVersionId": 30805,
   "isGpuEnabled": true,
   "isInternetEnabled": true,
   "language": "python",
   "sourceType": "notebook"
  },
  "kernelspec": {
   "display_name": "Python 3",
   "language": "python",
   "name": "python3"
  },
  "language_info": {
   "codemirror_mode": {
    "name": "ipython",
    "version": 3
   },
   "file_extension": ".py",
   "mimetype": "text/x-python",
   "name": "python",
   "nbconvert_exporter": "python",
   "pygments_lexer": "ipython3",
   "version": "3.11.5"
  }
 },
 "nbformat": 4,
 "nbformat_minor": 4
}
