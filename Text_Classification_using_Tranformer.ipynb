{
 "cells": [
  {
   "cell_type": "markdown",
   "id": "32e0ea2e",
   "metadata": {
    "papermill": {
     "duration": 0.004519,
     "end_time": "2024-12-12T14:56:03.374127",
     "exception": false,
     "start_time": "2024-12-12T14:56:03.369608",
     "status": "completed"
    },
    "tags": []
   },
   "source": [
    "# Import thư viện"
   ]
  },
  {
   "cell_type": "code",
   "execution_count": 1,
   "id": "a4a9a0bb",
   "metadata": {
    "_cell_guid": "b1076dfc-b9ad-4769-8c92-a6c4dae69d19",
    "_uuid": "8f2839f25d086af736a60e9eeb907d3b93b6e0e5",
    "execution": {
     "iopub.execute_input": "2024-12-12T14:56:03.382880Z",
     "iopub.status.busy": "2024-12-12T14:56:03.382488Z",
     "iopub.status.idle": "2024-12-12T14:56:09.964437Z",
     "shell.execute_reply": "2024-12-12T14:56:09.963477Z"
    },
    "papermill": {
     "duration": 6.588754,
     "end_time": "2024-12-12T14:56:09.966572",
     "exception": false,
     "start_time": "2024-12-12T14:56:03.377818",
     "status": "completed"
    },
    "tags": []
   },
   "outputs": [],
   "source": [
    "import torch\n",
    "from torch.utils.data import Dataset, DataLoader, random_split\n",
    "from sklearn.model_selection import train_test_split\n",
    "from sklearn.metrics import accuracy_score, classification_report\n",
    "import torch.nn as nn\n",
    "import torch.optim as optim\n",
    "from transformers import AutoTokenizer\n",
    "import pandas as pd\n",
    "import numpy as np"
   ]
  },
  {
   "cell_type": "markdown",
   "id": "1ef5ec4c",
   "metadata": {
    "papermill": {
     "duration": 0.003469,
     "end_time": "2024-12-12T14:56:09.973788",
     "exception": false,
     "start_time": "2024-12-12T14:56:09.970319",
     "status": "completed"
    },
    "tags": []
   },
   "source": [
    "# Load data"
   ]
  },
  {
   "cell_type": "code",
   "execution_count": 2,
   "id": "3e07f1f2",
   "metadata": {
    "execution": {
     "iopub.execute_input": "2024-12-12T14:56:09.984049Z",
     "iopub.status.busy": "2024-12-12T14:56:09.982980Z",
     "iopub.status.idle": "2024-12-12T14:56:22.554248Z",
     "shell.execute_reply": "2024-12-12T14:56:22.553470Z"
    },
    "papermill": {
     "duration": 12.577649,
     "end_time": "2024-12-12T14:56:22.556242",
     "exception": false,
     "start_time": "2024-12-12T14:56:09.978593",
     "status": "completed"
    },
    "tags": []
   },
   "outputs": [
    {
     "data": {
      "application/vnd.jupyter.widget-view+json": {
       "model_id": "dd320039f98c49958cca283737c649ac",
       "version_major": 2,
       "version_minor": 0
      },
      "text/plain": [
       "config.json:   0%|          | 0.00/678 [00:00<?, ?B/s]"
      ]
     },
     "metadata": {},
     "output_type": "display_data"
    },
    {
     "data": {
      "application/vnd.jupyter.widget-view+json": {
       "model_id": "a70f44c666074ba48c3fdc49ee46074f",
       "version_major": 2,
       "version_minor": 0
      },
      "text/plain": [
       "vocab.txt:   0%|          | 0.00/895k [00:00<?, ?B/s]"
      ]
     },
     "metadata": {},
     "output_type": "display_data"
    },
    {
     "data": {
      "application/vnd.jupyter.widget-view+json": {
       "model_id": "6a1143621c07482391eb0a3e375a37b8",
       "version_major": 2,
       "version_minor": 0
      },
      "text/plain": [
       "bpe.codes:   0%|          | 0.00/1.14M [00:00<?, ?B/s]"
      ]
     },
     "metadata": {},
     "output_type": "display_data"
    },
    {
     "data": {
      "application/vnd.jupyter.widget-view+json": {
       "model_id": "5cb1cd3c1a5249649b31aa506b4622c9",
       "version_major": 2,
       "version_minor": 0
      },
      "text/plain": [
       "tokenizer.json:   0%|          | 0.00/3.13M [00:00<?, ?B/s]"
      ]
     },
     "metadata": {},
     "output_type": "display_data"
    }
   ],
   "source": [
    "# Load data\n",
    "df = pd.read_csv(\"/kaggle/input/preprocessed-data/preprocessed_data.csv\")\n",
    "\n",
    "# Tokenizer\n",
    "tokenizer = AutoTokenizer.from_pretrained(\"vinai/phobert-base-v2\")\n",
    "df[\"Texts\"] = df[\"Paragraph\"].apply(\n",
    "    lambda x: tokenizer.encode(x, truncation=True, max_length=256, padding=\"max_length\")\n",
    ")"
   ]
  },
  {
   "cell_type": "markdown",
   "id": "84ce68cb",
   "metadata": {
    "papermill": {
     "duration": 0.00364,
     "end_time": "2024-12-12T14:56:22.564176",
     "exception": false,
     "start_time": "2024-12-12T14:56:22.560536",
     "status": "completed"
    },
    "tags": []
   },
   "source": [
    "# Define Dataset class"
   ]
  },
  {
   "cell_type": "code",
   "execution_count": 3,
   "id": "6e3d2287",
   "metadata": {
    "execution": {
     "iopub.execute_input": "2024-12-12T14:56:22.573172Z",
     "iopub.status.busy": "2024-12-12T14:56:22.572604Z",
     "iopub.status.idle": "2024-12-12T14:56:22.577660Z",
     "shell.execute_reply": "2024-12-12T14:56:22.576786Z"
    },
    "papermill": {
     "duration": 0.011631,
     "end_time": "2024-12-12T14:56:22.579475",
     "exception": false,
     "start_time": "2024-12-12T14:56:22.567844",
     "status": "completed"
    },
    "tags": []
   },
   "outputs": [],
   "source": [
    "# Define Dataset class\n",
    "class TextDataset(Dataset):\n",
    "    def __init__(self, texts, labels):\n",
    "        self.texts = texts\n",
    "        self.labels = labels\n",
    "\n",
    "    def __len__(self):\n",
    "        return len(self.texts)\n",
    "\n",
    "    def __getitem__(self, idx):\n",
    "        return torch.tensor(self.texts[idx]), torch.tensor(self.labels[idx])"
   ]
  },
  {
   "cell_type": "code",
   "execution_count": 4,
   "id": "eba4a95f",
   "metadata": {
    "execution": {
     "iopub.execute_input": "2024-12-12T14:56:22.588600Z",
     "iopub.status.busy": "2024-12-12T14:56:22.588012Z",
     "iopub.status.idle": "2024-12-12T14:56:22.593351Z",
     "shell.execute_reply": "2024-12-12T14:56:22.592595Z"
    },
    "papermill": {
     "duration": 0.011404,
     "end_time": "2024-12-12T14:56:22.594807",
     "exception": false,
     "start_time": "2024-12-12T14:56:22.583403",
     "status": "completed"
    },
    "tags": []
   },
   "outputs": [],
   "source": [
    "# Prepare data\n",
    "texts = df[\"Texts\"].tolist()\n",
    "labels = df[\"Topic\"].tolist()"
   ]
  },
  {
   "cell_type": "markdown",
   "id": "9c544597",
   "metadata": {
    "papermill": {
     "duration": 0.003777,
     "end_time": "2024-12-12T14:56:22.602617",
     "exception": false,
     "start_time": "2024-12-12T14:56:22.598840",
     "status": "completed"
    },
    "tags": []
   },
   "source": [
    "# Split data"
   ]
  },
  {
   "cell_type": "code",
   "execution_count": 5,
   "id": "c0c919d7",
   "metadata": {
    "execution": {
     "iopub.execute_input": "2024-12-12T14:56:22.612047Z",
     "iopub.status.busy": "2024-12-12T14:56:22.611289Z",
     "iopub.status.idle": "2024-12-12T14:56:22.630564Z",
     "shell.execute_reply": "2024-12-12T14:56:22.629669Z"
    },
    "papermill": {
     "duration": 0.025908,
     "end_time": "2024-12-12T14:56:22.632352",
     "exception": false,
     "start_time": "2024-12-12T14:56:22.606444",
     "status": "completed"
    },
    "tags": []
   },
   "outputs": [],
   "source": [
    "# Split data\n",
    "train_texts, temp_texts, train_labels, temp_labels = train_test_split(\n",
    "    texts, labels, test_size=0.2, random_state=42\n",
    ")\n",
    "val_texts, test_texts, val_labels, test_labels = train_test_split(\n",
    "    temp_texts, temp_labels, test_size=0.5, random_state=42\n",
    ")"
   ]
  },
  {
   "cell_type": "code",
   "execution_count": 6,
   "id": "8517f395",
   "metadata": {
    "execution": {
     "iopub.execute_input": "2024-12-12T14:56:22.641732Z",
     "iopub.status.busy": "2024-12-12T14:56:22.641161Z",
     "iopub.status.idle": "2024-12-12T14:56:22.645171Z",
     "shell.execute_reply": "2024-12-12T14:56:22.644349Z"
    },
    "papermill": {
     "duration": 0.010297,
     "end_time": "2024-12-12T14:56:22.646780",
     "exception": false,
     "start_time": "2024-12-12T14:56:22.636483",
     "status": "completed"
    },
    "tags": []
   },
   "outputs": [],
   "source": [
    "# Create datasets\n",
    "train_dataset = TextDataset(train_texts, train_labels)\n",
    "val_dataset = TextDataset(val_texts, val_labels)\n",
    "test_dataset = TextDataset(test_texts, test_labels)"
   ]
  },
  {
   "cell_type": "markdown",
   "id": "7035d1a3",
   "metadata": {
    "papermill": {
     "duration": 0.003625,
     "end_time": "2024-12-12T14:56:22.654433",
     "exception": false,
     "start_time": "2024-12-12T14:56:22.650808",
     "status": "completed"
    },
    "tags": []
   },
   "source": [
    "# Create dataloaders"
   ]
  },
  {
   "cell_type": "code",
   "execution_count": 7,
   "id": "f7a900e8",
   "metadata": {
    "execution": {
     "iopub.execute_input": "2024-12-12T14:56:22.663176Z",
     "iopub.status.busy": "2024-12-12T14:56:22.662863Z",
     "iopub.status.idle": "2024-12-12T14:56:22.667496Z",
     "shell.execute_reply": "2024-12-12T14:56:22.666673Z"
    },
    "papermill": {
     "duration": 0.010875,
     "end_time": "2024-12-12T14:56:22.669077",
     "exception": false,
     "start_time": "2024-12-12T14:56:22.658202",
     "status": "completed"
    },
    "tags": []
   },
   "outputs": [],
   "source": [
    "# Create dataloaders\n",
    "batch_size = 32\n",
    "train_loader = DataLoader(train_dataset, batch_size=batch_size, shuffle=True)\n",
    "val_loader = DataLoader(val_dataset, batch_size=batch_size, shuffle=False)\n",
    "test_loader = DataLoader(test_dataset, batch_size=batch_size, shuffle=False)"
   ]
  },
  {
   "cell_type": "markdown",
   "id": "4ba75a54",
   "metadata": {
    "papermill": {
     "duration": 0.003711,
     "end_time": "2024-12-12T14:56:22.676613",
     "exception": false,
     "start_time": "2024-12-12T14:56:22.672902",
     "status": "completed"
    },
    "tags": []
   },
   "source": [
    "# Define TransformerClassifier class"
   ]
  },
  {
   "cell_type": "code",
   "execution_count": 8,
   "id": "380029f3",
   "metadata": {
    "execution": {
     "iopub.execute_input": "2024-12-12T14:56:22.685783Z",
     "iopub.status.busy": "2024-12-12T14:56:22.685049Z",
     "iopub.status.idle": "2024-12-12T14:56:22.695737Z",
     "shell.execute_reply": "2024-12-12T14:56:22.694899Z"
    },
    "papermill": {
     "duration": 0.017094,
     "end_time": "2024-12-12T14:56:22.697431",
     "exception": false,
     "start_time": "2024-12-12T14:56:22.680337",
     "status": "completed"
    },
    "tags": []
   },
   "outputs": [],
   "source": [
    "# Define TransformerClassifier class\n",
    "class TransformerClassifier(nn.Module):\n",
    "    def __init__(self, vocab_size, embed_dim, num_heads, hidden_dim, num_classes, max_len, dropout_rate=0.3):\n",
    "        super(TransformerClassifier, self).__init__()\n",
    "        self.embedding = nn.Embedding(vocab_size, embed_dim)\n",
    "        self.positional_encoding = self._create_positional_encoding(max_len, embed_dim)\n",
    "        self.dropout_rate = dropout_rate\n",
    "        self.dropout = nn.Dropout(dropout_rate)  # Embedding and attention outputs dropout\n",
    "        self.attention = nn.MultiheadAttention(embed_dim, num_heads, batch_first=True)\n",
    "        self.fc = nn.Sequential(\n",
    "            nn.Linear(embed_dim, hidden_dim),\n",
    "            nn.ReLU(),\n",
    "            nn.Dropout(dropout_rate),  # Fully connected layer dropout\n",
    "            nn.Linear(hidden_dim, num_classes)\n",
    "        )\n",
    "        # Move positional_encoding to the device during initialization\n",
    "        self.positional_encoding = self.positional_encoding.to(device)\n",
    "\n",
    "    def _create_positional_encoding(self, max_len, embed_dim):\n",
    "        pe = torch.zeros(max_len, embed_dim)\n",
    "        for pos in range(max_len):\n",
    "            for i in range(0, embed_dim, 2):\n",
    "                pe[pos, i] = np.sin(pos / (10000 ** (2 * i / embed_dim)))\n",
    "                if i + 1 < embed_dim:\n",
    "                    pe[pos, i + 1] = np.cos(pos / (10000 ** (2 * i / embed_dim)))\n",
    "        return pe.unsqueeze(0)\n",
    "\n",
    "    def forward(self, input_ids):\n",
    "        # Apply dropout after embedding and positional encoding\n",
    "        x = self.embedding(input_ids) + self.positional_encoding[:, :input_ids.size(1), :]\n",
    "        x = self.dropout(x)\n",
    "        x, _ = self.attention(x, x, x)\n",
    "        # Apply dropout after attention\n",
    "        x = self.dropout(x)\n",
    "        x = x.mean(dim=1)  # Pooling\n",
    "        return self.fc(x)"
   ]
  },
  {
   "cell_type": "markdown",
   "id": "13e4c010",
   "metadata": {
    "papermill": {
     "duration": 0.003663,
     "end_time": "2024-12-12T14:56:22.705000",
     "exception": false,
     "start_time": "2024-12-12T14:56:22.701337",
     "status": "completed"
    },
    "tags": []
   },
   "source": [
    "# Khởi tạo mô hình và các tham số"
   ]
  },
  {
   "cell_type": "code",
   "execution_count": 9,
   "id": "478de494",
   "metadata": {
    "execution": {
     "iopub.execute_input": "2024-12-12T14:56:22.714599Z",
     "iopub.status.busy": "2024-12-12T14:56:22.713977Z",
     "iopub.status.idle": "2024-12-12T14:56:24.720224Z",
     "shell.execute_reply": "2024-12-12T14:56:24.719480Z"
    },
    "papermill": {
     "duration": 2.013177,
     "end_time": "2024-12-12T14:56:24.722305",
     "exception": false,
     "start_time": "2024-12-12T14:56:22.709128",
     "status": "completed"
    },
    "tags": []
   },
   "outputs": [],
   "source": [
    "\n",
    "# Initialize model and hyperparameters\n",
    "vocab_size = len(tokenizer)\n",
    "embed_dim = 128\n",
    "num_heads = 8\n",
    "hidden_dim = 256\n",
    "num_classes = len(set(labels))\n",
    "max_len = 256\n",
    "dropout_rate = 0.3\n",
    "device = torch.device(\"cuda\" if torch.cuda.is_available() else \"cpu\")\n",
    "\n",
    "model = TransformerClassifier(vocab_size, embed_dim, num_heads, hidden_dim, num_classes, max_len, dropout_rate)\n",
    "model = model.to(device)\n",
    "\n",
    "criterion = nn.CrossEntropyLoss()\n",
    "optimizer = optim.Adam(model.parameters(), lr=0.001)"
   ]
  },
  {
   "cell_type": "markdown",
   "id": "8318c44a",
   "metadata": {
    "papermill": {
     "duration": 0.003699,
     "end_time": "2024-12-12T14:56:24.730140",
     "exception": false,
     "start_time": "2024-12-12T14:56:24.726441",
     "status": "completed"
    },
    "tags": []
   },
   "source": [
    "# Train the model"
   ]
  },
  {
   "cell_type": "code",
   "execution_count": 10,
   "id": "c1644e38",
   "metadata": {
    "execution": {
     "iopub.execute_input": "2024-12-12T14:56:24.739913Z",
     "iopub.status.busy": "2024-12-12T14:56:24.738796Z",
     "iopub.status.idle": "2024-12-12T15:02:30.196070Z",
     "shell.execute_reply": "2024-12-12T15:02:30.195179Z"
    },
    "papermill": {
     "duration": 365.46418,
     "end_time": "2024-12-12T15:02:30.198094",
     "exception": false,
     "start_time": "2024-12-12T14:56:24.733914",
     "status": "completed"
    },
    "tags": []
   },
   "outputs": [
    {
     "name": "stdout",
     "output_type": "stream",
     "text": [
      "Epoch 1/50, Train Loss: 2.1171,           Val Loss: 1.5531, Val Accuracy: 0.5243\n",
      "Epoch 2/50, Train Loss: 1.5270,           Val Loss: 1.1900, Val Accuracy: 0.6337\n",
      "Epoch 3/50, Train Loss: 1.2722,           Val Loss: 1.0337, Val Accuracy: 0.6863\n",
      "Epoch 4/50, Train Loss: 1.1186,           Val Loss: 0.9869, Val Accuracy: 0.7023\n",
      "Epoch 5/50, Train Loss: 1.0108,           Val Loss: 0.8758, Val Accuracy: 0.7333\n",
      "Epoch 6/50, Train Loss: 0.9149,           Val Loss: 0.8346, Val Accuracy: 0.7483\n",
      "Epoch 7/50, Train Loss: 0.8426,           Val Loss: 0.7890, Val Accuracy: 0.7730\n",
      "Epoch 8/50, Train Loss: 0.7643,           Val Loss: 0.7785, Val Accuracy: 0.7800\n",
      "Epoch 9/50, Train Loss: 0.7152,           Val Loss: 0.7257, Val Accuracy: 0.7893\n",
      "Epoch 10/50, Train Loss: 0.6575,           Val Loss: 0.7258, Val Accuracy: 0.7903\n",
      "Epoch 11/50, Train Loss: 0.6158,           Val Loss: 0.7538, Val Accuracy: 0.7847\n",
      "Epoch 12/50, Train Loss: 0.5681,           Val Loss: 0.7025, Val Accuracy: 0.8083\n",
      "Epoch 13/50, Train Loss: 0.5334,           Val Loss: 0.7163, Val Accuracy: 0.7973\n",
      "Epoch 14/50, Train Loss: 0.5078,           Val Loss: 0.7502, Val Accuracy: 0.8003\n",
      "Epoch 15/50, Train Loss: 0.4648,           Val Loss: 0.6930, Val Accuracy: 0.8100\n",
      "Epoch 16/50, Train Loss: 0.4413,           Val Loss: 0.6582, Val Accuracy: 0.8227\n",
      "Epoch 17/50, Train Loss: 0.4205,           Val Loss: 0.6771, Val Accuracy: 0.8187\n",
      "Epoch 18/50, Train Loss: 0.3940,           Val Loss: 0.6694, Val Accuracy: 0.8203\n",
      "Epoch 19/50, Train Loss: 0.3679,           Val Loss: 0.6751, Val Accuracy: 0.8257\n",
      "Epoch 20/50, Train Loss: 0.3468,           Val Loss: 0.6837, Val Accuracy: 0.8277\n",
      "Epoch 21/50, Train Loss: 0.3333,           Val Loss: 0.6965, Val Accuracy: 0.8293\n",
      "Epoch 22/50, Train Loss: 0.3124,           Val Loss: 0.7058, Val Accuracy: 0.8290\n",
      "Epoch 23/50, Train Loss: 0.2990,           Val Loss: 0.7418, Val Accuracy: 0.8263\n",
      "Epoch 24/50, Train Loss: 0.2881,           Val Loss: 0.6917, Val Accuracy: 0.8327\n",
      "Epoch 25/50, Train Loss: 0.2651,           Val Loss: 0.7715, Val Accuracy: 0.8253\n",
      "Epoch 26/50, Train Loss: 0.2506,           Val Loss: 0.7387, Val Accuracy: 0.8290\n",
      "Epoch 27/50, Train Loss: 0.2509,           Val Loss: 0.7062, Val Accuracy: 0.8253\n",
      "Epoch 28/50, Train Loss: 0.2301,           Val Loss: 0.7769, Val Accuracy: 0.8313\n",
      "Epoch 29/50, Train Loss: 0.2284,           Val Loss: 0.7254, Val Accuracy: 0.8367\n",
      "Epoch 30/50, Train Loss: 0.2137,           Val Loss: 0.7464, Val Accuracy: 0.8257\n",
      "Epoch 31/50, Train Loss: 0.2088,           Val Loss: 0.7696, Val Accuracy: 0.8327\n",
      "Epoch 32/50, Train Loss: 0.1996,           Val Loss: 0.8257, Val Accuracy: 0.8363\n",
      "Epoch 33/50, Train Loss: 0.1997,           Val Loss: 0.7692, Val Accuracy: 0.8353\n",
      "Epoch 34/50, Train Loss: 0.1840,           Val Loss: 0.8755, Val Accuracy: 0.8377\n",
      "Epoch 35/50, Train Loss: 0.1807,           Val Loss: 0.8447, Val Accuracy: 0.8360\n",
      "Epoch 36/50, Train Loss: 0.1672,           Val Loss: 0.8712, Val Accuracy: 0.8350\n",
      "Epoch 37/50, Train Loss: 0.1678,           Val Loss: 0.8936, Val Accuracy: 0.8343\n",
      "Epoch 38/50, Train Loss: 0.1606,           Val Loss: 0.8565, Val Accuracy: 0.8413\n",
      "Epoch 39/50, Train Loss: 0.1618,           Val Loss: 0.8490, Val Accuracy: 0.8403\n",
      "Epoch 40/50, Train Loss: 0.1534,           Val Loss: 0.8937, Val Accuracy: 0.8393\n",
      "Epoch 41/50, Train Loss: 0.1424,           Val Loss: 0.9265, Val Accuracy: 0.8383\n",
      "Epoch 42/50, Train Loss: 0.1441,           Val Loss: 0.8842, Val Accuracy: 0.8447\n",
      "Epoch 43/50, Train Loss: 0.1392,           Val Loss: 0.9025, Val Accuracy: 0.8423\n",
      "Epoch 44/50, Train Loss: 0.1375,           Val Loss: 0.9212, Val Accuracy: 0.8440\n",
      "Epoch 45/50, Train Loss: 0.1405,           Val Loss: 0.8845, Val Accuracy: 0.8380\n",
      "Epoch 46/50, Train Loss: 0.1230,           Val Loss: 0.8751, Val Accuracy: 0.8417\n",
      "Epoch 47/50, Train Loss: 0.1244,           Val Loss: 0.9328, Val Accuracy: 0.8353\n",
      "Epoch 48/50, Train Loss: 0.1196,           Val Loss: 0.9879, Val Accuracy: 0.8340\n",
      "Epoch 49/50, Train Loss: 0.1228,           Val Loss: 0.9229, Val Accuracy: 0.8327\n",
      "Epoch 50/50, Train Loss: 0.1145,           Val Loss: 0.9260, Val Accuracy: 0.8293\n"
     ]
    }
   ],
   "source": [
    "# Train the model\n",
    "model = model.to(device)\n",
    "epochs = 50\n",
    "for epoch in range(epochs):\n",
    "    model.train()\n",
    "    train_loss = 0\n",
    "    for inputs, labels in train_loader:\n",
    "        inputs, labels = inputs.to(device), labels.to(device)\n",
    "        optimizer.zero_grad()\n",
    "        outputs = model(inputs)\n",
    "        loss = criterion(outputs, labels)\n",
    "        loss.backward()\n",
    "        optimizer.step()\n",
    "        train_loss += loss.item()\n",
    "\n",
    "    # Validation\n",
    "    model.eval()\n",
    "    val_loss = 0\n",
    "    correct = 0\n",
    "    total = 0\n",
    "    with torch.no_grad():\n",
    "        for inputs, labels in val_loader:\n",
    "            inputs, labels = inputs.to(device), labels.to(device)\n",
    "            outputs = model(inputs)\n",
    "            loss = criterion(outputs, labels)\n",
    "            val_loss += loss.item()\n",
    "            _, predicted = torch.max(outputs, 1)\n",
    "            total += labels.size(0)\n",
    "            correct += (predicted == labels).sum().item()\n",
    "\n",
    "    print(f\"Epoch {epoch+1}/{epochs}, Train Loss: {train_loss/len(train_loader):.4f}, \\\n",
    "          Val Loss: {val_loss/len(val_loader):.4f}, Val Accuracy: {correct/total:.4f}\")"
   ]
  },
  {
   "cell_type": "markdown",
   "id": "e7dae10e",
   "metadata": {
    "papermill": {
     "duration": 0.005928,
     "end_time": "2024-12-12T15:02:30.210250",
     "exception": false,
     "start_time": "2024-12-12T15:02:30.204322",
     "status": "completed"
    },
    "tags": []
   },
   "source": [
    "# Evaluation on test set"
   ]
  },
  {
   "cell_type": "code",
   "execution_count": 11,
   "id": "b3f49842",
   "metadata": {
    "execution": {
     "iopub.execute_input": "2024-12-12T15:02:30.223743Z",
     "iopub.status.busy": "2024-12-12T15:02:30.223397Z",
     "iopub.status.idle": "2024-12-12T15:02:30.606284Z",
     "shell.execute_reply": "2024-12-12T15:02:30.605389Z"
    },
    "papermill": {
     "duration": 0.39207,
     "end_time": "2024-12-12T15:02:30.608405",
     "exception": false,
     "start_time": "2024-12-12T15:02:30.216335",
     "status": "completed"
    },
    "tags": []
   },
   "outputs": [
    {
     "name": "stdout",
     "output_type": "stream",
     "text": [
      "Test Accuracy: 0.848\n",
      "Classification Report on Test Set:\n",
      "              precision    recall  f1-score   support\n",
      "\n",
      "           0       0.84      0.77      0.81       172\n",
      "           1       0.93      0.89      0.91       222\n",
      "           2       0.77      0.74      0.75       201\n",
      "           3       0.87      0.88      0.87       211\n",
      "           4       0.87      0.85      0.86       200\n",
      "           5       0.93      0.83      0.88       195\n",
      "           6       0.96      0.95      0.96       216\n",
      "           7       0.78      0.86      0.82       221\n",
      "           8       0.81      0.89      0.85       195\n",
      "           9       0.91      0.91      0.91       170\n",
      "          10       0.74      0.72      0.73       199\n",
      "          11       0.88      0.84      0.86       185\n",
      "          12       0.78      0.85      0.81       239\n",
      "          13       0.91      0.91      0.91       194\n",
      "          14       0.78      0.83      0.81       180\n",
      "\n",
      "    accuracy                           0.85      3000\n",
      "   macro avg       0.85      0.85      0.85      3000\n",
      "weighted avg       0.85      0.85      0.85      3000\n",
      "\n"
     ]
    }
   ],
   "source": [
    "\n",
    "# Evaluation on test set\n",
    "model.eval()\n",
    "all_preds = []\n",
    "all_labels = []\n",
    "\n",
    "with torch.no_grad():\n",
    "    for inputs, labels in test_loader:\n",
    "        inputs, labels = inputs.to(device), labels.to(device)\n",
    "\n",
    "        outputs = model(inputs)\n",
    "        preds = torch.argmax(outputs, dim=1)\n",
    "        all_preds.extend(preds.cpu().numpy())\n",
    "        all_labels.extend(labels.cpu().numpy())\n",
    "\n",
    "accuracy = accuracy_score(all_labels, all_preds)\n",
    "print(\"Test Accuracy:\", accuracy)\n",
    "print(\"Classification Report on Test Set:\")\n",
    "print(classification_report(all_labels, all_preds))"
   ]
  },
  {
   "cell_type": "markdown",
   "id": "57545369",
   "metadata": {
    "papermill": {
     "duration": 0.006196,
     "end_time": "2024-12-12T15:02:30.620817",
     "exception": false,
     "start_time": "2024-12-12T15:02:30.614621",
     "status": "completed"
    },
    "tags": []
   },
   "source": [
    "# Save the model"
   ]
  },
  {
   "cell_type": "code",
   "execution_count": 12,
   "id": "6e7ffb51",
   "metadata": {
    "execution": {
     "iopub.execute_input": "2024-12-12T15:02:30.634203Z",
     "iopub.status.busy": "2024-12-12T15:02:30.633841Z",
     "iopub.status.idle": "2024-12-12T15:02:30.705514Z",
     "shell.execute_reply": "2024-12-12T15:02:30.704806Z"
    },
    "papermill": {
     "duration": 0.080807,
     "end_time": "2024-12-12T15:02:30.707517",
     "exception": false,
     "start_time": "2024-12-12T15:02:30.626710",
     "status": "completed"
    },
    "tags": []
   },
   "outputs": [],
   "source": [
    "# Save the model\n",
    "torch.save(model.state_dict(), \"model.pth\")"
   ]
  }
 ],
 "metadata": {
  "kaggle": {
   "accelerator": "gpu",
   "dataSources": [
    {
     "datasetId": 6273124,
     "sourceId": 10159452,
     "sourceType": "datasetVersion"
    }
   ],
   "dockerImageVersionId": 30805,
   "isGpuEnabled": true,
   "isInternetEnabled": true,
   "language": "python",
   "sourceType": "notebook"
  },
  "kernelspec": {
   "display_name": "Python 3",
   "language": "python",
   "name": "python3"
  },
  "language_info": {
   "codemirror_mode": {
    "name": "ipython",
    "version": 3
   },
   "file_extension": ".py",
   "mimetype": "text/x-python",
   "name": "python",
   "nbconvert_exporter": "python",
   "pygments_lexer": "ipython3",
   "version": "3.10.14"
  },
  "papermill": {
   "default_parameters": {},
   "duration": 391.75914,
   "end_time": "2024-12-12T15:02:32.537131",
   "environment_variables": {},
   "exception": null,
   "input_path": "__notebook__.ipynb",
   "output_path": "__notebook__.ipynb",
   "parameters": {},
   "start_time": "2024-12-12T14:56:00.777991",
   "version": "2.6.0"
  },
  "widgets": {
   "application/vnd.jupyter.widget-state+json": {
    "state": {
     "0760044029d24a6c9682c82c00c161a8": {
      "model_module": "@jupyter-widgets/base",
      "model_module_version": "2.0.0",
      "model_name": "LayoutModel",
      "state": {
       "_model_module": "@jupyter-widgets/base",
       "_model_module_version": "2.0.0",
       "_model_name": "LayoutModel",
       "_view_count": null,
       "_view_module": "@jupyter-widgets/base",
       "_view_module_version": "2.0.0",
       "_view_name": "LayoutView",
       "align_content": null,
       "align_items": null,
       "align_self": null,
       "border_bottom": null,
       "border_left": null,
       "border_right": null,
       "border_top": null,
       "bottom": null,
       "display": null,
       "flex": null,
       "flex_flow": null,
       "grid_area": null,
       "grid_auto_columns": null,
       "grid_auto_flow": null,
       "grid_auto_rows": null,
       "grid_column": null,
       "grid_gap": null,
       "grid_row": null,
       "grid_template_areas": null,
       "grid_template_columns": null,
       "grid_template_rows": null,
       "height": null,
       "justify_content": null,
       "justify_items": null,
       "left": null,
       "margin": null,
       "max_height": null,
       "max_width": null,
       "min_height": null,
       "min_width": null,
       "object_fit": null,
       "object_position": null,
       "order": null,
       "overflow": null,
       "padding": null,
       "right": null,
       "top": null,
       "visibility": null,
       "width": null
      }
     },
     "0c5b54746dea4990b77ee82be86b892e": {
      "model_module": "@jupyter-widgets/base",
      "model_module_version": "2.0.0",
      "model_name": "LayoutModel",
      "state": {
       "_model_module": "@jupyter-widgets/base",
       "_model_module_version": "2.0.0",
       "_model_name": "LayoutModel",
       "_view_count": null,
       "_view_module": "@jupyter-widgets/base",
       "_view_module_version": "2.0.0",
       "_view_name": "LayoutView",
       "align_content": null,
       "align_items": null,
       "align_self": null,
       "border_bottom": null,
       "border_left": null,
       "border_right": null,
       "border_top": null,
       "bottom": null,
       "display": null,
       "flex": null,
       "flex_flow": null,
       "grid_area": null,
       "grid_auto_columns": null,
       "grid_auto_flow": null,
       "grid_auto_rows": null,
       "grid_column": null,
       "grid_gap": null,
       "grid_row": null,
       "grid_template_areas": null,
       "grid_template_columns": null,
       "grid_template_rows": null,
       "height": null,
       "justify_content": null,
       "justify_items": null,
       "left": null,
       "margin": null,
       "max_height": null,
       "max_width": null,
       "min_height": null,
       "min_width": null,
       "object_fit": null,
       "object_position": null,
       "order": null,
       "overflow": null,
       "padding": null,
       "right": null,
       "top": null,
       "visibility": null,
       "width": null
      }
     },
     "0d02ff72d6854e929f708242e05d4684": {
      "model_module": "@jupyter-widgets/controls",
      "model_module_version": "2.0.0",
      "model_name": "HTMLModel",
      "state": {
       "_dom_classes": [],
       "_model_module": "@jupyter-widgets/controls",
       "_model_module_version": "2.0.0",
       "_model_name": "HTMLModel",
       "_view_count": null,
       "_view_module": "@jupyter-widgets/controls",
       "_view_module_version": "2.0.0",
       "_view_name": "HTMLView",
       "description": "",
       "description_allow_html": false,
       "layout": "IPY_MODEL_70d17d1981f54e8893e20104770164bf",
       "placeholder": "​",
       "style": "IPY_MODEL_50436d98e91547649c6ca8db66787214",
       "tabbable": null,
       "tooltip": null,
       "value": "vocab.txt: 100%"
      }
     },
     "0d8a828da52c46a39db44a954f0c7e2d": {
      "model_module": "@jupyter-widgets/controls",
      "model_module_version": "2.0.0",
      "model_name": "HTMLStyleModel",
      "state": {
       "_model_module": "@jupyter-widgets/controls",
       "_model_module_version": "2.0.0",
       "_model_name": "HTMLStyleModel",
       "_view_count": null,
       "_view_module": "@jupyter-widgets/base",
       "_view_module_version": "2.0.0",
       "_view_name": "StyleView",
       "background": null,
       "description_width": "",
       "font_size": null,
       "text_color": null
      }
     },
     "1a46d8cfbcf6448d973edbcde080476f": {
      "model_module": "@jupyter-widgets/base",
      "model_module_version": "2.0.0",
      "model_name": "LayoutModel",
      "state": {
       "_model_module": "@jupyter-widgets/base",
       "_model_module_version": "2.0.0",
       "_model_name": "LayoutModel",
       "_view_count": null,
       "_view_module": "@jupyter-widgets/base",
       "_view_module_version": "2.0.0",
       "_view_name": "LayoutView",
       "align_content": null,
       "align_items": null,
       "align_self": null,
       "border_bottom": null,
       "border_left": null,
       "border_right": null,
       "border_top": null,
       "bottom": null,
       "display": null,
       "flex": null,
       "flex_flow": null,
       "grid_area": null,
       "grid_auto_columns": null,
       "grid_auto_flow": null,
       "grid_auto_rows": null,
       "grid_column": null,
       "grid_gap": null,
       "grid_row": null,
       "grid_template_areas": null,
       "grid_template_columns": null,
       "grid_template_rows": null,
       "height": null,
       "justify_content": null,
       "justify_items": null,
       "left": null,
       "margin": null,
       "max_height": null,
       "max_width": null,
       "min_height": null,
       "min_width": null,
       "object_fit": null,
       "object_position": null,
       "order": null,
       "overflow": null,
       "padding": null,
       "right": null,
       "top": null,
       "visibility": null,
       "width": null
      }
     },
     "1d1b3ba95aba41e7bed4f9102ae074aa": {
      "model_module": "@jupyter-widgets/controls",
      "model_module_version": "2.0.0",
      "model_name": "HTMLModel",
      "state": {
       "_dom_classes": [],
       "_model_module": "@jupyter-widgets/controls",
       "_model_module_version": "2.0.0",
       "_model_name": "HTMLModel",
       "_view_count": null,
       "_view_module": "@jupyter-widgets/controls",
       "_view_module_version": "2.0.0",
       "_view_name": "HTMLView",
       "description": "",
       "description_allow_html": false,
       "layout": "IPY_MODEL_4df020942152461480babf6001cb9659",
       "placeholder": "​",
       "style": "IPY_MODEL_d582b00df61540bdb69415a388e08259",
       "tabbable": null,
       "tooltip": null,
       "value": "bpe.codes: 100%"
      }
     },
     "28a539e827944f64aba699e5f073b87c": {
      "model_module": "@jupyter-widgets/base",
      "model_module_version": "2.0.0",
      "model_name": "LayoutModel",
      "state": {
       "_model_module": "@jupyter-widgets/base",
       "_model_module_version": "2.0.0",
       "_model_name": "LayoutModel",
       "_view_count": null,
       "_view_module": "@jupyter-widgets/base",
       "_view_module_version": "2.0.0",
       "_view_name": "LayoutView",
       "align_content": null,
       "align_items": null,
       "align_self": null,
       "border_bottom": null,
       "border_left": null,
       "border_right": null,
       "border_top": null,
       "bottom": null,
       "display": null,
       "flex": null,
       "flex_flow": null,
       "grid_area": null,
       "grid_auto_columns": null,
       "grid_auto_flow": null,
       "grid_auto_rows": null,
       "grid_column": null,
       "grid_gap": null,
       "grid_row": null,
       "grid_template_areas": null,
       "grid_template_columns": null,
       "grid_template_rows": null,
       "height": null,
       "justify_content": null,
       "justify_items": null,
       "left": null,
       "margin": null,
       "max_height": null,
       "max_width": null,
       "min_height": null,
       "min_width": null,
       "object_fit": null,
       "object_position": null,
       "order": null,
       "overflow": null,
       "padding": null,
       "right": null,
       "top": null,
       "visibility": null,
       "width": null
      }
     },
     "2fa8d59d8fda40c9859ec71fddcb0601": {
      "model_module": "@jupyter-widgets/controls",
      "model_module_version": "2.0.0",
      "model_name": "HTMLModel",
      "state": {
       "_dom_classes": [],
       "_model_module": "@jupyter-widgets/controls",
       "_model_module_version": "2.0.0",
       "_model_name": "HTMLModel",
       "_view_count": null,
       "_view_module": "@jupyter-widgets/controls",
       "_view_module_version": "2.0.0",
       "_view_name": "HTMLView",
       "description": "",
       "description_allow_html": false,
       "layout": "IPY_MODEL_0760044029d24a6c9682c82c00c161a8",
       "placeholder": "​",
       "style": "IPY_MODEL_605f3045234d44ebae0d4180ec3a2b7b",
       "tabbable": null,
       "tooltip": null,
       "value": " 1.14M/1.14M [00:00&lt;00:00, 1.63MB/s]"
      }
     },
     "33625a0b0a76458d8908857e6ab8f1c2": {
      "model_module": "@jupyter-widgets/controls",
      "model_module_version": "2.0.0",
      "model_name": "HTMLStyleModel",
      "state": {
       "_model_module": "@jupyter-widgets/controls",
       "_model_module_version": "2.0.0",
       "_model_name": "HTMLStyleModel",
       "_view_count": null,
       "_view_module": "@jupyter-widgets/base",
       "_view_module_version": "2.0.0",
       "_view_name": "StyleView",
       "background": null,
       "description_width": "",
       "font_size": null,
       "text_color": null
      }
     },
     "4df020942152461480babf6001cb9659": {
      "model_module": "@jupyter-widgets/base",
      "model_module_version": "2.0.0",
      "model_name": "LayoutModel",
      "state": {
       "_model_module": "@jupyter-widgets/base",
       "_model_module_version": "2.0.0",
       "_model_name": "LayoutModel",
       "_view_count": null,
       "_view_module": "@jupyter-widgets/base",
       "_view_module_version": "2.0.0",
       "_view_name": "LayoutView",
       "align_content": null,
       "align_items": null,
       "align_self": null,
       "border_bottom": null,
       "border_left": null,
       "border_right": null,
       "border_top": null,
       "bottom": null,
       "display": null,
       "flex": null,
       "flex_flow": null,
       "grid_area": null,
       "grid_auto_columns": null,
       "grid_auto_flow": null,
       "grid_auto_rows": null,
       "grid_column": null,
       "grid_gap": null,
       "grid_row": null,
       "grid_template_areas": null,
       "grid_template_columns": null,
       "grid_template_rows": null,
       "height": null,
       "justify_content": null,
       "justify_items": null,
       "left": null,
       "margin": null,
       "max_height": null,
       "max_width": null,
       "min_height": null,
       "min_width": null,
       "object_fit": null,
       "object_position": null,
       "order": null,
       "overflow": null,
       "padding": null,
       "right": null,
       "top": null,
       "visibility": null,
       "width": null
      }
     },
     "50436d98e91547649c6ca8db66787214": {
      "model_module": "@jupyter-widgets/controls",
      "model_module_version": "2.0.0",
      "model_name": "HTMLStyleModel",
      "state": {
       "_model_module": "@jupyter-widgets/controls",
       "_model_module_version": "2.0.0",
       "_model_name": "HTMLStyleModel",
       "_view_count": null,
       "_view_module": "@jupyter-widgets/base",
       "_view_module_version": "2.0.0",
       "_view_name": "StyleView",
       "background": null,
       "description_width": "",
       "font_size": null,
       "text_color": null
      }
     },
     "5116dac6ffcf4aa0bcbbf0f08e343d6a": {
      "model_module": "@jupyter-widgets/controls",
      "model_module_version": "2.0.0",
      "model_name": "FloatProgressModel",
      "state": {
       "_dom_classes": [],
       "_model_module": "@jupyter-widgets/controls",
       "_model_module_version": "2.0.0",
       "_model_name": "FloatProgressModel",
       "_view_count": null,
       "_view_module": "@jupyter-widgets/controls",
       "_view_module_version": "2.0.0",
       "_view_name": "ProgressView",
       "bar_style": "success",
       "description": "",
       "description_allow_html": false,
       "layout": "IPY_MODEL_1a46d8cfbcf6448d973edbcde080476f",
       "max": 1135173.0,
       "min": 0.0,
       "orientation": "horizontal",
       "style": "IPY_MODEL_91ffbf1ec10146cbbe3c67368cbe329c",
       "tabbable": null,
       "tooltip": null,
       "value": 1135173.0
      }
     },
     "5aa551f0a32047d6a2c9482b2a2c0633": {
      "model_module": "@jupyter-widgets/controls",
      "model_module_version": "2.0.0",
      "model_name": "FloatProgressModel",
      "state": {
       "_dom_classes": [],
       "_model_module": "@jupyter-widgets/controls",
       "_model_module_version": "2.0.0",
       "_model_name": "FloatProgressModel",
       "_view_count": null,
       "_view_module": "@jupyter-widgets/controls",
       "_view_module_version": "2.0.0",
       "_view_name": "ProgressView",
       "bar_style": "success",
       "description": "",
       "description_allow_html": false,
       "layout": "IPY_MODEL_f417c06dc6194deba0d4287400a97e16",
       "max": 678.0,
       "min": 0.0,
       "orientation": "horizontal",
       "style": "IPY_MODEL_c355ff6ca16b45f5af1ebb0c39b48784",
       "tabbable": null,
       "tooltip": null,
       "value": 678.0
      }
     },
     "5cb1cd3c1a5249649b31aa506b4622c9": {
      "model_module": "@jupyter-widgets/controls",
      "model_module_version": "2.0.0",
      "model_name": "HBoxModel",
      "state": {
       "_dom_classes": [],
       "_model_module": "@jupyter-widgets/controls",
       "_model_module_version": "2.0.0",
       "_model_name": "HBoxModel",
       "_view_count": null,
       "_view_module": "@jupyter-widgets/controls",
       "_view_module_version": "2.0.0",
       "_view_name": "HBoxView",
       "box_style": "",
       "children": [
        "IPY_MODEL_b0164d96fc9740129d6355bc81c6022b",
        "IPY_MODEL_6dcf6e608a63411aaead46d06a79e878",
        "IPY_MODEL_aa88a0e6f5534b40816370ae75987af5"
       ],
       "layout": "IPY_MODEL_a66d31109d4640f18710f79789c427f3",
       "tabbable": null,
       "tooltip": null
      }
     },
     "605f3045234d44ebae0d4180ec3a2b7b": {
      "model_module": "@jupyter-widgets/controls",
      "model_module_version": "2.0.0",
      "model_name": "HTMLStyleModel",
      "state": {
       "_model_module": "@jupyter-widgets/controls",
       "_model_module_version": "2.0.0",
       "_model_name": "HTMLStyleModel",
       "_view_count": null,
       "_view_module": "@jupyter-widgets/base",
       "_view_module_version": "2.0.0",
       "_view_name": "StyleView",
       "background": null,
       "description_width": "",
       "font_size": null,
       "text_color": null
      }
     },
     "6a1143621c07482391eb0a3e375a37b8": {
      "model_module": "@jupyter-widgets/controls",
      "model_module_version": "2.0.0",
      "model_name": "HBoxModel",
      "state": {
       "_dom_classes": [],
       "_model_module": "@jupyter-widgets/controls",
       "_model_module_version": "2.0.0",
       "_model_name": "HBoxModel",
       "_view_count": null,
       "_view_module": "@jupyter-widgets/controls",
       "_view_module_version": "2.0.0",
       "_view_name": "HBoxView",
       "box_style": "",
       "children": [
        "IPY_MODEL_1d1b3ba95aba41e7bed4f9102ae074aa",
        "IPY_MODEL_5116dac6ffcf4aa0bcbbf0f08e343d6a",
        "IPY_MODEL_2fa8d59d8fda40c9859ec71fddcb0601"
       ],
       "layout": "IPY_MODEL_76903711132541b59ea572e810cb0fd3",
       "tabbable": null,
       "tooltip": null
      }
     },
     "6dcf6e608a63411aaead46d06a79e878": {
      "model_module": "@jupyter-widgets/controls",
      "model_module_version": "2.0.0",
      "model_name": "FloatProgressModel",
      "state": {
       "_dom_classes": [],
       "_model_module": "@jupyter-widgets/controls",
       "_model_module_version": "2.0.0",
       "_model_name": "FloatProgressModel",
       "_view_count": null,
       "_view_module": "@jupyter-widgets/controls",
       "_view_module_version": "2.0.0",
       "_view_name": "ProgressView",
       "bar_style": "success",
       "description": "",
       "description_allow_html": false,
       "layout": "IPY_MODEL_b0012c45eefc470b9f7f5bbee2a72d51",
       "max": 3132320.0,
       "min": 0.0,
       "orientation": "horizontal",
       "style": "IPY_MODEL_dab38925813c46debed2675d746bac0a",
       "tabbable": null,
       "tooltip": null,
       "value": 3132320.0
      }
     },
     "702edf5e2390467190b02ea40eef0ce3": {
      "model_module": "@jupyter-widgets/base",
      "model_module_version": "2.0.0",
      "model_name": "LayoutModel",
      "state": {
       "_model_module": "@jupyter-widgets/base",
       "_model_module_version": "2.0.0",
       "_model_name": "LayoutModel",
       "_view_count": null,
       "_view_module": "@jupyter-widgets/base",
       "_view_module_version": "2.0.0",
       "_view_name": "LayoutView",
       "align_content": null,
       "align_items": null,
       "align_self": null,
       "border_bottom": null,
       "border_left": null,
       "border_right": null,
       "border_top": null,
       "bottom": null,
       "display": null,
       "flex": null,
       "flex_flow": null,
       "grid_area": null,
       "grid_auto_columns": null,
       "grid_auto_flow": null,
       "grid_auto_rows": null,
       "grid_column": null,
       "grid_gap": null,
       "grid_row": null,
       "grid_template_areas": null,
       "grid_template_columns": null,
       "grid_template_rows": null,
       "height": null,
       "justify_content": null,
       "justify_items": null,
       "left": null,
       "margin": null,
       "max_height": null,
       "max_width": null,
       "min_height": null,
       "min_width": null,
       "object_fit": null,
       "object_position": null,
       "order": null,
       "overflow": null,
       "padding": null,
       "right": null,
       "top": null,
       "visibility": null,
       "width": null
      }
     },
     "70d17d1981f54e8893e20104770164bf": {
      "model_module": "@jupyter-widgets/base",
      "model_module_version": "2.0.0",
      "model_name": "LayoutModel",
      "state": {
       "_model_module": "@jupyter-widgets/base",
       "_model_module_version": "2.0.0",
       "_model_name": "LayoutModel",
       "_view_count": null,
       "_view_module": "@jupyter-widgets/base",
       "_view_module_version": "2.0.0",
       "_view_name": "LayoutView",
       "align_content": null,
       "align_items": null,
       "align_self": null,
       "border_bottom": null,
       "border_left": null,
       "border_right": null,
       "border_top": null,
       "bottom": null,
       "display": null,
       "flex": null,
       "flex_flow": null,
       "grid_area": null,
       "grid_auto_columns": null,
       "grid_auto_flow": null,
       "grid_auto_rows": null,
       "grid_column": null,
       "grid_gap": null,
       "grid_row": null,
       "grid_template_areas": null,
       "grid_template_columns": null,
       "grid_template_rows": null,
       "height": null,
       "justify_content": null,
       "justify_items": null,
       "left": null,
       "margin": null,
       "max_height": null,
       "max_width": null,
       "min_height": null,
       "min_width": null,
       "object_fit": null,
       "object_position": null,
       "order": null,
       "overflow": null,
       "padding": null,
       "right": null,
       "top": null,
       "visibility": null,
       "width": null
      }
     },
     "76903711132541b59ea572e810cb0fd3": {
      "model_module": "@jupyter-widgets/base",
      "model_module_version": "2.0.0",
      "model_name": "LayoutModel",
      "state": {
       "_model_module": "@jupyter-widgets/base",
       "_model_module_version": "2.0.0",
       "_model_name": "LayoutModel",
       "_view_count": null,
       "_view_module": "@jupyter-widgets/base",
       "_view_module_version": "2.0.0",
       "_view_name": "LayoutView",
       "align_content": null,
       "align_items": null,
       "align_self": null,
       "border_bottom": null,
       "border_left": null,
       "border_right": null,
       "border_top": null,
       "bottom": null,
       "display": null,
       "flex": null,
       "flex_flow": null,
       "grid_area": null,
       "grid_auto_columns": null,
       "grid_auto_flow": null,
       "grid_auto_rows": null,
       "grid_column": null,
       "grid_gap": null,
       "grid_row": null,
       "grid_template_areas": null,
       "grid_template_columns": null,
       "grid_template_rows": null,
       "height": null,
       "justify_content": null,
       "justify_items": null,
       "left": null,
       "margin": null,
       "max_height": null,
       "max_width": null,
       "min_height": null,
       "min_width": null,
       "object_fit": null,
       "object_position": null,
       "order": null,
       "overflow": null,
       "padding": null,
       "right": null,
       "top": null,
       "visibility": null,
       "width": null
      }
     },
     "77ed76a2189d4ae490eaede1c47c3692": {
      "model_module": "@jupyter-widgets/controls",
      "model_module_version": "2.0.0",
      "model_name": "HTMLStyleModel",
      "state": {
       "_model_module": "@jupyter-widgets/controls",
       "_model_module_version": "2.0.0",
       "_model_name": "HTMLStyleModel",
       "_view_count": null,
       "_view_module": "@jupyter-widgets/base",
       "_view_module_version": "2.0.0",
       "_view_name": "StyleView",
       "background": null,
       "description_width": "",
       "font_size": null,
       "text_color": null
      }
     },
     "8ac1c38071f24597921aaefd2f11ad8f": {
      "model_module": "@jupyter-widgets/controls",
      "model_module_version": "2.0.0",
      "model_name": "ProgressStyleModel",
      "state": {
       "_model_module": "@jupyter-widgets/controls",
       "_model_module_version": "2.0.0",
       "_model_name": "ProgressStyleModel",
       "_view_count": null,
       "_view_module": "@jupyter-widgets/base",
       "_view_module_version": "2.0.0",
       "_view_name": "StyleView",
       "bar_color": null,
       "description_width": ""
      }
     },
     "91ffbf1ec10146cbbe3c67368cbe329c": {
      "model_module": "@jupyter-widgets/controls",
      "model_module_version": "2.0.0",
      "model_name": "ProgressStyleModel",
      "state": {
       "_model_module": "@jupyter-widgets/controls",
       "_model_module_version": "2.0.0",
       "_model_name": "ProgressStyleModel",
       "_view_count": null,
       "_view_module": "@jupyter-widgets/base",
       "_view_module_version": "2.0.0",
       "_view_name": "StyleView",
       "bar_color": null,
       "description_width": ""
      }
     },
     "a04735f4098c48bfb78539dbcdfe55f5": {
      "model_module": "@jupyter-widgets/base",
      "model_module_version": "2.0.0",
      "model_name": "LayoutModel",
      "state": {
       "_model_module": "@jupyter-widgets/base",
       "_model_module_version": "2.0.0",
       "_model_name": "LayoutModel",
       "_view_count": null,
       "_view_module": "@jupyter-widgets/base",
       "_view_module_version": "2.0.0",
       "_view_name": "LayoutView",
       "align_content": null,
       "align_items": null,
       "align_self": null,
       "border_bottom": null,
       "border_left": null,
       "border_right": null,
       "border_top": null,
       "bottom": null,
       "display": null,
       "flex": null,
       "flex_flow": null,
       "grid_area": null,
       "grid_auto_columns": null,
       "grid_auto_flow": null,
       "grid_auto_rows": null,
       "grid_column": null,
       "grid_gap": null,
       "grid_row": null,
       "grid_template_areas": null,
       "grid_template_columns": null,
       "grid_template_rows": null,
       "height": null,
       "justify_content": null,
       "justify_items": null,
       "left": null,
       "margin": null,
       "max_height": null,
       "max_width": null,
       "min_height": null,
       "min_width": null,
       "object_fit": null,
       "object_position": null,
       "order": null,
       "overflow": null,
       "padding": null,
       "right": null,
       "top": null,
       "visibility": null,
       "width": null
      }
     },
     "a66d31109d4640f18710f79789c427f3": {
      "model_module": "@jupyter-widgets/base",
      "model_module_version": "2.0.0",
      "model_name": "LayoutModel",
      "state": {
       "_model_module": "@jupyter-widgets/base",
       "_model_module_version": "2.0.0",
       "_model_name": "LayoutModel",
       "_view_count": null,
       "_view_module": "@jupyter-widgets/base",
       "_view_module_version": "2.0.0",
       "_view_name": "LayoutView",
       "align_content": null,
       "align_items": null,
       "align_self": null,
       "border_bottom": null,
       "border_left": null,
       "border_right": null,
       "border_top": null,
       "bottom": null,
       "display": null,
       "flex": null,
       "flex_flow": null,
       "grid_area": null,
       "grid_auto_columns": null,
       "grid_auto_flow": null,
       "grid_auto_rows": null,
       "grid_column": null,
       "grid_gap": null,
       "grid_row": null,
       "grid_template_areas": null,
       "grid_template_columns": null,
       "grid_template_rows": null,
       "height": null,
       "justify_content": null,
       "justify_items": null,
       "left": null,
       "margin": null,
       "max_height": null,
       "max_width": null,
       "min_height": null,
       "min_width": null,
       "object_fit": null,
       "object_position": null,
       "order": null,
       "overflow": null,
       "padding": null,
       "right": null,
       "top": null,
       "visibility": null,
       "width": null
      }
     },
     "a70f44c666074ba48c3fdc49ee46074f": {
      "model_module": "@jupyter-widgets/controls",
      "model_module_version": "2.0.0",
      "model_name": "HBoxModel",
      "state": {
       "_dom_classes": [],
       "_model_module": "@jupyter-widgets/controls",
       "_model_module_version": "2.0.0",
       "_model_name": "HBoxModel",
       "_view_count": null,
       "_view_module": "@jupyter-widgets/controls",
       "_view_module_version": "2.0.0",
       "_view_name": "HBoxView",
       "box_style": "",
       "children": [
        "IPY_MODEL_0d02ff72d6854e929f708242e05d4684",
        "IPY_MODEL_d775ff31067442cfb279e8a894148238",
        "IPY_MODEL_be442a706ee946219bb803964b1463c2"
       ],
       "layout": "IPY_MODEL_0c5b54746dea4990b77ee82be86b892e",
       "tabbable": null,
       "tooltip": null
      }
     },
     "aa88a0e6f5534b40816370ae75987af5": {
      "model_module": "@jupyter-widgets/controls",
      "model_module_version": "2.0.0",
      "model_name": "HTMLModel",
      "state": {
       "_dom_classes": [],
       "_model_module": "@jupyter-widgets/controls",
       "_model_module_version": "2.0.0",
       "_model_name": "HTMLModel",
       "_view_count": null,
       "_view_module": "@jupyter-widgets/controls",
       "_view_module_version": "2.0.0",
       "_view_name": "HTMLView",
       "description": "",
       "description_allow_html": false,
       "layout": "IPY_MODEL_dd6031ef4a2e4a54ba88f50485588b9b",
       "placeholder": "​",
       "style": "IPY_MODEL_c99cb8ea0b9c4ee5a6a955d2d3240562",
       "tabbable": null,
       "tooltip": null,
       "value": " 3.13M/3.13M [00:00&lt;00:00, 15.5MB/s]"
      }
     },
     "b0012c45eefc470b9f7f5bbee2a72d51": {
      "model_module": "@jupyter-widgets/base",
      "model_module_version": "2.0.0",
      "model_name": "LayoutModel",
      "state": {
       "_model_module": "@jupyter-widgets/base",
       "_model_module_version": "2.0.0",
       "_model_name": "LayoutModel",
       "_view_count": null,
       "_view_module": "@jupyter-widgets/base",
       "_view_module_version": "2.0.0",
       "_view_name": "LayoutView",
       "align_content": null,
       "align_items": null,
       "align_self": null,
       "border_bottom": null,
       "border_left": null,
       "border_right": null,
       "border_top": null,
       "bottom": null,
       "display": null,
       "flex": null,
       "flex_flow": null,
       "grid_area": null,
       "grid_auto_columns": null,
       "grid_auto_flow": null,
       "grid_auto_rows": null,
       "grid_column": null,
       "grid_gap": null,
       "grid_row": null,
       "grid_template_areas": null,
       "grid_template_columns": null,
       "grid_template_rows": null,
       "height": null,
       "justify_content": null,
       "justify_items": null,
       "left": null,
       "margin": null,
       "max_height": null,
       "max_width": null,
       "min_height": null,
       "min_width": null,
       "object_fit": null,
       "object_position": null,
       "order": null,
       "overflow": null,
       "padding": null,
       "right": null,
       "top": null,
       "visibility": null,
       "width": null
      }
     },
     "b0164d96fc9740129d6355bc81c6022b": {
      "model_module": "@jupyter-widgets/controls",
      "model_module_version": "2.0.0",
      "model_name": "HTMLModel",
      "state": {
       "_dom_classes": [],
       "_model_module": "@jupyter-widgets/controls",
       "_model_module_version": "2.0.0",
       "_model_name": "HTMLModel",
       "_view_count": null,
       "_view_module": "@jupyter-widgets/controls",
       "_view_module_version": "2.0.0",
       "_view_name": "HTMLView",
       "description": "",
       "description_allow_html": false,
       "layout": "IPY_MODEL_ca5e0e7ab5dd404790d53eac51a1287b",
       "placeholder": "​",
       "style": "IPY_MODEL_0d8a828da52c46a39db44a954f0c7e2d",
       "tabbable": null,
       "tooltip": null,
       "value": "tokenizer.json: 100%"
      }
     },
     "bddb7d6e94df4b25b8942ff64b194b43": {
      "model_module": "@jupyter-widgets/base",
      "model_module_version": "2.0.0",
      "model_name": "LayoutModel",
      "state": {
       "_model_module": "@jupyter-widgets/base",
       "_model_module_version": "2.0.0",
       "_model_name": "LayoutModel",
       "_view_count": null,
       "_view_module": "@jupyter-widgets/base",
       "_view_module_version": "2.0.0",
       "_view_name": "LayoutView",
       "align_content": null,
       "align_items": null,
       "align_self": null,
       "border_bottom": null,
       "border_left": null,
       "border_right": null,
       "border_top": null,
       "bottom": null,
       "display": null,
       "flex": null,
       "flex_flow": null,
       "grid_area": null,
       "grid_auto_columns": null,
       "grid_auto_flow": null,
       "grid_auto_rows": null,
       "grid_column": null,
       "grid_gap": null,
       "grid_row": null,
       "grid_template_areas": null,
       "grid_template_columns": null,
       "grid_template_rows": null,
       "height": null,
       "justify_content": null,
       "justify_items": null,
       "left": null,
       "margin": null,
       "max_height": null,
       "max_width": null,
       "min_height": null,
       "min_width": null,
       "object_fit": null,
       "object_position": null,
       "order": null,
       "overflow": null,
       "padding": null,
       "right": null,
       "top": null,
       "visibility": null,
       "width": null
      }
     },
     "be442a706ee946219bb803964b1463c2": {
      "model_module": "@jupyter-widgets/controls",
      "model_module_version": "2.0.0",
      "model_name": "HTMLModel",
      "state": {
       "_dom_classes": [],
       "_model_module": "@jupyter-widgets/controls",
       "_model_module_version": "2.0.0",
       "_model_name": "HTMLModel",
       "_view_count": null,
       "_view_module": "@jupyter-widgets/controls",
       "_view_module_version": "2.0.0",
       "_view_name": "HTMLView",
       "description": "",
       "description_allow_html": false,
       "layout": "IPY_MODEL_f47d008e456343998a9ac3d619989802",
       "placeholder": "​",
       "style": "IPY_MODEL_f896efb37d774aaba6714a1c173c80a9",
       "tabbable": null,
       "tooltip": null,
       "value": " 895k/895k [00:00&lt;00:00, 1.70MB/s]"
      }
     },
     "c1cd689cc34841e5af897431f5de1ade": {
      "model_module": "@jupyter-widgets/controls",
      "model_module_version": "2.0.0",
      "model_name": "HTMLModel",
      "state": {
       "_dom_classes": [],
       "_model_module": "@jupyter-widgets/controls",
       "_model_module_version": "2.0.0",
       "_model_name": "HTMLModel",
       "_view_count": null,
       "_view_module": "@jupyter-widgets/controls",
       "_view_module_version": "2.0.0",
       "_view_name": "HTMLView",
       "description": "",
       "description_allow_html": false,
       "layout": "IPY_MODEL_702edf5e2390467190b02ea40eef0ce3",
       "placeholder": "​",
       "style": "IPY_MODEL_77ed76a2189d4ae490eaede1c47c3692",
       "tabbable": null,
       "tooltip": null,
       "value": "config.json: 100%"
      }
     },
     "c355ff6ca16b45f5af1ebb0c39b48784": {
      "model_module": "@jupyter-widgets/controls",
      "model_module_version": "2.0.0",
      "model_name": "ProgressStyleModel",
      "state": {
       "_model_module": "@jupyter-widgets/controls",
       "_model_module_version": "2.0.0",
       "_model_name": "ProgressStyleModel",
       "_view_count": null,
       "_view_module": "@jupyter-widgets/base",
       "_view_module_version": "2.0.0",
       "_view_name": "StyleView",
       "bar_color": null,
       "description_width": ""
      }
     },
     "c99cb8ea0b9c4ee5a6a955d2d3240562": {
      "model_module": "@jupyter-widgets/controls",
      "model_module_version": "2.0.0",
      "model_name": "HTMLStyleModel",
      "state": {
       "_model_module": "@jupyter-widgets/controls",
       "_model_module_version": "2.0.0",
       "_model_name": "HTMLStyleModel",
       "_view_count": null,
       "_view_module": "@jupyter-widgets/base",
       "_view_module_version": "2.0.0",
       "_view_name": "StyleView",
       "background": null,
       "description_width": "",
       "font_size": null,
       "text_color": null
      }
     },
     "ca5e0e7ab5dd404790d53eac51a1287b": {
      "model_module": "@jupyter-widgets/base",
      "model_module_version": "2.0.0",
      "model_name": "LayoutModel",
      "state": {
       "_model_module": "@jupyter-widgets/base",
       "_model_module_version": "2.0.0",
       "_model_name": "LayoutModel",
       "_view_count": null,
       "_view_module": "@jupyter-widgets/base",
       "_view_module_version": "2.0.0",
       "_view_name": "LayoutView",
       "align_content": null,
       "align_items": null,
       "align_self": null,
       "border_bottom": null,
       "border_left": null,
       "border_right": null,
       "border_top": null,
       "bottom": null,
       "display": null,
       "flex": null,
       "flex_flow": null,
       "grid_area": null,
       "grid_auto_columns": null,
       "grid_auto_flow": null,
       "grid_auto_rows": null,
       "grid_column": null,
       "grid_gap": null,
       "grid_row": null,
       "grid_template_areas": null,
       "grid_template_columns": null,
       "grid_template_rows": null,
       "height": null,
       "justify_content": null,
       "justify_items": null,
       "left": null,
       "margin": null,
       "max_height": null,
       "max_width": null,
       "min_height": null,
       "min_width": null,
       "object_fit": null,
       "object_position": null,
       "order": null,
       "overflow": null,
       "padding": null,
       "right": null,
       "top": null,
       "visibility": null,
       "width": null
      }
     },
     "d582b00df61540bdb69415a388e08259": {
      "model_module": "@jupyter-widgets/controls",
      "model_module_version": "2.0.0",
      "model_name": "HTMLStyleModel",
      "state": {
       "_model_module": "@jupyter-widgets/controls",
       "_model_module_version": "2.0.0",
       "_model_name": "HTMLStyleModel",
       "_view_count": null,
       "_view_module": "@jupyter-widgets/base",
       "_view_module_version": "2.0.0",
       "_view_name": "StyleView",
       "background": null,
       "description_width": "",
       "font_size": null,
       "text_color": null
      }
     },
     "d775ff31067442cfb279e8a894148238": {
      "model_module": "@jupyter-widgets/controls",
      "model_module_version": "2.0.0",
      "model_name": "FloatProgressModel",
      "state": {
       "_dom_classes": [],
       "_model_module": "@jupyter-widgets/controls",
       "_model_module_version": "2.0.0",
       "_model_name": "FloatProgressModel",
       "_view_count": null,
       "_view_module": "@jupyter-widgets/controls",
       "_view_module_version": "2.0.0",
       "_view_name": "ProgressView",
       "bar_style": "success",
       "description": "",
       "description_allow_html": false,
       "layout": "IPY_MODEL_bddb7d6e94df4b25b8942ff64b194b43",
       "max": 895321.0,
       "min": 0.0,
       "orientation": "horizontal",
       "style": "IPY_MODEL_8ac1c38071f24597921aaefd2f11ad8f",
       "tabbable": null,
       "tooltip": null,
       "value": 895321.0
      }
     },
     "dab38925813c46debed2675d746bac0a": {
      "model_module": "@jupyter-widgets/controls",
      "model_module_version": "2.0.0",
      "model_name": "ProgressStyleModel",
      "state": {
       "_model_module": "@jupyter-widgets/controls",
       "_model_module_version": "2.0.0",
       "_model_name": "ProgressStyleModel",
       "_view_count": null,
       "_view_module": "@jupyter-widgets/base",
       "_view_module_version": "2.0.0",
       "_view_name": "StyleView",
       "bar_color": null,
       "description_width": ""
      }
     },
     "dd320039f98c49958cca283737c649ac": {
      "model_module": "@jupyter-widgets/controls",
      "model_module_version": "2.0.0",
      "model_name": "HBoxModel",
      "state": {
       "_dom_classes": [],
       "_model_module": "@jupyter-widgets/controls",
       "_model_module_version": "2.0.0",
       "_model_name": "HBoxModel",
       "_view_count": null,
       "_view_module": "@jupyter-widgets/controls",
       "_view_module_version": "2.0.0",
       "_view_name": "HBoxView",
       "box_style": "",
       "children": [
        "IPY_MODEL_c1cd689cc34841e5af897431f5de1ade",
        "IPY_MODEL_5aa551f0a32047d6a2c9482b2a2c0633",
        "IPY_MODEL_e2b650bab9e34d90bec14a1bbdffa08a"
       ],
       "layout": "IPY_MODEL_28a539e827944f64aba699e5f073b87c",
       "tabbable": null,
       "tooltip": null
      }
     },
     "dd6031ef4a2e4a54ba88f50485588b9b": {
      "model_module": "@jupyter-widgets/base",
      "model_module_version": "2.0.0",
      "model_name": "LayoutModel",
      "state": {
       "_model_module": "@jupyter-widgets/base",
       "_model_module_version": "2.0.0",
       "_model_name": "LayoutModel",
       "_view_count": null,
       "_view_module": "@jupyter-widgets/base",
       "_view_module_version": "2.0.0",
       "_view_name": "LayoutView",
       "align_content": null,
       "align_items": null,
       "align_self": null,
       "border_bottom": null,
       "border_left": null,
       "border_right": null,
       "border_top": null,
       "bottom": null,
       "display": null,
       "flex": null,
       "flex_flow": null,
       "grid_area": null,
       "grid_auto_columns": null,
       "grid_auto_flow": null,
       "grid_auto_rows": null,
       "grid_column": null,
       "grid_gap": null,
       "grid_row": null,
       "grid_template_areas": null,
       "grid_template_columns": null,
       "grid_template_rows": null,
       "height": null,
       "justify_content": null,
       "justify_items": null,
       "left": null,
       "margin": null,
       "max_height": null,
       "max_width": null,
       "min_height": null,
       "min_width": null,
       "object_fit": null,
       "object_position": null,
       "order": null,
       "overflow": null,
       "padding": null,
       "right": null,
       "top": null,
       "visibility": null,
       "width": null
      }
     },
     "e2b650bab9e34d90bec14a1bbdffa08a": {
      "model_module": "@jupyter-widgets/controls",
      "model_module_version": "2.0.0",
      "model_name": "HTMLModel",
      "state": {
       "_dom_classes": [],
       "_model_module": "@jupyter-widgets/controls",
       "_model_module_version": "2.0.0",
       "_model_name": "HTMLModel",
       "_view_count": null,
       "_view_module": "@jupyter-widgets/controls",
       "_view_module_version": "2.0.0",
       "_view_name": "HTMLView",
       "description": "",
       "description_allow_html": false,
       "layout": "IPY_MODEL_a04735f4098c48bfb78539dbcdfe55f5",
       "placeholder": "​",
       "style": "IPY_MODEL_33625a0b0a76458d8908857e6ab8f1c2",
       "tabbable": null,
       "tooltip": null,
       "value": " 678/678 [00:00&lt;00:00, 69.1kB/s]"
      }
     },
     "f417c06dc6194deba0d4287400a97e16": {
      "model_module": "@jupyter-widgets/base",
      "model_module_version": "2.0.0",
      "model_name": "LayoutModel",
      "state": {
       "_model_module": "@jupyter-widgets/base",
       "_model_module_version": "2.0.0",
       "_model_name": "LayoutModel",
       "_view_count": null,
       "_view_module": "@jupyter-widgets/base",
       "_view_module_version": "2.0.0",
       "_view_name": "LayoutView",
       "align_content": null,
       "align_items": null,
       "align_self": null,
       "border_bottom": null,
       "border_left": null,
       "border_right": null,
       "border_top": null,
       "bottom": null,
       "display": null,
       "flex": null,
       "flex_flow": null,
       "grid_area": null,
       "grid_auto_columns": null,
       "grid_auto_flow": null,
       "grid_auto_rows": null,
       "grid_column": null,
       "grid_gap": null,
       "grid_row": null,
       "grid_template_areas": null,
       "grid_template_columns": null,
       "grid_template_rows": null,
       "height": null,
       "justify_content": null,
       "justify_items": null,
       "left": null,
       "margin": null,
       "max_height": null,
       "max_width": null,
       "min_height": null,
       "min_width": null,
       "object_fit": null,
       "object_position": null,
       "order": null,
       "overflow": null,
       "padding": null,
       "right": null,
       "top": null,
       "visibility": null,
       "width": null
      }
     },
     "f47d008e456343998a9ac3d619989802": {
      "model_module": "@jupyter-widgets/base",
      "model_module_version": "2.0.0",
      "model_name": "LayoutModel",
      "state": {
       "_model_module": "@jupyter-widgets/base",
       "_model_module_version": "2.0.0",
       "_model_name": "LayoutModel",
       "_view_count": null,
       "_view_module": "@jupyter-widgets/base",
       "_view_module_version": "2.0.0",
       "_view_name": "LayoutView",
       "align_content": null,
       "align_items": null,
       "align_self": null,
       "border_bottom": null,
       "border_left": null,
       "border_right": null,
       "border_top": null,
       "bottom": null,
       "display": null,
       "flex": null,
       "flex_flow": null,
       "grid_area": null,
       "grid_auto_columns": null,
       "grid_auto_flow": null,
       "grid_auto_rows": null,
       "grid_column": null,
       "grid_gap": null,
       "grid_row": null,
       "grid_template_areas": null,
       "grid_template_columns": null,
       "grid_template_rows": null,
       "height": null,
       "justify_content": null,
       "justify_items": null,
       "left": null,
       "margin": null,
       "max_height": null,
       "max_width": null,
       "min_height": null,
       "min_width": null,
       "object_fit": null,
       "object_position": null,
       "order": null,
       "overflow": null,
       "padding": null,
       "right": null,
       "top": null,
       "visibility": null,
       "width": null
      }
     },
     "f896efb37d774aaba6714a1c173c80a9": {
      "model_module": "@jupyter-widgets/controls",
      "model_module_version": "2.0.0",
      "model_name": "HTMLStyleModel",
      "state": {
       "_model_module": "@jupyter-widgets/controls",
       "_model_module_version": "2.0.0",
       "_model_name": "HTMLStyleModel",
       "_view_count": null,
       "_view_module": "@jupyter-widgets/base",
       "_view_module_version": "2.0.0",
       "_view_name": "StyleView",
       "background": null,
       "description_width": "",
       "font_size": null,
       "text_color": null
      }
     }
    },
    "version_major": 2,
    "version_minor": 0
   }
  }
 },
 "nbformat": 4,
 "nbformat_minor": 5
}
