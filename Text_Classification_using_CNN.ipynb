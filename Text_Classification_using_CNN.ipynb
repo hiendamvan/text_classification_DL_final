{
  "cells": [
    {
      "cell_type": "markdown",
      "metadata": {
        "id": "view-in-github",
        "colab_type": "text"
      },
      "source": [
        "<a href=\"https://colab.research.google.com/github/hiendamvan/text_classification_DL_final/blob/main/Text_Classification_using_CNN.ipynb\" target=\"_parent\"><img src=\"https://colab.research.google.com/assets/colab-badge.svg\" alt=\"Open In Colab\"/></a>"
      ]
    },
    {
      "cell_type": "markdown",
      "metadata": {
        "id": "2H0VHYZNY6OQ"
      },
      "source": [
        "# Import necessary libraries"
      ]
    },
    {
      "cell_type": "code",
      "execution_count": 1,
      "metadata": {
        "execution": {
          "iopub.execute_input": "2024-12-13T16:46:32.609459Z",
          "iopub.status.busy": "2024-12-13T16:46:32.609183Z",
          "iopub.status.idle": "2024-12-13T16:46:38.701513Z",
          "shell.execute_reply": "2024-12-13T16:46:38.700633Z",
          "shell.execute_reply.started": "2024-12-13T16:46:32.609431Z"
        },
        "id": "Hnro5JUXd43u",
        "trusted": true
      },
      "outputs": [],
      "source": [
        "import pandas as pd\n",
        "import torch\n",
        "from torch import nn, optim\n",
        "from sklearn.model_selection import train_test_split\n",
        "from transformers import AutoTokenizer\n",
        "from sklearn.metrics import accuracy_score, f1_score\n",
        "import torch.nn.functional as F\n",
        "import matplotlib.pyplot as plt"
      ]
    },
    {
      "cell_type": "markdown",
      "metadata": {
        "id": "YA1VEftpY-_o"
      },
      "source": [
        "# Load dataset and pre-trained embeddings"
      ]
    },
    {
      "cell_type": "code",
      "execution_count": 5,
      "metadata": {
        "execution": {
          "iopub.execute_input": "2024-12-13T16:46:38.703891Z",
          "iopub.status.busy": "2024-12-13T16:46:38.703408Z",
          "iopub.status.idle": "2024-12-13T16:46:48.744136Z",
          "shell.execute_reply": "2024-12-13T16:46:48.743466Z",
          "shell.execute_reply.started": "2024-12-13T16:46:38.703849Z"
        },
        "id": "kFhqQ63meaL9",
        "trusted": true
      },
      "outputs": [],
      "source": [
        "df = pd.read_csv('/content/preprocessed_data.csv')\n",
        "tokenizer = AutoTokenizer.from_pretrained(\"vinai/phobert-base-v2\")\n",
        "df[\"Input\"] = df[\"Paragraph\"].apply(\n",
        "    lambda x: tokenizer.encode(x, truncation=True, max_length=256, padding=\"max_length\")\n",
        ")\n",
        "\n"
      ]
    },
    {
      "cell_type": "code",
      "execution_count": 6,
      "metadata": {
        "execution": {
          "iopub.execute_input": "2024-12-13T16:46:48.745595Z",
          "iopub.status.busy": "2024-12-13T16:46:48.745251Z",
          "iopub.status.idle": "2024-12-13T16:46:50.124125Z",
          "shell.execute_reply": "2024-12-13T16:46:50.123362Z",
          "shell.execute_reply.started": "2024-12-13T16:46:48.745558Z"
        },
        "id": "oIYbNWROet_w",
        "trusted": true
      },
      "outputs": [],
      "source": [
        "inputs = torch.tensor(df[\"Input\"].values.tolist())\n",
        "labels = torch.tensor(df[\"Topic\"].values.tolist())\n",
        "\n",
        "train_inputs, test_inputs, train_labels, test_labels = train_test_split(\n",
        "    inputs, labels, test_size=0.2, random_state=42\n",
        ")\n",
        "test_inputs, val_inputs, test_labels, val_labels = train_test_split(\n",
        "    test_inputs, test_labels, test_size=0.5, random_state=42\n",
        ")"
      ]
    },
    {
      "cell_type": "code",
      "execution_count": 7,
      "metadata": {
        "execution": {
          "iopub.execute_input": "2024-12-13T16:46:50.125488Z",
          "iopub.status.busy": "2024-12-13T16:46:50.125169Z",
          "iopub.status.idle": "2024-12-13T16:46:50.321020Z",
          "shell.execute_reply": "2024-12-13T16:46:50.320335Z",
          "shell.execute_reply.started": "2024-12-13T16:46:50.125461Z"
        },
        "id": "gW-1uXL1e15R",
        "trusted": true
      },
      "outputs": [],
      "source": [
        "class TextCNN(nn.Module):\n",
        "    def __init__(\n",
        "        self,\n",
        "        vocab_size,\n",
        "        embedding_dim,\n",
        "        padding_idx,\n",
        "        hidden_dim,\n",
        "        num_layers,\n",
        "        num_classes,\n",
        "        dropout=0.5,\n",
        "    ):\n",
        "        super(TextCNN, self).__init__()\n",
        "        #1. embedding layer\n",
        "        self.embedding = nn.Embedding(vocab_size, embedding_dim, padding_idx)\n",
        "        #2. convolutional layers\n",
        "        self.conv1 = nn.Conv1d(in_channels=embedding_dim, out_channels=hidden_dim, kernel_size=3)\n",
        "        #3. final, fully-connected layer for classification\n",
        "        self.fc = nn.Linear(hidden_dim, num_classes)\n",
        "        #4.dropout and relu layers\n",
        "        self.dropout = nn.Dropout(dropout)\n",
        "        self.relu = nn.ReLU()\n",
        "        #5.pooling layers\n",
        "        self.pool = nn.AdaptiveMaxPool1d(1)\n",
        "\n",
        "    def forward(self, x):\n",
        "        x = self.embedding(x)  # Embedding layer\n",
        "        # Permute dimensions for CNN before conv layer\n",
        "        x = x.permute(0, 2, 1)\n",
        "        # Dropout\n",
        "        x = self.dropout(x)\n",
        "        # Apply the convolutional layer\n",
        "        x = self.conv1(x)\n",
        "        # Apply ReLU activation\n",
        "        x = self.relu(x)\n",
        "        # Max pooling\n",
        "        x = self.pool(x)\n",
        "        # Flatten for dense layers\n",
        "        x = x.flatten(start_dim=1)\n",
        "        # Apply the final fully connected layer and activation\n",
        "        x = self.fc(x)\n",
        "        return x\n",
        "\n",
        "model = TextCNN(\n",
        "    vocab_size = tokenizer.vocab_size,\n",
        "    embedding_dim = 256,\n",
        "    padding_idx = tokenizer.pad_token_id,\n",
        "    hidden_dim = 256,\n",
        "    num_layers = 5,\n",
        "    num_classes = 15,\n",
        "    dropout = 0.5\n",
        ")\n"
      ]
    },
    {
      "cell_type": "code",
      "execution_count": 8,
      "metadata": {
        "colab": {
          "base_uri": "https://localhost:8080/"
        },
        "execution": {
          "iopub.execute_input": "2024-12-13T16:46:50.323810Z",
          "iopub.status.busy": "2024-12-13T16:46:50.323442Z",
          "iopub.status.idle": "2024-12-13T16:46:51.473912Z",
          "shell.execute_reply": "2024-12-13T16:46:51.472994Z",
          "shell.execute_reply.started": "2024-12-13T16:46:50.323769Z"
        },
        "id": "chA0kgYHUpOW",
        "outputId": "7b4ca1ac-c4b9-46df-afa3-ed9ffffc8b88",
        "trusted": true
      },
      "outputs": [
        {
          "output_type": "execute_result",
          "data": {
            "text/plain": [
              "CrossEntropyLoss()"
            ]
          },
          "metadata": {},
          "execution_count": 8
        }
      ],
      "source": [
        "criterion = nn.CrossEntropyLoss()\n",
        "optimizer = optim.AdamW(model.parameters(), lr=1e-3)\n",
        "\n",
        "train_dataset = torch.utils.data.TensorDataset(train_inputs, train_labels)\n",
        "val_dataset = torch.utils.data.TensorDataset(val_inputs, val_labels)\n",
        "test_dataset = torch.utils.data.TensorDataset(test_inputs, test_labels)\n",
        "\n",
        "train_loader = torch.utils.data.DataLoader(train_dataset, batch_size=32, shuffle=True)\n",
        "val_loader = torch.utils.data.DataLoader(val_dataset, batch_size=32, shuffle=False)\n",
        "test_loader = torch.utils.data.DataLoader(test_dataset, batch_size=32, shuffle=False)\n",
        "\n",
        "device = torch.device(\"cuda\" if torch.cuda.is_available() else \"cpu\")\n",
        "model.to(device)\n",
        "criterion.to(device)\n"
      ]
    },
    {
      "cell_type": "markdown",
      "source": [
        "# Summazire the information about the model"
      ],
      "metadata": {
        "id": "rMSrlSfalv8-"
      }
    },
    {
      "cell_type": "code",
      "source": [
        "pip install torchinfo"
      ],
      "metadata": {
        "colab": {
          "base_uri": "https://localhost:8080/"
        },
        "id": "NJn1cEGolcOy",
        "outputId": "d1733b99-9456-4021-8e7c-a7fc85be605e"
      },
      "execution_count": 31,
      "outputs": [
        {
          "output_type": "stream",
          "name": "stdout",
          "text": [
            "Collecting torchinfo\n",
            "  Downloading torchinfo-1.8.0-py3-none-any.whl.metadata (21 kB)\n",
            "Downloading torchinfo-1.8.0-py3-none-any.whl (23 kB)\n",
            "Installing collected packages: torchinfo\n",
            "Successfully installed torchinfo-1.8.0\n"
          ]
        }
      ]
    },
    {
      "cell_type": "code",
      "source": [
        "dummy_input = torch.randint(0, tokenizer.vocab_size, (1, 256), dtype=torch.long).to(device)\n",
        "\n",
        "# Print the summary manually\n",
        "from torchinfo import summary\n",
        "\n",
        "print(summary(model, input_data=dummy_input))"
      ],
      "metadata": {
        "colab": {
          "base_uri": "https://localhost:8080/"
        },
        "id": "EOgHLj36i3-l",
        "outputId": "f69c06ce-aa09-4a13-b436-5300bb565847"
      },
      "execution_count": 32,
      "outputs": [
        {
          "output_type": "stream",
          "name": "stdout",
          "text": [
            "==========================================================================================\n",
            "Layer (type:depth-idx)                   Output Shape              Param #\n",
            "==========================================================================================\n",
            "TextCNN                                  [1, 15]                   --\n",
            "├─Embedding: 1-1                         [1, 256, 256]             16,384,000\n",
            "├─Dropout: 1-2                           [1, 256, 256]             --\n",
            "├─Conv1d: 1-3                            [1, 256, 254]             196,864\n",
            "├─ReLU: 1-4                              [1, 256, 254]             --\n",
            "├─AdaptiveMaxPool1d: 1-5                 [1, 256, 1]               --\n",
            "├─Linear: 1-6                            [1, 15]                   3,855\n",
            "==========================================================================================\n",
            "Total params: 16,584,719\n",
            "Trainable params: 16,584,719\n",
            "Non-trainable params: 0\n",
            "Total mult-adds (M): 66.39\n",
            "==========================================================================================\n",
            "Input size (MB): 0.00\n",
            "Forward/backward pass size (MB): 1.04\n",
            "Params size (MB): 66.34\n",
            "Estimated Total Size (MB): 67.39\n",
            "==========================================================================================\n"
          ]
        }
      ]
    },
    {
      "cell_type": "code",
      "execution_count": 9,
      "metadata": {
        "execution": {
          "iopub.execute_input": "2024-12-13T16:46:51.475353Z",
          "iopub.status.busy": "2024-12-13T16:46:51.474884Z",
          "iopub.status.idle": "2024-12-13T16:46:51.479308Z",
          "shell.execute_reply": "2024-12-13T16:46:51.478412Z",
          "shell.execute_reply.started": "2024-12-13T16:46:51.475323Z"
        },
        "trusted": true,
        "id": "t6ubNdfpDMGv"
      },
      "outputs": [],
      "source": [
        "train_loss_history = []\n",
        "val_loss_history = []"
      ]
    },
    {
      "cell_type": "markdown",
      "source": [
        "# Training and Visualization"
      ],
      "metadata": {
        "id": "AkwTXknNl2P8"
      }
    },
    {
      "cell_type": "code",
      "execution_count": 10,
      "metadata": {
        "colab": {
          "base_uri": "https://localhost:8080/"
        },
        "execution": {
          "iopub.execute_input": "2024-12-13T16:46:51.480659Z",
          "iopub.status.busy": "2024-12-13T16:46:51.480387Z",
          "iopub.status.idle": "2024-12-13T16:48:07.740872Z",
          "shell.execute_reply": "2024-12-13T16:48:07.740046Z",
          "shell.execute_reply.started": "2024-12-13T16:46:51.480616Z"
        },
        "id": "oixeDYXPgZzt",
        "outputId": "3ff73ac3-a5aa-47c7-ee31-ac51a971477d",
        "trusted": true
      },
      "outputs": [
        {
          "output_type": "stream",
          "name": "stdout",
          "text": [
            "Epoch 1, Train Loss: 1.9228\n",
            "Validation Loss: 1.2014, Validation Accuracy: 64.63%\n",
            "Epoch 2, Train Loss: 1.1983\n",
            "Validation Loss: 0.9578, Validation Accuracy: 71.90%\n",
            "Epoch 3, Train Loss: 0.9631\n",
            "Validation Loss: 0.8519, Validation Accuracy: 75.33%\n",
            "Epoch 4, Train Loss: 0.8289\n",
            "Validation Loss: 0.8078, Validation Accuracy: 77.30%\n",
            "Epoch 5, Train Loss: 0.7144\n",
            "Validation Loss: 0.7842, Validation Accuracy: 77.87%\n",
            "Epoch 6, Train Loss: 0.6470\n",
            "Validation Loss: 0.7653, Validation Accuracy: 79.53%\n",
            "Epoch 7, Train Loss: 0.5768\n",
            "Validation Loss: 0.7658, Validation Accuracy: 79.67%\n",
            "Epoch 8, Train Loss: 0.5209\n",
            "Validation Loss: 0.7784, Validation Accuracy: 80.30%\n",
            "Epoch 9, Train Loss: 0.4833\n",
            "Validation Loss: 0.7881, Validation Accuracy: 79.80%\n",
            "Epoch 10, Train Loss: 0.4553\n",
            "Validation Loss: 0.8155, Validation Accuracy: 80.53%\n",
            "Epoch 11, Train Loss: 0.4050\n",
            "Validation Loss: 0.7764, Validation Accuracy: 82.03%\n",
            "Epoch 12, Train Loss: 0.3835\n",
            "Validation Loss: 0.7747, Validation Accuracy: 82.07%\n",
            "Epoch 13, Train Loss: 0.3559\n",
            "Validation Loss: 0.8603, Validation Accuracy: 81.23%\n",
            "Epoch 14, Train Loss: 0.3462\n",
            "Validation Loss: 0.8267, Validation Accuracy: 82.63%\n",
            "Epoch 15, Train Loss: 0.3071\n",
            "Validation Loss: 0.8489, Validation Accuracy: 82.00%\n"
          ]
        }
      ],
      "source": [
        "for epoch in range(15):\n",
        "    model.train()\n",
        "    running_loss = 0.0\n",
        "\n",
        "    # Training loop\n",
        "    for i, (inputs, labels) in enumerate(train_loader):\n",
        "        inputs, labels = inputs.to(device), labels.to(device)\n",
        "\n",
        "        optimizer.zero_grad()\n",
        "        outputs = model(inputs)\n",
        "        loss = criterion(outputs, labels)\n",
        "        loss.backward()\n",
        "        optimizer.step()\n",
        "\n",
        "        running_loss += loss.item()\n",
        "\n",
        "    # Tính loss trung bình cho tập train và lưu lại\n",
        "    train_loss = running_loss / len(train_loader)\n",
        "    train_loss_history.append(train_loss)\n",
        "\n",
        "    print(f\"Epoch {epoch + 1}, Train Loss: {train_loss:.4f}\")\n",
        "\n",
        "    # Đánh giá trên tập validation\n",
        "    model.eval()\n",
        "    val_running_loss = 0.0\n",
        "    correct = 0\n",
        "    total = 0\n",
        "\n",
        "    with torch.no_grad():\n",
        "        for inputs, labels in val_loader:\n",
        "            inputs, labels = inputs.to(device), labels.to(device)\n",
        "\n",
        "            outputs = model(inputs)\n",
        "            loss = criterion(outputs, labels)\n",
        "            val_running_loss += loss.item()\n",
        "\n",
        "            _, predicted = torch.max(outputs.data, 1)\n",
        "            total += labels.size(0)\n",
        "            correct += (predicted == labels).sum().item()\n",
        "\n",
        "    # Tính loss trung bình cho tập validation và lưu lại\n",
        "    val_loss = val_running_loss / len(val_loader)\n",
        "    val_loss_history.append(val_loss)\n",
        "\n",
        "    val_accuracy = 100 * correct / total\n",
        "    print(f\"Validation Loss: {val_loss:.4f}, Validation Accuracy: {val_accuracy:.2f}%\")"
      ]
    },
    {
      "cell_type": "code",
      "source": [
        "model.eval()\n",
        "predicted_labels = []\n",
        "true_labels = []\n",
        "with torch.no_grad():\n",
        "    for inputs, labels in test_loader:\n",
        "        inputs, labels = inputs.to(device), labels.to(device)\n",
        "        outputs = model(inputs)\n",
        "        _, predicted = torch.max(outputs.data, 1)\n",
        "        predicted_labels.extend(predicted.cpu().numpy())\n",
        "        true_labels.extend(labels.cpu().numpy())\n",
        "\n",
        "accuracy = accuracy_score(true_labels, predicted_labels)\n",
        "print(f\"Accuracy: {accuracy}\")\n",
        "\n",
        "f1 = f1_score(true_labels, predicted_labels, average=\"weighted\")\n",
        "print(f\"F1 Score: {f1}\")"
      ],
      "metadata": {
        "colab": {
          "base_uri": "https://localhost:8080/"
        },
        "id": "vWtHiaQ5EWhc",
        "outputId": "c832c3ab-aaa6-4048-c951-b97b7f40d003"
      },
      "execution_count": 11,
      "outputs": [
        {
          "output_type": "stream",
          "name": "stdout",
          "text": [
            "Accuracy: 0.817\n",
            "F1 Score: 0.816561094678801\n"
          ]
        }
      ]
    },
    {
      "cell_type": "code",
      "execution_count": 12,
      "metadata": {
        "execution": {
          "iopub.execute_input": "2024-12-13T16:48:07.742652Z",
          "iopub.status.busy": "2024-12-13T16:48:07.742287Z",
          "iopub.status.idle": "2024-12-13T16:48:08.046576Z",
          "shell.execute_reply": "2024-12-13T16:48:08.045812Z",
          "shell.execute_reply.started": "2024-12-13T16:48:07.742613Z"
        },
        "id": "JFhrNGwzjDUH",
        "trusted": true,
        "colab": {
          "base_uri": "https://localhost:8080/",
          "height": 434
        },
        "outputId": "8c843891-dd0d-4494-aa54-54d02f155e6f"
      },
      "outputs": [
        {
          "output_type": "display_data",
          "data": {
            "text/plain": [
              "<Figure size 1000x600 with 1 Axes>"
            ],
            "image/png": "[encoded data removed]"
          },
          "metadata": {}
        }
      ],
      "source": [
        "plt.figure(figsize=(10, 6))\n",
        "plt.plot(train_loss_history, label='Train Loss', color='blue')\n",
        "plt.plot(val_loss_history, label='Validation Loss', color='orange')\n",
        "plt.xlabel('Epoch')\n",
        "plt.ylabel('Loss')\n",
        "plt.title('Biểu đồ Train Loss và Validation Loss')\n",
        "plt.legend()\n",
        "plt.show()\n"
      ]
    }
  ],
  "metadata": {
    "accelerator": "GPU",
    "colab": {
      "collapsed_sections": [
        "FLFPr5pR06GA",
        "8TFziXHQ086C",
        "ZIUHZaak1EXf",
        "mmV8rnw11Qa7",
        "-h_dyBjE1rJI"
      ],
      "gpuType": "T4",
      "provenance": [],
      "include_colab_link": true
    },
    "kaggle": {
      "accelerator": "gpu",
      "dataSources": [
        {
          "datasetId": 6268554,
          "sourceId": 10153459,
          "sourceType": "datasetVersion"
        }
      ],
      "dockerImageVersionId": 30805,
      "isGpuEnabled": true,
      "isInternetEnabled": true,
      "language": "python",
      "sourceType": "notebook"
    },
    "kernelspec": {
      "display_name": "Python 3",
      "name": "python3"
    },
    "language_info": {
      "codemirror_mode": {
        "name": "ipython",
        "version": 3
      },
      "file_extension": ".py",
      "mimetype": "text/x-python",
      "name": "python",
      "nbconvert_exporter": "python",
      "pygments_lexer": "ipython3",
      "version": "3.10.14"
    }
  },
  "nbformat": 4,
  "nbformat_minor": 0
}